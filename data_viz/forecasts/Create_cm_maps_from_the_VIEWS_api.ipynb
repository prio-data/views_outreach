{
 "cells": [
  {
   "cell_type": "markdown",
   "id": "27b80be5-9389-44f5-83ee-1ad397810d20",
   "metadata": {},
   "source": [
    "# Plot data from the VIEWS API, CM level"
   ]
  },
  {
   "cell_type": "code",
   "execution_count": null,
   "id": "526f48aa",
   "metadata": {},
   "outputs": [],
   "source": [
    "# TODO: Needs refactoring and incorporating automatic production of pgm maps for the same data selection. PGM is currently a separate file. "
   ]
  },
  {
   "cell_type": "code",
   "execution_count": null,
   "id": "e80eabce-2efc-4ff4-8c77-80a7286a5be2",
   "metadata": {
    "tags": []
   },
   "outputs": [],
   "source": [
    "import requests\n",
    "import pandas as pd\n",
    "import json\n",
    "import os\n",
    "from pathlib import Path\n",
    "\n",
    "#import matplotlib.pyplot as plt\n",
    "\n",
    "# External\n",
    "import geopandas as gpd\n",
    "import sqlalchemy as sa\n",
    "\n",
    "# VIEWS\n",
    "from viewser.operations import fetch\n",
    "from views_mapper2.mapper2 import *\n",
    "from views_mapper2.BBoxWriter import *\n",
    "from views_mapper2.dictionary_writer import *\n",
    "from ingester3.config import source_db_path"
   ]
  },
  {
   "cell_type": "markdown",
   "id": "03d48ac3-17be-4868-8b2e-1824a7937583",
   "metadata": {},
   "source": [
    "## Select forecasts to fetch"
   ]
  },
  {
   "cell_type": "code",
   "execution_count": null,
   "id": "ebe78a1f-a80a-4f2c-ac3f-da9cb0454cde",
   "metadata": {},
   "outputs": [],
   "source": [
    "# List the dataset specified in the URL above\n",
    "\n",
    "model = 'fatalities002'\n",
    "release = '2024_09_t01'\n",
    "dataset = f'{model}_{release}'\n",
    "\n",
    "# Define the URL you want to fetch data from. \n",
    "\n",
    "loa = 'cm'\n",
    "\n",
    "FORECASTS = f'https://api.viewsforecasting.org/{dataset}/{loa}'\n",
    "FORECASTS \n"
   ]
  },
  {
   "cell_type": "markdown",
   "id": "1c8c525b-309e-4839-ace8-d13c75590199",
   "metadata": {},
   "source": [
    "## Set prediction step (month) to analyze"
   ]
  },
  {
   "cell_type": "code",
   "execution_count": null,
   "id": "81342c1f-26c8-4ac7-a50e-490d1910db50",
   "metadata": {},
   "outputs": [],
   "source": [
    "step = 3 # set step to plot"
   ]
  },
  {
   "cell_type": "markdown",
   "id": "7b758c52",
   "metadata": {},
   "source": [
    "## Fetch forecasts from VIEWS API"
   ]
  },
  {
   "cell_type": "code",
   "execution_count": null,
   "id": "3b02f7e3-d2ec-461e-91ed-d549765a3412",
   "metadata": {},
   "outputs": [],
   "source": [
    "# Request function\n",
    "r = requests.get(FORECASTS)\n",
    "\n",
    "#The set page size \n",
    "PAGE_SIZE=1000\n",
    "\n",
    "#Define the full request \n",
    "req_url=FORECASTS #+'/'+str()+'?'+'pagesize='+str(PAGE_SIZE)\n",
    "    \n",
    "master_list=[]\n",
    "r=requests.get(req_url)\n",
    "page_data=r.json()\n",
    "\n",
    "list(page_data)"
   ]
  },
  {
   "cell_type": "code",
   "execution_count": null,
   "id": "4d6eb811-4cd7-461a-ab86-221767a9f986",
   "metadata": {},
   "outputs": [],
   "source": [
    "# The loop to keep fetching pages until all data is accessed \n",
    "\n",
    "master_list+=page_data['data']\n",
    "    \n",
    "while page_data['next_page'] != '':\n",
    "    r=requests.get(page_data['next_page'])\n",
    "    page_data=r.json()\n",
    "\n",
    "    master_list+=page_data['data']\n",
    "        \n",
    "forecasts=pd.DataFrame(master_list)\n",
    "forecasts"
   ]
  },
  {
   "cell_type": "code",
   "execution_count": null,
   "id": "18a0a573",
   "metadata": {},
   "outputs": [],
   "source": [
    "model"
   ]
  },
  {
   "cell_type": "code",
   "execution_count": null,
   "id": "90e1087c",
   "metadata": {},
   "outputs": [],
   "source": [
    "# Filter out the relevant data columns, and rename them where needed\n",
    "\n",
    "if model == 'fatalities001':\n",
    "        columns_to_keep=['country_id','month_id','sc_cm_sb_main']\n",
    "        forecasts = forecasts[columns_to_keep].copy()\n",
    "        forecasts.rename(columns={'sc_cm_sb_main':'main_mean_ln'}, inplace=True)\n",
    "        print('Here is the filtered and renamed dataframe for the fatalities001 model:')\n",
    "        \n",
    "if model == 'fatalities002':\n",
    "        columns_to_keep=['country_id','month_id','main_mean', 'main_mean_ln']\n",
    "        forecasts = forecasts[columns_to_keep].copy()\n",
    "        print('Here is the filtered dataframe for the fatalities002 model:')\n",
    "\n",
    "forecasts"
   ]
  },
  {
   "cell_type": "code",
   "execution_count": null,
   "id": "7ce673b8",
   "metadata": {},
   "outputs": [],
   "source": [
    "# Add relevant transforms of the main output column\n",
    "\n",
    "forecasts['main_mean_ln2'] = np.log1p(forecasts['main_mean_ln']).astype(float)\n",
    "print('Added a column for ln2 version of main_mean_ln. See below.')\n",
    "\n",
    "\n",
    "if model == 'fatalities001':\n",
    "    forecasts['main_mean'] = np.expm1(forecasts['main_mean_ln'])\n",
    "    print('Added a column for the linear version of main_mean_ln. See below.')\n",
    "forecasts"
   ]
  },
  {
   "cell_type": "code",
   "execution_count": null,
   "id": "c261e354",
   "metadata": {},
   "outputs": [],
   "source": [
    "# Generate month to plot based on first month of selected dataset and the step chosen above\n",
    "\n",
    "t = (forecasts['month_id'].min())-1\n",
    "month_to_plot = t + step \n",
    "month_to_plot"
   ]
  },
  {
   "cell_type": "markdown",
   "id": "04b33185",
   "metadata": {},
   "source": [
    "## Set output folder"
   ]
  },
  {
   "cell_type": "code",
   "execution_count": null,
   "id": "a7f5111e",
   "metadata": {},
   "outputs": [],
   "source": [
    "import os\n",
    "home = os.path.expanduser(\"~\")\n",
    "#dropbox = home+'/ViEWS Dropbox/VIEWS research collaboration/Dissemination/Working Papers/Prediction Competition Preprint Maps/'\n",
    "desktop = home+'/Desktop/' # (Toggle on to save to desktop) Change to your directory\n",
    "#forecasts.to_csv(desktop+'forecasts.csv', index=False)"
   ]
  },
  {
   "cell_type": "markdown",
   "id": "98a34ade-5142-442b-9a1d-72eba3504194",
   "metadata": {},
   "source": [
    "## Fetch geometries for plotting and merge with dataframe"
   ]
  },
  {
   "cell_type": "code",
   "execution_count": null,
   "id": "c72f9235-8a2e-4206-8006-16cc056fc21e",
   "metadata": {},
   "outputs": [],
   "source": [
    "engine = sa.create_engine(source_db_path) \n",
    "gdf_ci_master = gpd.GeoDataFrame.from_postgis(\n",
    "    \"SELECT id as country_id, name, in_africa, in_me, geom FROM prod.country\",\n",
    "    engine,\n",
    "    geom_col='geom'\n",
    ")\n",
    "gdf_ci_master = gdf_ci_master.to_crs(4326)\n",
    "gdf_c = gdf_ci_master.copy()\n"
   ]
  },
  {
   "cell_type": "code",
   "execution_count": null,
   "id": "b55824db",
   "metadata": {},
   "outputs": [],
   "source": [
    "gdf_c"
   ]
  },
  {
   "cell_type": "code",
   "execution_count": null,
   "id": "997b6adf",
   "metadata": {},
   "outputs": [],
   "source": [
    "data = pd.merge(forecasts, gdf_c, on=\"country_id\", how=\"left\")\n",
    "data"
   ]
  },
  {
   "cell_type": "code",
   "execution_count": null,
   "id": "2c4c1389",
   "metadata": {},
   "outputs": [],
   "source": [
    "gdf = gpd.GeoDataFrame(data, geometry=\"geom\")\n",
    "gdf"
   ]
  },
  {
   "cell_type": "markdown",
   "id": "57bd9f27-986b-4292-86e8-333b6f597d1f",
   "metadata": {},
   "source": [
    "## Plot settings"
   ]
  },
  {
   "cell_type": "markdown",
   "id": "f48ff2e3-1273-4968-9989-cfa622f1f338",
   "metadata": {},
   "source": [
    "### Overwrite relevant Mapper2 functions for flexibility in settings"
   ]
  },
  {
   "cell_type": "code",
   "execution_count": null,
   "id": "13a1d6ef",
   "metadata": {},
   "outputs": [],
   "source": [
    "from views_mapper2.mapper2 import Mapper2\n",
    "\n",
    "def custom_add_colorbar(\n",
    "    self,\n",
    "    cmap,\n",
    "    vmin,\n",
    "    vmax,\n",
    "    location=\"right\",\n",
    "    size=\"5%\",\n",
    "    pad=0.1,\n",
    "    transparency=None,\n",
    "    labelsize=10,\n",
    "    tickparams=None,\n",
    "):\n",
    "    norm = plt.Normalize(vmin, vmax)\n",
    "    if isinstance(cmap, str):\n",
    "        cmap = plt.get_cmap(cmap)\n",
    "    cmap = color.force_alpha_colormap(cmap=cmap, alpha=transparency)\n",
    "    scalar_to_rgba = plt.cm.ScalarMappable(cmap=cmap, norm=norm)\n",
    "    divider = make_axes_locatable(self.ax)\n",
    "    self.cax = divider.append_axes(location, size, pad)\n",
    "    self.cax.tick_params(labelsize=labelsize)\n",
    "\n",
    "    tickvalues = (\n",
    "        list(tickparams.values()) if tickparams is not None else None\n",
    "    )\n",
    "    self.cbar = plt.colorbar(\n",
    "        scalar_to_rgba, cax=self.cax, ticks=tickvalues\n",
    "    )\n",
    "    if tickparams is not None:\n",
    "        self.cbar.set_ticklabels(list(tickparams.keys()))\n",
    "    return self\n",
    "\n",
    "# Monkey patch the method\n",
    "Mapper2.add_colorbar = custom_add_colorbar\n",
    "\n",
    "\n"
   ]
  },
  {
   "cell_type": "markdown",
   "id": "9a0d292a",
   "metadata": {},
   "source": [
    "### Set labels for plotted months in the file paths"
   ]
  },
  {
   "cell_type": "code",
   "execution_count": null,
   "id": "3fa7a99c",
   "metadata": {},
   "outputs": [],
   "source": [
    "\n",
    "#if month_to_plot == 546:\n",
    " #   month_in_filepath = '546(June2025)'"
   ]
  },
  {
   "cell_type": "markdown",
   "id": "4ce85332",
   "metadata": {},
   "source": [
    "### Plot and save the data"
   ]
  },
  {
   "cell_type": "code",
   "execution_count": null,
   "id": "cdc3f7a7",
   "metadata": {},
   "outputs": [],
   "source": [
    "filtered_gdf = gdf[gdf['month_id'] == month_to_plot]  \n",
    "\n",
    "region = 'ame' #options are 'ame', 'me' or 'globe'\n",
    "\n",
    "cmap = ['rainbow', 'binary']\n",
    "\n",
    "for cmaps in cmap:\n",
    "    test_map = Mapper2(\n",
    "        width=10,   # dimension width\n",
    "        height=10,  # dimension height\n",
    "        frame_on=True,\n",
    "        bbox=bbox_from_cid(f'{region}'), \n",
    "    ).add_layer(\n",
    "        gdf=filtered_gdf,  \n",
    "        cmap=cmaps,\n",
    "        transparency=1,\n",
    "        background=None, \n",
    "        map_dictionary=dictionary_stand_1p_10k, # changed based on column\n",
    "        edgecolor=\"black\",  # border color choice\n",
    "        linewidth=0.1,  # line size choice\n",
    "        column=\"main_mean_ln\", \n",
    "    )\n",
    "    \n",
    "    # Jim procedure for country border creation using the geometries inherent to views3\n",
    "  #  ax = test_map.ax\n",
    "   # gdf_c.plot(ax=ax, edgecolor='black', linewidth=0.05, facecolor='None')\n",
    "\n",
    "    # Print map status\n",
    "    print(f'{cmaps} map all done!')\n",
    "\n",
    "    # Save the map with appropriate filename\n",
    "    test_map.save(f'{desktop}/map_{dataset}_{loa}_s{step}_for_m{month_to_plot}_ln1_{region}_{cmaps}', dpi=350)"
   ]
  },
  {
   "cell_type": "code",
   "execution_count": null,
   "id": "8f3c7ea9-93f9-41cc-a6a6-2518c77fbf49",
   "metadata": {},
   "outputs": [],
   "source": []
  },
  {
   "cell_type": "code",
   "execution_count": null,
   "id": "c373cc1e",
   "metadata": {},
   "outputs": [],
   "source": []
  }
 ],
 "metadata": {
  "kernelspec": {
   "display_name": "Python 3 (ipykernel)",
   "language": "python",
   "name": "python3"
  },
  "language_info": {
   "codemirror_mode": {
    "name": "ipython",
    "version": 3
   },
   "file_extension": ".py",
   "mimetype": "text/x-python",
   "name": "python",
   "nbconvert_exporter": "python",
   "pygments_lexer": "ipython3",
   "version": "3.11.10"
  }
 },
 "nbformat": 4,
 "nbformat_minor": 5
}
