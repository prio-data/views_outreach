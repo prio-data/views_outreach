{
 "cells": [
  {
   "cell_type": "markdown",
   "id": "67933913-50c8-49df-b7aa-6a4ab41c39c7",
   "metadata": {},
   "source": [
    "# Fetch and plot data from multiple runs in the VIEWS API\n",
    "## Example for Sudan Sept 2022-Aug 2025\n",
    "\n",
    "This notebook allows users to fetch and download large data from the VIEWS API, uninhibited by the API's page limit. \n",
    "\n",
    "**No certificates/special access tokens are required.**"
   ]
  },
  {
   "cell_type": "code",
   "execution_count": null,
   "id": "bf6c1eb2-db38-4b6e-a557-be075a2cf45b",
   "metadata": {},
   "outputs": [],
   "source": [
    "import requests\n",
    "import json\n",
    "import numpy as np\n",
    "import pandas as pd\n",
    "import matplotlib.pyplot as plt\n",
    "import matplotlib.cbook as cbook\n",
    "from views_mapper2.label_writer import *"
   ]
  },
  {
   "cell_type": "code",
   "execution_count": null,
   "id": "24c105d1-4a57-4fd4-badb-74f196909725",
   "metadata": {},
   "outputs": [],
   "source": [
    "import os\n",
    "home = os.path.expanduser(\"~\")"
   ]
  },
  {
   "cell_type": "markdown",
   "id": "c6a5f0d4-5887-41a0-a7ba-06c5149165b8",
   "metadata": {},
   "source": [
    "## Define the dataset of interest\n",
    "\n",
    "Please consult https://github.com/prio-data/views_api for guidance. "
   ]
  },
  {
   "cell_type": "code",
   "execution_count": null,
   "id": "f77abbf7",
   "metadata": {},
   "outputs": [],
   "source": [
    "# Define the URL you want to fetch data from. Please consult https://github.com/prio-data/views_api to learn more about filtering out the data of interest and creating the corresponding URL. \n",
    "\n",
    "VIEWS_URL='https://api.viewsforecasting.org/fatalities001_2022_08_t01/cm?iso=SDN'\n",
    "#VIEWS_URL='https://api.viewsforecasting.org/fatalities001_2023_01_t01/cm/sb/sc_cm_sb_main?iso=KEN'"
   ]
  },
  {
   "cell_type": "markdown",
   "id": "2ba4d3e9-db5d-454f-b6a7-8ed8ba209a61",
   "metadata": {},
   "source": [
    "## Definitions for text in the plot"
   ]
  },
  {
   "cell_type": "code",
   "execution_count": null,
   "id": "d7be66ca-fa8a-46b6-a242-3e5c22028ca2",
   "metadata": {},
   "outputs": [],
   "source": [
    "country_name = 'Sudan'"
   ]
  },
  {
   "cell_type": "code",
   "execution_count": null,
   "id": "e56a2c5f-8924-40c7-84d9-87d378ce8cc3",
   "metadata": {},
   "outputs": [],
   "source": [
    "LastInputData = 'Aug 2022'"
   ]
  },
  {
   "cell_type": "code",
   "execution_count": null,
   "id": "ddc34f71-76d6-4e4f-90ea-4baac4fdd825",
   "metadata": {},
   "outputs": [],
   "source": [
    "Dataset = 'fatalities001_2022_08'"
   ]
  },
  {
   "cell_type": "code",
   "execution_count": null,
   "id": "69c6021e-0528-41d5-b958-74ae0280bf3a",
   "metadata": {},
   "outputs": [],
   "source": [
    "StartOfHistory = 'Sept 2022'\n",
    "EndOfHistory =  'Aug 2025'"
   ]
  },
  {
   "cell_type": "markdown",
   "id": "f4635e16-6409-4497-a966-9ff1040b18fc",
   "metadata": {},
   "source": [
    "## Static functions\n",
    "\n",
    "No need to edit this section. "
   ]
  },
  {
   "cell_type": "code",
   "execution_count": null,
   "id": "d802da65",
   "metadata": {},
   "outputs": [],
   "source": [
    "# Request function\n",
    "r = requests.get(VIEWS_URL)"
   ]
  },
  {
   "cell_type": "code",
   "execution_count": null,
   "id": "343874ad",
   "metadata": {},
   "outputs": [],
   "source": [
    "#The set page size \n",
    "PAGE_SIZE=1000"
   ]
  },
  {
   "cell_type": "code",
   "execution_count": null,
   "id": "c334d940",
   "metadata": {},
   "outputs": [],
   "source": [
    "#Define the full request \n",
    "req_url=VIEWS_URL #+'/'+str()+'?'+'pagesize='+str(PAGE_SIZE)\n",
    "    \n",
    "master_list=[]\n",
    "r=requests.get(req_url)\n",
    "page_data=r.json()"
   ]
  },
  {
   "cell_type": "code",
   "execution_count": null,
   "id": "0b04f4c8",
   "metadata": {},
   "outputs": [],
   "source": [
    "list(page_data)"
   ]
  },
  {
   "cell_type": "code",
   "execution_count": null,
   "id": "b088dfaa",
   "metadata": {},
   "outputs": [],
   "source": [
    "# The loop to keep fetching pages until all data is accessed \n",
    "\n",
    "master_list+=page_data['data']\n",
    "    \n",
    "while page_data['next_page'] != '':\n",
    "    r=requests.get(page_data['next_page'])\n",
    "    page_data=r.json()\n",
    "\n",
    "    master_list+=page_data['data']\n",
    "        \n",
    "df1=pd.DataFrame(master_list)"
   ]
  },
  {
   "cell_type": "markdown",
   "id": "e3b473ee-c31f-44c8-9716-f79260c09501",
   "metadata": {},
   "source": [
    "## Inspect the data"
   ]
  },
  {
   "cell_type": "code",
   "execution_count": null,
   "id": "dcf2f372",
   "metadata": {},
   "outputs": [],
   "source": [
    "# Inspect the data to see that it looks correct\n",
    "\n",
    "df1"
   ]
  },
  {
   "cell_type": "markdown",
   "id": "a5919ca8-5408-47ae-85ba-c39fab59a8bd",
   "metadata": {},
   "source": [
    "## Filter by period"
   ]
  },
  {
   "cell_type": "code",
   "execution_count": null,
   "id": "964adb2d-b295-428e-9489-3591d04d6dca",
   "metadata": {},
   "outputs": [],
   "source": [
    "# Call the function\n",
    "\n",
    "#def vid2date(i):\n",
    "#    year=str(1980 + i//12)\n",
    "#    month=str(i%12)\n",
    "#    return year+'/'+month"
   ]
  },
  {
   "cell_type": "code",
   "execution_count": null,
   "id": "ac8a141c-35ed-4c7c-8400-392ed8711196",
   "metadata": {},
   "outputs": [],
   "source": [
    "# Translate year-month to VIEWS month ID\n",
    "\n",
    "#print(ViewsMonth.from_year_month(year=2022, month=8)) "
   ]
  },
  {
   "cell_type": "code",
   "execution_count": null,
   "id": "7b3bb41a-b538-4034-8da1-b39240127487",
   "metadata": {},
   "outputs": [],
   "source": [
    "# df_filtered = df.query('month_id > 500')\n"
   ]
  },
  {
   "cell_type": "code",
   "execution_count": null,
   "id": "9c81ff25-3164-496e-9c9f-acd1e3aac788",
   "metadata": {},
   "outputs": [],
   "source": [
    "# df_filtered"
   ]
  },
  {
   "cell_type": "markdown",
   "id": "887c563d-b78b-423b-8fcd-0ea1ba7ada35",
   "metadata": {},
   "source": [
    "## For *fatalities001*: convert results from logged to non-logged"
   ]
  },
  {
   "cell_type": "code",
   "execution_count": null,
   "id": "e63c5796-3d7b-4362-8f33-e0b8c5df5572",
   "metadata": {},
   "outputs": [],
   "source": [
    "df1[f'{Dataset}'] = np.exp(df1['sc_cm_sb_main'])-1\n",
    "df1['Date'] = df1['year'].astype(str) +'-'+ df1['month'].astype(str)\n",
    "df1"
   ]
  },
  {
   "cell_type": "code",
   "execution_count": null,
   "id": "615a1578-5275-4165-b665-2428a128e4c6",
   "metadata": {},
   "outputs": [],
   "source": [
    "# Create the line graph\n",
    "df1.plot(y=f'{Dataset}', x='Date', label=f\"Predicted fatalities (last input data: {LastInputData})\", figsize=(10, 4))\n",
    "\n",
    "# Customize the graph\n",
    "plt.title(f\"Predicted fatalities for {country_name} (last input data: {LastInputData})\")\n",
    "plt.xlabel(\"Month\")\n",
    "plt.xticks(rotation = 80) # Rotates X-Axis Ticks by 45-degrees\n",
    "plt.ylabel(\"Predicted fatalities\")\n",
    "plt.grid()\n",
    "ax = plt.gca()\n",
    "#ax.set_xlim([xmin, xmax])\n",
    "ax.set_ylim([0, 300])\n",
    "\n",
    "plt.savefig(f'/Users/angli742/Desktop/Prediction_{Dataset}_{country_name}.png', bbox_inches='tight')\n",
    "plt.show()"
   ]
  },
  {
   "cell_type": "markdown",
   "id": "21cf0da0-47fb-40e3-a0ad-515aa715bbb5",
   "metadata": {
    "tags": []
   },
   "source": [
    "## Df2"
   ]
  },
  {
   "cell_type": "code",
   "execution_count": null,
   "id": "4c198cb3-a2dc-4910-9b38-7742706d579f",
   "metadata": {},
   "outputs": [],
   "source": [
    "LastInputData = 'Sep 2022'\n",
    "Dataset = 'fatalities001_2022_09'\n",
    "StartOfHistory = 'Oct 2022'\n",
    "EndOfHistory =  'Sep 2025'\n",
    "\n",
    "VIEWS_URL='https://api.viewsforecasting.org/fatalities001_2022_09_t01/cm/sb/sc_cm_sb_main?iso=SDN'\n",
    "\n",
    "r = requests.get(VIEWS_URL)\n",
    "PAGE_SIZE=1000\n",
    "req_url=VIEWS_URL \n",
    "    \n",
    "master_list=[]\n",
    "r=requests.get(req_url)\n",
    "page_data=r.json()\n",
    "\n",
    "list(page_data)\n",
    "\n",
    "master_list+=page_data['data']\n",
    "    \n",
    "while page_data['next_page'] != '':\n",
    "    r=requests.get(page_data['next_page'])\n",
    "    page_data=r.json()\n",
    "\n",
    "    master_list+=page_data['data']\n",
    "        \n",
    "df2=pd.DataFrame(master_list)\n",
    "df2"
   ]
  },
  {
   "cell_type": "code",
   "execution_count": null,
   "id": "2cb1549a-e9e7-4f06-b098-0c3eeb474c7f",
   "metadata": {},
   "outputs": [],
   "source": [
    "df2[f'{Dataset}'] = np.exp(df2['sc_cm_sb_main'])-1\n",
    "df2['Date'] = df2['year'].astype(str) +'-'+ df2['month'].astype(str)\n",
    "df2"
   ]
  },
  {
   "cell_type": "code",
   "execution_count": null,
   "id": "7c633ff5-f9d0-4147-a574-415850fc1d4d",
   "metadata": {},
   "outputs": [],
   "source": [
    "# Create the line graph\n",
    "df2.plot(y=f'{Dataset}', x='Date', label=f\"Predicted fatalities (last input data: {LastInputData})\", figsize=(10, 4))\n",
    "\n",
    "# Customize the graph\n",
    "plt.title(f\"Predicted fatalities for {country_name} (last input data: {LastInputData})\")\n",
    "plt.xlabel(\"Month\")\n",
    "plt.xticks(rotation = 80) # Rotates X-Axis Ticks by 45-degrees\n",
    "plt.ylabel(\"Predicted fatalities\")\n",
    "plt.grid()\n",
    "ax = plt.gca()\n",
    "#ax.set_xlim([xmin, xmax])\n",
    "ax.set_ylim([0, 300])\n",
    "\n",
    "plt.savefig(f'/Users/angli742/Desktop/Prediction_{Dataset}_{country_name}.png', bbox_inches='tight')\n",
    "plt.show()"
   ]
  },
  {
   "cell_type": "code",
   "execution_count": null,
   "id": "e22f2134-ba98-402a-b273-3dc826e9e96b",
   "metadata": {},
   "outputs": [],
   "source": []
  },
  {
   "cell_type": "markdown",
   "id": "3d402d61-890a-4b81-bf63-dbf6acdda107",
   "metadata": {},
   "source": [
    "## Df3"
   ]
  },
  {
   "cell_type": "code",
   "execution_count": null,
   "id": "58ae3ac1-e338-4b79-832c-4e37da1d84cc",
   "metadata": {},
   "outputs": [],
   "source": [
    "LastInputData = 'Oct 2022'\n",
    "Dataset = 'fatalities001_2022_10'\n",
    "StartOfHistory = 'Nov 2022'\n",
    "EndOfHistory =  'Oct 2025'\n",
    "\n",
    "VIEWS_URL='https://api.viewsforecasting.org/fatalities001_2022_10_t01/cm/sb/sc_cm_sb_main?iso=SDN'\n",
    "\n",
    "r = requests.get(VIEWS_URL)\n",
    "PAGE_SIZE=1000\n",
    "req_url=VIEWS_URL \n",
    "    \n",
    "master_list=[]\n",
    "r=requests.get(req_url)\n",
    "page_data=r.json()\n",
    "\n",
    "list(page_data)\n",
    "\n",
    "master_list+=page_data['data']\n",
    "    \n",
    "while page_data['next_page'] != '':\n",
    "    r=requests.get(page_data['next_page'])\n",
    "    page_data=r.json()\n",
    "\n",
    "    master_list+=page_data['data']\n",
    "        \n",
    "df3=pd.DataFrame(master_list)\n",
    "df3"
   ]
  },
  {
   "cell_type": "code",
   "execution_count": null,
   "id": "d4ddb9f2-c3be-424a-83a7-3fc6b25ee3d8",
   "metadata": {},
   "outputs": [],
   "source": [
    "df3[f'{Dataset}'] = np.exp(df3['sc_cm_sb_main'])-1\n",
    "df3['Date'] = df2['year'].astype(str) +'-'+ df3['month'].astype(str)\n",
    "df3"
   ]
  },
  {
   "cell_type": "code",
   "execution_count": null,
   "id": "09c420f7-4c17-4c7d-a09a-a063a07c13b3",
   "metadata": {},
   "outputs": [],
   "source": [
    "# Create the line graph\n",
    "df3.plot(y=f'{Dataset}', x='Date', label=f\"Predicted fatalities (last input data: {LastInputData})\", figsize=(10, 4))\n",
    "\n",
    "# Customize the graph\n",
    "plt.title(f\"Predicted fatalities for {country_name} (last input data: {LastInputData})\")\n",
    "plt.xlabel(\"Month\")\n",
    "plt.xticks(rotation = 80) # Rotates X-Axis Ticks by 45-degrees\n",
    "plt.ylabel(\"Predicted fatalities\")\n",
    "plt.grid()\n",
    "ax = plt.gca()\n",
    "#ax.set_xlim([xmin, xmax])\n",
    "ax.set_ylim([0, 300])\n",
    "\n",
    "plt.savefig(f'/Users/angli742/Desktop/Prediction_{Dataset}_{country_name}.png', bbox_inches='tight')\n",
    "plt.show()"
   ]
  },
  {
   "cell_type": "markdown",
   "id": "744cf2a2-28a0-40d2-8013-3e792321fe47",
   "metadata": {},
   "source": [
    "## Df4"
   ]
  },
  {
   "cell_type": "code",
   "execution_count": null,
   "id": "9de55273-89d5-4ebd-9546-ab5e05c5eed6",
   "metadata": {},
   "outputs": [],
   "source": [
    "LastInputData = 'Nov 2022'\n",
    "Dataset = 'fatalities001_2022_11'\n",
    "StartOfHistory = 'Dec 2022'\n",
    "EndOfHistory =  'Nov 2025'\n",
    "\n",
    "VIEWS_URL='https://api.viewsforecasting.org/fatalities001_2022_11_t01/cm/sb/sc_cm_sb_main?iso=SDN'\n",
    "\n",
    "r = requests.get(VIEWS_URL)\n",
    "PAGE_SIZE=1000\n",
    "req_url=VIEWS_URL \n",
    "    \n",
    "master_list=[]\n",
    "r=requests.get(req_url)\n",
    "page_data=r.json()\n",
    "\n",
    "list(page_data)\n",
    "\n",
    "master_list+=page_data['data']\n",
    "    \n",
    "while page_data['next_page'] != '':\n",
    "    r=requests.get(page_data['next_page'])\n",
    "    page_data=r.json()\n",
    "\n",
    "    master_list+=page_data['data']\n",
    "        \n",
    "df4=pd.DataFrame(master_list)\n",
    "df4"
   ]
  },
  {
   "cell_type": "code",
   "execution_count": null,
   "id": "c83b34d5-6dd0-4dd1-a7e1-78dc3231339c",
   "metadata": {},
   "outputs": [],
   "source": [
    "df4[f'{Dataset}'] = np.exp(df4['sc_cm_sb_main'])-1\n",
    "df4['Date'] = df4['year'].astype(str) +'-'+ df4['month'].astype(str)\n",
    "df4"
   ]
  },
  {
   "cell_type": "code",
   "execution_count": null,
   "id": "024e319c-5fc0-4d1a-92a1-a600ed1605d4",
   "metadata": {},
   "outputs": [],
   "source": [
    "# Create the line graph\n",
    "df4.plot(y=f'{Dataset}', x='Date', label=f\"Predicted fatalities (last input data: {LastInputData})\", figsize=(10, 4))\n",
    "\n",
    "# Customize the graph\n",
    "plt.title(f\"Predicted fatalities for {country_name} (last input data: {LastInputData})\")\n",
    "plt.xlabel(\"Month\")\n",
    "plt.xticks(rotation = 80) # Rotates X-Axis Ticks by 45-degrees\n",
    "plt.ylabel(\"Predicted fatalities\")\n",
    "plt.grid()\n",
    "ax = plt.gca()\n",
    "#ax.set_xlim([xmin, xmax])\n",
    "ax.set_ylim([0, 300])\n",
    "\n",
    "plt.savefig(f'/Users/angli742/Desktop/Prediction_{Dataset}_{country_name}.png', bbox_inches='tight')\n",
    "plt.show()"
   ]
  },
  {
   "cell_type": "markdown",
   "id": "75c0dc5b-d4cc-4319-97d5-6c22fcb33d32",
   "metadata": {},
   "source": [
    "## Df5"
   ]
  },
  {
   "cell_type": "code",
   "execution_count": null,
   "id": "2b57d1c9-2f87-4443-b097-2be764c29047",
   "metadata": {},
   "outputs": [],
   "source": [
    "LastInputData = 'Dec 2022'\n",
    "Dataset = 'fatalities001_2022_12'\n",
    "StartOfHistory = 'Jan 2023'\n",
    "EndOfHistory =  'Dec 2025'\n",
    "\n",
    "VIEWS_URL='https://api.viewsforecasting.org/fatalities001_2023_00_t01/cm/sb/sc_cm_sb_main?iso=SDN'\n",
    "\n",
    "r = requests.get(VIEWS_URL)\n",
    "PAGE_SIZE=1000\n",
    "req_url=VIEWS_URL \n",
    "    \n",
    "master_list=[]\n",
    "r=requests.get(req_url)\n",
    "page_data=r.json()\n",
    "\n",
    "list(page_data)\n",
    "\n",
    "master_list+=page_data['data']\n",
    "    \n",
    "while page_data['next_page'] != '':\n",
    "    r=requests.get(page_data['next_page'])\n",
    "    page_data=r.json()\n",
    "\n",
    "    master_list+=page_data['data']\n",
    "        \n",
    "df5=pd.DataFrame(master_list)\n",
    "df5"
   ]
  },
  {
   "cell_type": "code",
   "execution_count": null,
   "id": "cc645e73-52cc-4a54-988c-e28a6ab1ba6e",
   "metadata": {},
   "outputs": [],
   "source": [
    "df5[f'{Dataset}'] = np.exp(df5['sc_cm_sb_main'])-1\n",
    "df5['Date'] = df5['year'].astype(str) +'-'+ df5['month'].astype(str)\n",
    "df5"
   ]
  },
  {
   "cell_type": "code",
   "execution_count": null,
   "id": "6f53c556-a9be-4a63-9544-6f83a3eb876f",
   "metadata": {},
   "outputs": [],
   "source": [
    "# Create the line graph\n",
    "df5.plot(y=f'{Dataset}', x='Date', label=f\"Predicted fatalities (last input data: {LastInputData})\", figsize=(10, 4))\n",
    "\n",
    "# Customize the graph\n",
    "plt.title(f\"Predicted fatalities for {country_name} (last input data: {LastInputData})\")\n",
    "plt.xlabel(\"Month\")\n",
    "plt.xticks(rotation = 80) # Rotates X-Axis Ticks by 45-degrees\n",
    "plt.ylabel(\"Predicted fatalities\")\n",
    "plt.grid()\n",
    "ax = plt.gca()\n",
    "#ax.set_xlim([xmin, xmax])\n",
    "ax.set_ylim([0, 300])\n",
    "\n",
    "plt.savefig(f'/Users/angli742/Desktop/Prediction_{Dataset}_{country_name}.png', bbox_inches='tight')\n",
    "plt.show()"
   ]
  },
  {
   "cell_type": "markdown",
   "id": "15730217-9f85-4a87-b04b-b520934b2cf3",
   "metadata": {},
   "source": [
    "## Df6"
   ]
  },
  {
   "cell_type": "code",
   "execution_count": null,
   "id": "59bcb67c-9d24-4dfb-a33d-9b8c1bb77ad9",
   "metadata": {},
   "outputs": [],
   "source": [
    "LastInputData = 'Jan 2023'\n",
    "Dataset = 'fatalities001_2023_01'\n",
    "StartOfHistory = 'Feb 2023'\n",
    "EndOfHistory =  'Jan 2026'\n",
    "\n",
    "VIEWS_URL='https://api.viewsforecasting.org/fatalities001_2023_01_t01/cm/sb/sc_cm_sb_main?iso=SDN'\n",
    "\n",
    "r = requests.get(VIEWS_URL)\n",
    "PAGE_SIZE=1000\n",
    "req_url=VIEWS_URL \n",
    "    \n",
    "master_list=[]\n",
    "r=requests.get(req_url)\n",
    "page_data=r.json()\n",
    "\n",
    "list(page_data)\n",
    "\n",
    "master_list+=page_data['data']\n",
    "    \n",
    "while page_data['next_page'] != '':\n",
    "    r=requests.get(page_data['next_page'])\n",
    "    page_data=r.json()\n",
    "\n",
    "    master_list+=page_data['data']\n",
    "        \n",
    "df6=pd.DataFrame(master_list)\n",
    "df6"
   ]
  },
  {
   "cell_type": "code",
   "execution_count": null,
   "id": "71fd121a-4ab6-4014-b54a-99e82edbde70",
   "metadata": {},
   "outputs": [],
   "source": [
    "df6[f'{Dataset}'] = np.exp(df6['sc_cm_sb_main'])-1\n",
    "df6['Date'] = df6['year'].astype(str) +'-'+ df6['month'].astype(str)\n",
    "df6"
   ]
  },
  {
   "cell_type": "code",
   "execution_count": null,
   "id": "bfd6f14e-04c8-44fa-977b-f9df63e72613",
   "metadata": {},
   "outputs": [],
   "source": [
    "# Create the line graph\n",
    "df6.plot(y=f'{Dataset}', x='Date', label=f\"Predicted fatalities (last input data: {LastInputData})\", figsize=(10, 4))\n",
    "\n",
    "# Customize the graph\n",
    "plt.title(f\"Predicted fatalities for {country_name} (last input data: {LastInputData})\")\n",
    "plt.xlabel(\"Month\")\n",
    "plt.xticks(rotation = 80) # Rotates X-Axis Ticks by 45-degrees\n",
    "plt.ylabel(\"Predicted fatalities\")\n",
    "plt.grid()\n",
    "ax = plt.gca()\n",
    "#ax.set_xlim([xmin, xmax])\n",
    "ax.set_ylim([0, 300])\n",
    "\n",
    "plt.savefig(f'/Users/angli742/Desktop/Prediction_{Dataset}_{country_name}.png', bbox_inches='tight')\n",
    "plt.show()"
   ]
  },
  {
   "cell_type": "markdown",
   "id": "68bae03d-963b-4cf2-8c2f-95b115f32202",
   "metadata": {},
   "source": [
    "## Df7"
   ]
  },
  {
   "cell_type": "code",
   "execution_count": null,
   "id": "eb880288-cb8c-4233-9474-8d926155e588",
   "metadata": {},
   "outputs": [],
   "source": [
    "LastInputData = 'Feb 2023'\n",
    "Dataset = 'fatalities002_2023_02'\n",
    "StartOfHistory = 'Mar 2023'\n",
    "EndOfHistory =  'Feb 2026'\n",
    "\n",
    "VIEWS_URL='https://api.viewsforecasting.org/fatalities001_2023_02_t01/cm/sb/sc_cm_sb_main?iso=SDN'\n",
    "\n",
    "r = requests.get(VIEWS_URL)\n",
    "PAGE_SIZE=1000\n",
    "req_url=VIEWS_URL \n",
    "    \n",
    "master_list=[]\n",
    "r=requests.get(req_url)\n",
    "page_data=r.json()\n",
    "\n",
    "list(page_data)\n",
    "\n",
    "master_list+=page_data['data']\n",
    "    \n",
    "while page_data['next_page'] != '':\n",
    "    r=requests.get(page_data['next_page'])\n",
    "    page_data=r.json()\n",
    "\n",
    "    master_list+=page_data['data']\n",
    "        \n",
    "df7=pd.DataFrame(master_list)\n",
    "df7"
   ]
  },
  {
   "cell_type": "code",
   "execution_count": null,
   "id": "3323c08b-1cc8-4ae3-8c9f-5a95ae3768af",
   "metadata": {},
   "outputs": [],
   "source": [
    "df7[f'{Dataset}'] = np.exp(df7['sc_cm_sb_main'])-1\n",
    "df7['Date'] = df7['year'].astype(str) +'-'+ df7['month'].astype(str)\n",
    "df7"
   ]
  },
  {
   "cell_type": "code",
   "execution_count": null,
   "id": "8ab201fe-18a8-40bd-b330-5ed65998fa49",
   "metadata": {},
   "outputs": [],
   "source": [
    "# Create the line graph\n",
    "df7.plot(y=f'{Dataset}', x='Date', label=f\"Predicted fatalities (last input data: {LastInputData})\", figsize=(10, 4))\n",
    "\n",
    "# Customize the graph\n",
    "plt.title(f\"Predicted fatalities for {country_name} (last input data: {LastInputData})\")\n",
    "plt.xlabel(\"Month\")\n",
    "plt.xticks(rotation = 80) # Rotates X-Axis Ticks by 45-degrees\n",
    "plt.ylabel(\"Predicted fatalities\")\n",
    "plt.grid()\n",
    "ax = plt.gca()\n",
    "#ax.set_xlim([xmin, xmax])\n",
    "ax.set_ylim([0, 300])\n",
    "\n",
    "plt.savefig(f'/Users/angli742/Desktop/Prediction_{Dataset}_{country_name}.png', bbox_inches='tight')\n",
    "plt.show()"
   ]
  },
  {
   "cell_type": "markdown",
   "id": "3cb97fbb-4044-4967-bf62-ef6edbf9406f",
   "metadata": {},
   "source": [
    "## Df8"
   ]
  },
  {
   "cell_type": "code",
   "execution_count": null,
   "id": "9c5601c5-23bf-4588-bd96-33a6d26c73dc",
   "metadata": {},
   "outputs": [],
   "source": [
    "LastInputData = 'Mar 2023'\n",
    "Dataset = 'fatalities001_2023_03'\n",
    "StartOfHistory = 'Apr 2023'\n",
    "EndOfHistory =  'Mar 2026'\n",
    "\n",
    "VIEWS_URL='https://api.viewsforecasting.org/fatalities001_2023_03_t01/cm/sb/sc_cm_sb_main?iso=SDN'\n",
    "\n",
    "r = requests.get(VIEWS_URL)\n",
    "PAGE_SIZE=1000\n",
    "req_url=VIEWS_URL \n",
    "    \n",
    "master_list=[]\n",
    "r=requests.get(req_url)\n",
    "page_data=r.json()\n",
    "\n",
    "list(page_data)\n",
    "\n",
    "master_list+=page_data['data']\n",
    "    \n",
    "while page_data['next_page'] != '':\n",
    "    r=requests.get(page_data['next_page'])\n",
    "    page_data=r.json()\n",
    "\n",
    "    master_list+=page_data['data']\n",
    "        \n",
    "df8=pd.DataFrame(master_list)\n",
    "df8"
   ]
  },
  {
   "cell_type": "code",
   "execution_count": null,
   "id": "15a08293-815b-4eca-a05b-012e28daf8a7",
   "metadata": {},
   "outputs": [],
   "source": [
    "df8[f'{Dataset}'] = np.exp(df8['sc_cm_sb_main'])-1\n",
    "df8['Date'] = df8['year'].astype(str) +'-'+ df8['month'].astype(str)\n",
    "df8"
   ]
  },
  {
   "cell_type": "code",
   "execution_count": null,
   "id": "9846552d-0127-4bed-822a-b424fa2dac94",
   "metadata": {},
   "outputs": [],
   "source": [
    "# Create the line graph\n",
    "df8.plot(y=f'{Dataset}', x='Date', label=f\"Predicted fatalities (last input data: {LastInputData})\", figsize=(10, 4))\n",
    "\n",
    "# Customize the graph\n",
    "plt.title(f\"Predicted fatalities for {country_name} (last input data: {LastInputData})\")\n",
    "plt.xlabel(\"Month\")\n",
    "plt.xticks(rotation = 80) # Rotates X-Axis Ticks by 45-degrees\n",
    "plt.ylabel(\"Predicted fatalities\")\n",
    "plt.grid()\n",
    "ax = plt.gca()\n",
    "#ax.set_xlim([xmin, xmax])\n",
    "ax.set_ylim([0, 300])\n",
    "\n",
    "plt.savefig(f'/Users/angli742/Desktop/Prediction_{Dataset}_{country_name}.png', bbox_inches='tight')\n",
    "plt.show()"
   ]
  },
  {
   "cell_type": "markdown",
   "id": "dc878627-29b5-4bee-acfd-f3a3d5416a00",
   "metadata": {},
   "source": [
    "## Df9"
   ]
  },
  {
   "cell_type": "code",
   "execution_count": null,
   "id": "a9bc37ab-ea8a-4c02-9f6c-d5bd87e9f7a3",
   "metadata": {},
   "outputs": [],
   "source": [
    "LastInputData = 'Apr 2023'\n",
    "Dataset = 'fatalities002_2023_04'\n",
    "StartOfHistory = 'May 2023'\n",
    "EndOfHistory =  'Apr 2026'\n",
    "\n",
    "VIEWS_URL='https://api.viewsforecasting.org/fatalities002_2023_04_t01/cm/sb/main_mean?iso=SDN'\n",
    "\n",
    "r = requests.get(VIEWS_URL)\n",
    "PAGE_SIZE=1000\n",
    "req_url=VIEWS_URL \n",
    "    \n",
    "master_list=[]\n",
    "r=requests.get(req_url)\n",
    "page_data=r.json()\n",
    "\n",
    "list(page_data)\n",
    "\n",
    "master_list+=page_data['data']\n",
    "    \n",
    "while page_data['next_page'] != '':\n",
    "    r=requests.get(page_data['next_page'])\n",
    "    page_data=r.json()\n",
    "\n",
    "    master_list+=page_data['data']\n",
    "        \n",
    "df9=pd.DataFrame(master_list)\n",
    "df9"
   ]
  },
  {
   "cell_type": "code",
   "execution_count": null,
   "id": "9bc22bb2-6cc6-4107-b779-927834090e9d",
   "metadata": {},
   "outputs": [],
   "source": [
    "df9[f'{Dataset}'] = df9['main_mean']\n",
    "df9['Date'] = df9['year'].astype(str) +'-'+ df9['month'].astype(str)\n",
    "df9"
   ]
  },
  {
   "cell_type": "code",
   "execution_count": null,
   "id": "f77729fa-54c2-465b-b1d1-4bd487a6e113",
   "metadata": {},
   "outputs": [],
   "source": [
    "# Create the line graph\n",
    "df9.plot(y=f'{Dataset}', x='Date', label=f\"Predicted fatalities (last input data: {LastInputData})\", figsize=(10, 4))\n",
    "\n",
    "# Customize the graph\n",
    "plt.title(f\"Predicted fatalities for {country_name} (last input data: {LastInputData})\")\n",
    "plt.xlabel(\"Month\")\n",
    "plt.xticks(rotation = 80) # Rotates X-Axis Ticks by 45-degrees\n",
    "plt.ylabel(\"Predicted fatalities\")\n",
    "plt.grid()\n",
    "ax = plt.gca()\n",
    "#ax.set_xlim([xmin, xmax])\n",
    "ax.set_ylim([0, 300])\n",
    "\n",
    "plt.savefig(f'/Users/angli742/Desktop/Prediction_{Dataset}_{country_name}.png', bbox_inches='tight')\n",
    "plt.show()"
   ]
  },
  {
   "cell_type": "markdown",
   "id": "937a5a60-7878-45c4-8baa-7f1a52e63bd4",
   "metadata": {},
   "source": [
    "## Df10"
   ]
  },
  {
   "cell_type": "code",
   "execution_count": null,
   "id": "5a33e284-23bb-41e8-9e75-32429c8d1b00",
   "metadata": {},
   "outputs": [],
   "source": [
    "LastInputData = 'May 2023'\n",
    "Dataset = 'fatalities002_2023_05'\n",
    "StartOfHistory = 'Jun 2023'\n",
    "EndOfHistory =  'May 2026'\n",
    "\n",
    "VIEWS_URL='https://api.viewsforecasting.org/fatalities002_2023_05_t01/cm/sb/main_mean?iso=SDN'\n",
    "\n",
    "r = requests.get(VIEWS_URL)\n",
    "PAGE_SIZE=1000\n",
    "req_url=VIEWS_URL \n",
    "    \n",
    "master_list=[]\n",
    "r=requests.get(req_url)\n",
    "page_data=r.json()\n",
    "\n",
    "list(page_data)\n",
    "\n",
    "master_list+=page_data['data']\n",
    "    \n",
    "while page_data['next_page'] != '':\n",
    "    r=requests.get(page_data['next_page'])\n",
    "    page_data=r.json()\n",
    "\n",
    "    master_list+=page_data['data']\n",
    "        \n",
    "df10=pd.DataFrame(master_list)\n",
    "df10"
   ]
  },
  {
   "cell_type": "code",
   "execution_count": null,
   "id": "5a7ddd2a-f5f5-4297-84ed-b8122a21d143",
   "metadata": {},
   "outputs": [],
   "source": [
    "df10[f'{Dataset}'] = df10['main_mean']\n",
    "df10['Date'] = df2['year'].astype(str) +'-'+ df10['month'].astype(str)\n",
    "df10"
   ]
  },
  {
   "cell_type": "code",
   "execution_count": null,
   "id": "8204e608-81b7-4fd2-a208-8efb77b85081",
   "metadata": {},
   "outputs": [],
   "source": [
    "# Create the line graph\n",
    "df10.plot(y=f'{Dataset}', x='Date', label=f\"Predicted fatalities (last input data: {LastInputData})\", figsize=(10, 4))\n",
    "\n",
    "# Customize the graph\n",
    "plt.title(f\"Predicted fatalities for {country_name} (last input data: {LastInputData})\")\n",
    "plt.xlabel(\"Month\")\n",
    "plt.xticks(rotation = 80) # Rotates X-Axis Ticks by 45-degrees\n",
    "plt.ylabel(\"Predicted fatalities\")\n",
    "plt.grid()\n",
    "ax = plt.gca()\n",
    "#ax.set_xlim([xmin, xmax])\n",
    "ax.set_ylim([0, 300])\n",
    "\n",
    "plt.savefig(f'/Users/angli742/Desktop/Prediction_{Dataset}_{country_name}.png', bbox_inches='tight')\n",
    "plt.show()"
   ]
  },
  {
   "cell_type": "markdown",
   "id": "6cf2e71c-4575-493e-9ee3-6e99a4cff936",
   "metadata": {},
   "source": [
    "## Df11"
   ]
  },
  {
   "cell_type": "code",
   "execution_count": null,
   "id": "7cab04b7-82b5-4a8d-a323-b6da85001e17",
   "metadata": {},
   "outputs": [],
   "source": [
    "LastInputData = 'June 2023'\n",
    "Dataset = 'fatalities002_2023_06'\n",
    "StartOfHistory = 'Jul 2023'\n",
    "EndOfHistory =  'Jun 2026'\n",
    "\n",
    "VIEWS_URL='https://api.viewsforecasting.org/fatalities002_2023_06_t01/cm/sb/main_mean?iso=SDN'\n",
    "\n",
    "r = requests.get(VIEWS_URL)\n",
    "PAGE_SIZE=1000\n",
    "req_url=VIEWS_URL \n",
    "    \n",
    "master_list=[]\n",
    "r=requests.get(req_url)\n",
    "page_data=r.json()\n",
    "\n",
    "list(page_data)\n",
    "\n",
    "master_list+=page_data['data']\n",
    "    \n",
    "while page_data['next_page'] != '':\n",
    "    r=requests.get(page_data['next_page'])\n",
    "    page_data=r.json()\n",
    "\n",
    "    master_list+=page_data['data']\n",
    "        \n",
    "df11=pd.DataFrame(master_list)\n",
    "df11"
   ]
  },
  {
   "cell_type": "code",
   "execution_count": null,
   "id": "ad48d0a0-463a-4669-b003-08692c5a96d4",
   "metadata": {},
   "outputs": [],
   "source": [
    "df11[f'{Dataset}'] = df11['main_mean']\n",
    "df11['Date'] = df11['year'].astype(str) +'-'+ df11['month'].astype(str)\n",
    "df11"
   ]
  },
  {
   "cell_type": "code",
   "execution_count": null,
   "id": "713ffdd8-ce8e-4658-9490-bb0df0ded4ce",
   "metadata": {},
   "outputs": [],
   "source": [
    "# Create the line graph\n",
    "df11.plot(y=f'{Dataset}', x='Date', label=f\"Predicted fatalities (last input data: {LastInputData})\", figsize=(10, 4))\n",
    "\n",
    "# Customize the graph\n",
    "plt.title(f\"Predicted fatalities for {country_name} (last input data: {LastInputData})\")\n",
    "plt.xlabel(\"Month\")\n",
    "plt.xticks(rotation = 80) # Rotates X-Axis Ticks by 45-degrees\n",
    "plt.ylabel(\"Predicted fatalities\")\n",
    "plt.grid()\n",
    "ax = plt.gca()\n",
    "#ax.set_xlim([xmin, xmax])\n",
    "ax.set_ylim([0, 300])\n",
    "\n",
    "plt.savefig(f'/Users/angli742/Desktop/Prediction_{Dataset}_{country_name}.png', bbox_inches='tight')\n",
    "plt.show()"
   ]
  },
  {
   "cell_type": "markdown",
   "id": "ba25b895-31f6-4b19-a3ac-1e9ed214a8f1",
   "metadata": {},
   "source": [
    "## Df12"
   ]
  },
  {
   "cell_type": "code",
   "execution_count": null,
   "id": "e69ff235-6f5a-4959-8dfd-c8941a0083fc",
   "metadata": {},
   "outputs": [],
   "source": [
    "LastInputData = 'July 2023'\n",
    "Dataset = 'fatalities002_2023_07'\n",
    "StartOfHistory = 'Aug 2023'\n",
    "EndOfHistory =  'Jul 2026'\n",
    "\n",
    "VIEWS_URL='https://api.viewsforecasting.org/fatalities002_2023_07_t01/cm/sb/main_mean?iso=SDN'\n",
    "\n",
    "r = requests.get(VIEWS_URL)\n",
    "PAGE_SIZE=1000\n",
    "req_url=VIEWS_URL \n",
    "    \n",
    "master_list=[]\n",
    "r=requests.get(req_url)\n",
    "page_data=r.json()\n",
    "\n",
    "list(page_data)\n",
    "\n",
    "master_list+=page_data['data']\n",
    "    \n",
    "while page_data['next_page'] != '':\n",
    "    r=requests.get(page_data['next_page'])\n",
    "    page_data=r.json()\n",
    "\n",
    "    master_list+=page_data['data']\n",
    "        \n",
    "df12=pd.DataFrame(master_list)\n",
    "df12"
   ]
  },
  {
   "cell_type": "code",
   "execution_count": null,
   "id": "e755820a-ad06-4f06-b369-a8878491d96d",
   "metadata": {},
   "outputs": [],
   "source": [
    "df12[f'{Dataset}'] = df12['main_mean']\n",
    "df12['Date'] = df12['year'].astype(str) +'-'+ df12['month'].astype(str)\n",
    "df12"
   ]
  },
  {
   "cell_type": "code",
   "execution_count": null,
   "id": "c27060ae-e3af-485d-9ba4-cd057bf5cd28",
   "metadata": {},
   "outputs": [],
   "source": [
    "# Create the line graph\n",
    "df12.plot(y=f'{Dataset}', x='Date', label=f\"Predicted fatalities (last input data: {LastInputData})\", figsize=(10, 4))\n",
    "\n",
    "# Customize the graph\n",
    "plt.title(f\"Predicted fatalities for {country_name} (last input data: {LastInputData})\")\n",
    "plt.xlabel(\"Month\")\n",
    "plt.xticks(rotation = 80) # Rotates X-Axis Ticks by 45-degrees\n",
    "plt.ylabel(\"Predicted fatalities\")\n",
    "plt.grid()\n",
    "ax = plt.gca()\n",
    "#ax.set_xlim([xmin, xmax])\n",
    "ax.set_ylim([0, 300])\n",
    "\n",
    "plt.savefig(f'/Users/angli742/Desktop/Prediction_{Dataset}_{country_name}.png', bbox_inches='tight')\n",
    "plt.show()"
   ]
  },
  {
   "cell_type": "markdown",
   "id": "30cd9d29-3e4c-4278-a8ee-0f46f997726e",
   "metadata": {},
   "source": [
    "## Df13"
   ]
  },
  {
   "cell_type": "code",
   "execution_count": null,
   "id": "43515bc0-9902-4a57-82b5-a8f56185b60f",
   "metadata": {},
   "outputs": [],
   "source": [
    "LastInputData = 'Aug 2023'\n",
    "Dataset = 'fatalities002_2023_08'\n",
    "StartOfHistory = 'Sep 2023'\n",
    "EndOfHistory =  'Aug 2026'\n",
    "\n",
    "VIEWS_URL='https://api.viewsforecasting.org/fatalities002_2023_08_t01/cm/sb/main_mean?iso=SDN'\n",
    "\n",
    "r = requests.get(VIEWS_URL)\n",
    "PAGE_SIZE=1000\n",
    "req_url=VIEWS_URL \n",
    "    \n",
    "master_list=[]\n",
    "r=requests.get(req_url)\n",
    "page_data=r.json()\n",
    "\n",
    "list(page_data)\n",
    "\n",
    "master_list+=page_data['data']\n",
    "    \n",
    "while page_data['next_page'] != '':\n",
    "    r=requests.get(page_data['next_page'])\n",
    "    page_data=r.json()\n",
    "\n",
    "    master_list+=page_data['data']\n",
    "        \n",
    "df13=pd.DataFrame(master_list)\n",
    "df13"
   ]
  },
  {
   "cell_type": "code",
   "execution_count": null,
   "id": "2e336cf6-6ea5-482a-bddf-795d192ce737",
   "metadata": {},
   "outputs": [],
   "source": [
    "df13[f'{Dataset}'] = df13['main_mean']\n",
    "df13['Date'] = df13['year'].astype(str) +'-'+ df13['month'].astype(str)\n",
    "df13"
   ]
  },
  {
   "cell_type": "code",
   "execution_count": null,
   "id": "ce26b91a-0bdf-4c08-9ad9-f9e346c67c4f",
   "metadata": {},
   "outputs": [],
   "source": [
    "# Create the line graph\n",
    "df13.plot(y=f'{Dataset}', x='Date', label=f\"Predicted fatalities (last input data: {LastInputData})\", figsize=(10, 4))\n",
    "\n",
    "# Customize the graph\n",
    "plt.title(f\"Predicted fatalities for {country_name} (last input data: {LastInputData})\")\n",
    "plt.xlabel(\"Month\")\n",
    "plt.xticks(rotation = 80) # Rotates X-Axis Ticks by 45-degrees\n",
    "plt.ylabel(\"Predicted fatalities\")\n",
    "plt.grid()\n",
    "ax = plt.gca()\n",
    "#ax.set_xlim([xmin, xmax])\n",
    "ax.set_ylim([0, 300])\n",
    "\n",
    "plt.savefig(f'/Users/angli742/Desktop/Prediction_{Dataset}_{country_name}.png', bbox_inches='tight')\n",
    "plt.show()"
   ]
  },
  {
   "cell_type": "markdown",
   "id": "64ee4902-68ae-48d6-9afe-a2a16e86442c",
   "metadata": {},
   "source": [
    "# Plot all"
   ]
  },
  {
   "cell_type": "code",
   "execution_count": null,
   "id": "aa90d84d-e5cf-48db-908a-e84657e015b9",
   "metadata": {},
   "outputs": [],
   "source": [
    "# Create the line graphs for each data frame\n",
    "plt.plot(df1['Date'], df1['fatalities001_2022_08'], label='Last input data: Aug-22')\n",
    "plt.plot(df2['Date'], df2['fatalities001_2022_09'], label='Last input data: Sep-22')\n",
    "plt.plot(df3['Date'], df3['fatalities001_2022_10'], label='Last input data: Oct-22')\n",
    "plt.plot(df4['Date'], df4['fatalities001_2022_11'], label='Last input data: Nov-22')\n",
    "plt.plot(df5['Date'], df5['fatalities001_2022_12'], label='Last input data: Dec-22')\n",
    "\n",
    "#set_figwidth()\n",
    "plt.rcParams[\"figure.figsize\"] = (15, 5)\n",
    "\n",
    "\n",
    "# Customize the graph\n",
    "plt.title(\"Predicted fatalities in Sudan over a rolling 3-year window, datareleases from Jan-Jun 2023\")\n",
    "plt.xlabel(\"Month\")\n",
    "plt.xticks(rotation = 80) # Rotates X-Axis Ticks by 45-degrees\n",
    "plt.ylabel(\"Predicted fatalities \")\n",
    "\n",
    "# Show the legend\n",
    "plt.legend()\n",
    "\n",
    "# Adjust the layout\n",
    "\n",
    "plt.grid()\n",
    "\n",
    "plt.tight_layout()\n",
    "\n",
    "plt.savefig('Jan-Jun23.png')\n",
    "plt.show()\n"
   ]
  },
  {
   "cell_type": "code",
   "execution_count": null,
   "id": "e2f450b7-51cb-443a-b331-f2f1db436db9",
   "metadata": {},
   "outputs": [],
   "source": [
    "print('All done!')"
   ]
  }
 ],
 "metadata": {
  "kernelspec": {
   "display_name": "Python 3 (ipykernel)",
   "language": "python",
   "name": "python3"
  },
  "language_info": {
   "codemirror_mode": {
    "name": "ipython",
    "version": 3
   },
   "file_extension": ".py",
   "mimetype": "text/x-python",
   "name": "python",
   "nbconvert_exporter": "python",
   "pygments_lexer": "ipython3",
   "version": "3.9.13"
  }
 },
 "nbformat": 4,
 "nbformat_minor": 5
}
