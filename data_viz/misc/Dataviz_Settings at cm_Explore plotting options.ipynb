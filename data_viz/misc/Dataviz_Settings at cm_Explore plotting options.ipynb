{
 "cells": [
  {
   "cell_type": "markdown",
   "id": "f6da81a7-1a04-44a3-9c92-9599cd1ee9c8",
   "metadata": {},
   "source": [
    "# Notebook to assist decisions on CM map settings"
   ]
  },
  {
   "cell_type": "code",
   "execution_count": null,
   "id": "2b564f8c-c418-4f26-9649-afdeb7823a86",
   "metadata": {},
   "outputs": [],
   "source": [
    "# Basics\n",
    "# import numpy as np\n",
    "import pandas as pd\n",
    "pd.options.display.max_columns = None\n",
    "import matplotlib.pyplot as plt\n",
    "import matplotlib.cbook as cbook\n",
    "import seaborn as sns\n",
    "import geopandas as gpd\n",
    "import sqlalchemy as sa\n",
    "# sklearn\n",
    "#from sklearn.ensemble import RandomForestRegressor\n",
    "#from sklearn import linear_model\n",
    "# Views 3\n",
    "from viewser.operations import fetch\n",
    "from viewser import Queryset, Column\n",
    "# import views_runs\n",
    "# from views_partitioning import data_partitioner, legacy\n",
    "# from stepshift import views\n",
    "from views_mapper2.label_writer import *\n",
    "from views_mapper2.mapper2 import *\n",
    "from views_mapper2.BBoxWriter import *\n",
    "from views_mapper2.dictionary_writer import *\n",
    "from ingester3.config import source_db_path"
   ]
  },
  {
   "cell_type": "code",
   "execution_count": null,
   "id": "5a2fb652-da36-4011-abb9-de2ae122de3c",
   "metadata": {},
   "outputs": [],
   "source": [
    "engine = sa.create_engine(source_db_path)\n",
    "gdf_ci_master = gpd.GeoDataFrame.from_postgis(\n",
    "    \"SELECT id as country_id, name, in_africa, in_me, geom FROM prod.country\",\n",
    "    engine,\n",
    "    geom_col='geom'\n",
    ")\n",
    "gdf_ci_master = gdf_ci_master.to_crs(4326)"
   ]
  },
  {
   "cell_type": "code",
   "execution_count": null,
   "id": "af1edb97-47b5-4d7e-a134-b608378febe8",
   "metadata": {},
   "outputs": [],
   "source": [
    "#!viewser queryset list"
   ]
  },
  {
   "cell_type": "code",
   "execution_count": null,
   "id": "163dc66b-1a10-4c19-9bd3-bb9bf0783841",
   "metadata": {},
   "outputs": [],
   "source": [
    "qs = Queryset('fatalities002_API_predictors_cm','country_month') # Change to queryset and level of analysis of interest\n",
    "\n",
    "data = qs.fetch()"
   ]
  },
  {
   "cell_type": "code",
   "execution_count": null,
   "id": "f93f8813-bf40-44a4-8118-dbaa518d7834",
   "metadata": {},
   "outputs": [],
   "source": [
    "data.describe()"
   ]
  },
  {
   "cell_type": "code",
   "execution_count": null,
   "id": "9c7c12a6-fe05-4c7b-ba76-474065374747",
   "metadata": {},
   "outputs": [],
   "source": [
    "data.head()"
   ]
  },
  {
   "cell_type": "markdown",
   "id": "b23e3c88-3dff-4b90-bebe-8e1a79fcf9cb",
   "metadata": {},
   "source": [
    "# Select month to plot"
   ]
  },
  {
   "cell_type": "code",
   "execution_count": null,
   "id": "484b918e-3bab-4f09-a0f3-21d2069e131b",
   "metadata": {},
   "outputs": [],
   "source": [
    "# Call the function\n",
    "\n",
    "def vid2date(i):\n",
    "    year=str(ViewsMonth(i).year)\n",
    "    month=str(ViewsMonth(i).month)\n",
    "    return year+'/'+monthb"
   ]
  },
  {
   "cell_type": "markdown",
   "id": "bf3c5224-4834-4f10-aebc-af955a5a7829",
   "metadata": {},
   "source": [
    "**Enter year and month below to print the correlated `month_id`**"
   ]
  },
  {
   "cell_type": "code",
   "execution_count": null,
   "id": "3801e146-9ffd-4976-8858-e75779b1b5ac",
   "metadata": {},
   "outputs": [],
   "source": [
    "print(ViewsMonth.from_year_month(year=1990, month=1)) "
   ]
  },
  {
   "cell_type": "markdown",
   "id": "2fe5b3fe-fba5-4164-a572-8fdaa60d037c",
   "metadata": {},
   "source": [
    "**Enter the printed month ID to plot**"
   ]
  },
  {
   "cell_type": "code",
   "execution_count": null,
   "id": "5a13d6db-07af-4059-8b64-1f5077f344ef",
   "metadata": {},
   "outputs": [],
   "source": [
    "chosen_month=450"
   ]
  },
  {
   "cell_type": "markdown",
   "id": "582939b5-2b11-4ce4-bdb1-52a3435c5fef",
   "metadata": {},
   "source": [
    "# Select feature to map"
   ]
  },
  {
   "cell_type": "code",
   "execution_count": null,
   "id": "dbd898e1-ead4-4f35-98a0-687b3cc1fa30",
   "metadata": {},
   "outputs": [],
   "source": [
    "feature = 'ucdp_ged_sb_best_sum'"
   ]
  },
  {
   "cell_type": "markdown",
   "id": "0c555a65-7523-4ff7-9650-fb5d28dac906",
   "metadata": {},
   "source": [
    "# Select mapping settings\n",
    "\n",
    "Match map dictionary with applied data transformation:\n",
    "\n",
    "- Non-logged data with non-logged dictionary\n",
    "- ln data with 1p dictionary\n",
    "- ln2 data with 2p dictionary"
   ]
  },
  {
   "cell_type": "markdown",
   "id": "66eb69d4-741f-49ba-91ff-2abb932fe796",
   "metadata": {},
   "source": [
    "# Choose dictionary for plotting"
   ]
  },
  {
   "cell_type": "markdown",
   "id": "f5011666-d362-465e-ac02-2d517c9fa52f",
   "metadata": {},
   "source": [
    "## Option 1: Create new dictionaries at single-log (1p) scale \n",
    "\n",
    "Ready-made options also available below."
   ]
  },
  {
   "cell_type": "code",
   "execution_count": null,
   "id": "cfdc8f12-0497-416d-b3f3-c2019558ed38",
   "metadata": {},
   "outputs": [],
   "source": [
    "# Function to create a new dictionary at single-log (1p) scale\n",
    "\n",
    "name_your_1p_scale = [0, 1, 3, 10, 30, 100, 300, 1000, 3000] # list the raw values you want marked on the color bar legend as tick values\n",
    "name_your_dictionary = log1p_dict(name_your_1p_scale)\n",
    "\n",
    "# To use this dict on a map, change 'map_dictionary' in the map settings to the name of your new dict. "
   ]
  },
  {
   "cell_type": "code",
   "execution_count": null,
   "id": "180eaead-d4aa-45dd-a1cd-408c3aa0dfd7",
   "metadata": {},
   "outputs": [],
   "source": [
    "# Function to add more tick values to the pre-set scales set by Malika in mapper2, for single-log scales with max value 3k and max value 10k\n",
    "\n",
    "standard_scale_1p_2p_moreticks= [0, 1, 3, 5, 10, 20, 30, 50, 70, 100, 150, 200, 300, 500, 800, 1000, 1500, 2000, 2500, 3000]\n",
    "standard_scale_1p_2p_10k_moreticks= [0, 1, 3, 5, 10, 20, 30, 50, 70, 100, 150, 200, 300, 500, 800, 1000, 1500, 2000, 2500, 3000, 4000, 5000, 7000, 10000]\n",
    "\n",
    "dictionary_stand_1p_moreticks = log1p_dict(standard_scale_1p_2p_moreticks)\n",
    "dictionary_stand_1p_10k_moreticks = log1p_dict(standard_scale_1p_2p_10k_moreticks)"
   ]
  },
  {
   "cell_type": "markdown",
   "id": "a0ba66f3-fd1d-46af-9241-e08e3076cec6",
   "metadata": {
    "tags": []
   },
   "source": [
    "## Option 2: Choose a ready-made dictionary"
   ]
  },
  {
   "cell_type": "code",
   "execution_count": null,
   "id": "58bf8b81-f730-447a-801a-6ca472651d4d",
   "metadata": {},
   "outputs": [],
   "source": [
    "dictionary_stand_2p_10k  # for ln2 data, values up to 10k (e.g. cm predictions)"
   ]
  },
  {
   "cell_type": "code",
   "execution_count": null,
   "id": "23416cee-8cf1-4604-8d81-d64269c12dc0",
   "metadata": {},
   "outputs": [],
   "source": [
    "dictionary_stand_2p # ln2 scale, values up to 3k"
   ]
  },
  {
   "cell_type": "code",
   "execution_count": null,
   "id": "159524b2-0c33-4f09-8fcd-4a793ebcd475",
   "metadata": {},
   "outputs": [],
   "source": [
    "dictionary_stand_1p = {'0': 0.0,\n",
    " '1': 0.6931471805599453,\n",
    " '3': 1.3862943611198906,\n",
    " '10': 2.3978952727983707,\n",
    " '30': 3.4339872044851463,\n",
    " '100': 4.61512051684126,\n",
    " '300': 5.707110264748875,\n",
    " '1000': 6.90875477931522,\n",
    " '3000': 8.006700845440367}"
   ]
  },
  {
   "cell_type": "code",
   "execution_count": null,
   "id": "f52387f7-2df6-4e42-b764-b58cd2bedd31",
   "metadata": {},
   "outputs": [],
   "source": [
    "dictionary_stand_10k = {'0': 0, '100': 100, '300': 300, '1000': 1000, '3000': 3000, '10000': 10000}"
   ]
  },
  {
   "cell_type": "code",
   "execution_count": null,
   "id": "0cd2166d-409f-4a05-9de7-a12cfccef282",
   "metadata": {},
   "outputs": [],
   "source": [
    "dictionary_stand # non-logged, values up to 3k"
   ]
  },
  {
   "cell_type": "code",
   "execution_count": null,
   "id": "185d5503-a27c-4c63-9a43-7d9ceab50d33",
   "metadata": {},
   "outputs": [],
   "source": [
    "dictionary_dichotomous_pgm = {\n",
    "        '<= 0.1%': -6.906754778648554,\n",
    "        '0.2%': -6.212606095751519,\n",
    "        '0.5%': -5.293304824724492,\n",
    "        '1%': -4.59511985013459,\n",
    "        '2%': -3.8918202981106265,\n",
    "        '5%': -2.9444389791664403,\n",
    "        '10%': -2.197224577336219,\n",
    "        '20%': -1.3862943611198906,\n",
    "        '40%': -0.4054651081081643,\n",
    "        '60%': 0.4054651081081642,\n",
    "        '80%': 1.3862943611198908,\n",
    "        '90%': 2.1972245773362196,\n",
    "        '95%': 2.9444389791664394,\n",
    "        '99%': 4.595119850134589\n",
    "        }\n"
   ]
  },
  {
   "cell_type": "code",
   "execution_count": null,
   "id": "5806e7f6-3a99-4efc-9f37-c2d5162712e3",
   "metadata": {},
   "outputs": [],
   "source": [
    "dictionary_dichotomous_cm = {\n",
    "        '<= 0.1%': -6.906754778648554,\n",
    "        '0.2%': -6.212606095751519,\n",
    "        '0.5%': -5.293304824724492,\n",
    "        '1%': -4.59511985013459,\n",
    "        '2%': -3.8918202981106265,\n",
    "        '5%': -2.9444389791664403,\n",
    "        '10%': -2.197224577336219,\n",
    "        '20%': -1.3862943611198906,\n",
    "        '40%': -0.4054651081081643,\n",
    "        '60%': 0.4054651081081642,\n",
    "        '80%': 1.3862943611198908,\n",
    "        '90%': 2.1972245773362196,\n",
    "        '95%': 2.9444389791664394,\n",
    "        '99%': 4.595119850134589\n",
    "        }   "
   ]
  },
  {
   "cell_type": "code",
   "execution_count": null,
   "id": "0607ec9a-4785-404f-b5d5-b7fdd9937bf1",
   "metadata": {},
   "outputs": [],
   "source": [
    "# Index, 0-300\n",
    "\n",
    "raw_values = np.array([0,10, 30, 100, 300])\n",
    "ticklabels = [str(tv) for tv in raw_values]\n",
    "dictionary_index_0_300 = dict(zip(ticklabels, raw_values))\n",
    "dictionary_index_0_300"
   ]
  },
  {
   "cell_type": "code",
   "execution_count": null,
   "id": "10b16b87-d888-4ebb-bf11-1fd0f8325512",
   "metadata": {},
   "outputs": [],
   "source": [
    "dictionary_index_0_1 = {'0.0': 0.0, '0.2': 0.2, '0.4': 0.4, '0.6': 0.6, '0.8': 0.8, '1.0': 1.0}"
   ]
  },
  {
   "cell_type": "code",
   "execution_count": null,
   "id": "92f24a8f-3395-4912-95d0-7988c66e975b",
   "metadata": {},
   "outputs": [],
   "source": [
    "dictionary_gdp = {\n",
    "    '150': 5.0106352940962555,\n",
    "    '500': 6.214608098422191,\n",
    "    '1500': 7.313220387090301,\n",
    "    '5000': 8.517193191416238,\n",
    "    '15000': 9.615805480084347,\n",
    "    '50000': 10.819778284410283}"
   ]
  },
  {
   "cell_type": "code",
   "execution_count": null,
   "id": "bb842a49-8473-47f7-9995-0c7f36f89325",
   "metadata": {},
   "outputs": [],
   "source": [
    "dictionary_index_0_100 = {'0': 0,\n",
    "    '10': 10,\n",
    "    '20': 20,\n",
    "    '30': 30,\n",
    "    '40': 40,\n",
    "    '50': 50,\n",
    "    '60': 60,\n",
    "    '70': 70,\n",
    "    '80': 80,\n",
    "    '90': 90,\n",
    "    '100': 100}"
   ]
  },
  {
   "cell_type": "code",
   "execution_count": null,
   "id": "98a23fa1-ed1b-48db-a3c6-5bb9d5f72495",
   "metadata": {},
   "outputs": [],
   "source": [
    "dictionary_population = {'0.01': 9.210440366976517,\n",
    " '0.03': 10.308985993422082,\n",
    " '1': 13.815511557963774,\n",
    " '3': 14.914123179965662,\n",
    " '10': 16.118095750958314,\n",
    " '30': 17.216707972959764,\n",
    " '100': 18.420680753952364,\n",
    " '300': 19.519293035953808,\n",
    " '1000': 20.72326583794641}"
   ]
  },
  {
   "cell_type": "code",
   "execution_count": null,
   "id": "3fe81368-20a9-4eef-9460-588155f60aba",
   "metadata": {},
   "outputs": [],
   "source": [
    "dictionary_imr = {'0': 0, '20': 20, '40': 40, '60': 60, '80': 80, '100': 100}"
   ]
  },
  {
   "cell_type": "code",
   "execution_count": null,
   "id": "3f5d2c06-1872-407d-8a52-dbee5fb5f690",
   "metadata": {},
   "outputs": [],
   "source": [
    "dictionary_index_0_300 = {'0': 0, '10': 10, '30': 30, '100': 100, '300': 300}"
   ]
  },
  {
   "cell_type": "markdown",
   "id": "92106fba-2e77-41d0-85f4-a2feeb82f669",
   "metadata": {},
   "source": [
    "## Select data transform for plotting"
   ]
  },
  {
   "cell_type": "code",
   "execution_count": null,
   "id": "97519331-8bb2-4df7-865c-fa5eb0e28409",
   "metadata": {},
   "outputs": [],
   "source": [
    "transform=''     # , ln_, ln2_"
   ]
  },
  {
   "cell_type": "code",
   "execution_count": null,
   "id": "4e7e722f-4529-451c-a13d-69332ee83bdd",
   "metadata": {},
   "outputs": [],
   "source": [
    "# Executes the transforms\n",
    "\n",
    "if transform == 'ln_':\n",
    "    data[f'{transform}'+f'{feature}'] = np.log1p(data[f'{feature}'])\n",
    "\n",
    "elif transform == 'ln2_':\n",
    "    data[f'{transform}'+f'{feature}'] = np.log1p(np.log1p(data[f'{feature}']))\n",
    "\n",
    "else: print(\"No transform applied\")"
   ]
  },
  {
   "cell_type": "markdown",
   "id": "5ecf2d34-66bf-4eac-8d26-515c42a9e952",
   "metadata": {},
   "source": [
    "## Select color map"
   ]
  },
  {
   "cell_type": "code",
   "execution_count": null,
   "id": "75fe6c80-6f25-443f-af48-3f2a5dc65796",
   "metadata": {},
   "outputs": [],
   "source": [
    "cmap = 'rainbow'"
   ]
  },
  {
   "cell_type": "markdown",
   "id": "d8e0f463-bcfd-4c64-a02f-e17a9ca5669c",
   "metadata": {},
   "source": [
    "## Define map dictionary"
   ]
  },
  {
   "cell_type": "code",
   "execution_count": null,
   "id": "cb5d0897-e9bd-4209-a03e-08432af6afa1",
   "metadata": {},
   "outputs": [],
   "source": [
    "map_dictionary = dictionary_dichotomous_pgm"
   ]
  },
  {
   "cell_type": "markdown",
   "id": "da8c424f-2db3-4f5f-8ae2-7170010525b4",
   "metadata": {},
   "source": [
    "# Plot the data"
   ]
  },
  {
   "cell_type": "code",
   "execution_count": null,
   "id": "ff5847ac-6cbc-40e8-ad3f-02fecca58c9e",
   "metadata": {},
   "outputs": [],
   "source": [
    "# If you try to re-run this cell without restarting the whole kernel, the kernel will crash. \n",
    "\n",
    "data = data.copy()\n",
    "gdf = gdf_ci_master.copy()\n",
    "\n",
    "data = data.join(gdf.set_index(\"country_id\"))\n",
    "gdf = gpd.GeoDataFrame(data, geometry=\"geom\")"
   ]
  },
  {
   "cell_type": "code",
   "execution_count": null,
   "id": "36244d7d-273a-4190-a940-a1a323df13ce",
   "metadata": {},
   "outputs": [],
   "source": [
    "# Create map using cmap and map dictionary stated above\n",
    "\n",
    "m = Mapper2(\n",
    "    width=40,\n",
    "    height=40,\n",
    "    frame_on=True,\n",
    "    title='Test plot',\n",
    "    bbox=bbox_from_cid('globe'), \n",
    "    figure = None\n",
    ").add_layer(\n",
    "    gdf=gdf.loc[chosen_month],\n",
    "    transparency = 1.0,\n",
    "    edgecolor=\"black\",\n",
    "    linewidth=0.5,\n",
    "    cmap = cmap,\n",
    "    column = f'{transform}'+f'{feature}', \n",
    "    map_dictionary = map_dictionary,\n",
    ")"
   ]
  },
  {
   "cell_type": "code",
   "execution_count": null,
   "id": "a10ae9d9-5f65-4ba3-8b13-aef508a681d6",
   "metadata": {},
   "outputs": [],
   "source": [
    "# Create map with custom cmap and dictionary\n",
    "\n",
    "m = Mapper2(\n",
    "    width=40,\n",
    "    height=40,\n",
    "    frame_on=True,\n",
    "    title='Test plot',\n",
    "    bbox=bbox_from_cid('globe'), \n",
    "    figure = None\n",
    ").add_layer(\n",
    "    gdf=gdf.loc[chosen_month],\n",
    "    transparency = 1.0,\n",
    "    edgecolor=\"black\",\n",
    "    linewidth=0.5,\n",
    "    cmap = 'viridis', # change as needed\n",
    "    column = f'{transform}'+f'{feature}', \n",
    "    map_dictionary = dictionary_stand_1p_10k_moreticks, # change to your new dict\n",
    ")"
   ]
  },
  {
   "cell_type": "code",
   "execution_count": null,
   "id": "b9f28811-4652-4370-81dc-c884d43154f6",
   "metadata": {},
   "outputs": [],
   "source": [
    "m.save(f'{cmap}_dictionary_dichotomous_cm', dpi = 300) # Saves to the directory in which the notebook is run"
   ]
  },
  {
   "cell_type": "code",
   "execution_count": null,
   "id": "a99713da",
   "metadata": {},
   "outputs": [],
   "source": [
    "print('All done!')"
   ]
  },
  {
   "cell_type": "code",
   "execution_count": null,
   "id": "8fb2125e-b31a-435d-8fa2-95f293e09c12",
   "metadata": {},
   "outputs": [],
   "source": []
  }
 ],
 "metadata": {
  "kernelspec": {
   "display_name": "Python 3 (ipykernel)",
   "language": "python",
   "name": "python3"
  },
  "language_info": {
   "codemirror_mode": {
    "name": "ipython",
    "version": 3
   },
   "file_extension": ".py",
   "mimetype": "text/x-python",
   "name": "python",
   "nbconvert_exporter": "python",
   "pygments_lexer": "ipython3",
   "version": "3.9.13"
  }
 },
 "nbformat": 4,
 "nbformat_minor": 5
}
