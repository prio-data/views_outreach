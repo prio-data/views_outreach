{
 "cells": [
  {
   "cell_type": "code",
   "execution_count": null,
   "id": "43ab66c8",
   "metadata": {},
   "outputs": [],
   "source": [
    "#To plot\n",
    "import numpy as np\n",
    "import pandas as pd\n",
    "import matplotlib as mpl\n",
    "import matplotlib.pyplot as plt\n",
    "import matplotlib.cbook as cbook\n",
    "from matplotlib.animation import PillowWriter\n",
    "from matplotlib.cm import ScalarMappable\n",
    "from matplotlib.lines import Line2D\n",
    "from mpl_toolkits.axes_grid1.inset_locator import inset_axes\n",
    "from textwrap import wrap\n",
    "from scipy import interpolate\n",
    "from matplotlib import gridspec\n",
    "from matplotlib import cm\n",
    "import matplotlib.ticker as ticker\n",
    "import matplotlib.colors as mcolors\n",
    "\n",
    "import seaborn as sns"
   ]
  },
  {
   "cell_type": "code",
   "execution_count": null,
   "id": "150454d4",
   "metadata": {},
   "outputs": [],
   "source": [
    "#fetches the defined dataframes from fetch_df.py and turn them into pandas dataframes\n",
    "#df_sc contains the full test partitioning and df_2021 contains predictions that would have been published during 2021 \n",
    "\n",
    "from fetch_df import sc_all\n",
    "\n",
    "pd.df_sc = sc_all()\n",
    "\n",
    "from fetch_df import sc_2021\n",
    "\n",
    "pd.df_2021 = sc_2021()"
   ]
  },
  {
   "cell_type": "code",
   "execution_count": null,
   "id": "82e5bb44",
   "metadata": {},
   "outputs": [],
   "source": []
  }
 ],
 "metadata": {
  "kernelspec": {
   "display_name": "Python 3 (ipykernel)",
   "language": "python",
   "name": "python3"
  },
  "language_info": {
   "codemirror_mode": {
    "name": "ipython",
    "version": 3
   },
   "file_extension": ".py",
   "mimetype": "text/x-python",
   "name": "python",
   "nbconvert_exporter": "python",
   "pygments_lexer": "ipython3",
   "version": "3.10.9"
  }
 },
 "nbformat": 4,
 "nbformat_minor": 5
}
