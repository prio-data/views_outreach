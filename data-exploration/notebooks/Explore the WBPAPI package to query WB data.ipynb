{
 "cells": [
  {
   "cell_type": "markdown",
   "id": "8925f51e-17b1-4031-8d5c-bd6242f8341f",
   "metadata": {},
   "source": [
    "# Explore the WBPAPI package to query WB data"
   ]
  },
  {
   "cell_type": "code",
   "execution_count": 1,
   "id": "6d28ed99-27fd-456f-a22c-82e8c031b679",
   "metadata": {},
   "outputs": [
    {
     "name": "stdout",
     "output_type": "stream",
     "text": [
      "Requirement already satisfied: wbgapi in ./miniforge3/envs/viewser/lib/python3.9/site-packages (1.0.12)\n",
      "Requirement already satisfied: requests in ./miniforge3/envs/viewser/lib/python3.9/site-packages (from wbgapi) (2.28.1)\n",
      "Requirement already satisfied: tabulate in ./miniforge3/envs/viewser/lib/python3.9/site-packages (from wbgapi) (0.8.10)\n",
      "Requirement already satisfied: PyYAML in ./miniforge3/envs/viewser/lib/python3.9/site-packages (from wbgapi) (6.0.1)\n",
      "Requirement already satisfied: charset-normalizer<3,>=2 in ./miniforge3/envs/viewser/lib/python3.9/site-packages (from requests->wbgapi) (2.1.1)\n",
      "Requirement already satisfied: certifi>=2017.4.17 in ./miniforge3/envs/viewser/lib/python3.9/site-packages (from requests->wbgapi) (2023.5.7)\n",
      "Requirement already satisfied: idna<4,>=2.5 in ./miniforge3/envs/viewser/lib/python3.9/site-packages (from requests->wbgapi) (3.3)\n",
      "Requirement already satisfied: urllib3<1.27,>=1.21.1 in ./miniforge3/envs/viewser/lib/python3.9/site-packages (from requests->wbgapi) (1.26.11)\n",
      "Note: you may need to restart the kernel to use updated packages.\n"
     ]
    }
   ],
   "source": [
    "pip install wbgapi"
   ]
  },
  {
   "cell_type": "code",
   "execution_count": null,
   "id": "3641b3bb-b625-45a2-baf7-60e05408e465",
   "metadata": {},
   "outputs": [],
   "source": [
    "import wbgapi as wb\n",
    "import pandas as pd"
   ]
  },
  {
   "cell_type": "code",
   "execution_count": null,
   "id": "b1e94d76-d2bc-4264-9146-3ac69c8345c6",
   "metadata": {},
   "outputs": [],
   "source": [
    "wb.source.info()"
   ]
  },
  {
   "cell_type": "code",
   "execution_count": null,
   "id": "88260f3f-9a4b-4d90-8f0a-fea1cbf54c3f",
   "metadata": {},
   "outputs": [],
   "source": [
    "wb.source.info(57)\n"
   ]
  },
  {
   "cell_type": "code",
   "execution_count": null,
   "id": "6e36c00f-1a51-4d5e-aaae-84a1f6888152",
   "metadata": {},
   "outputs": [],
   "source": [
    "wb.source.concepts(db=57)"
   ]
  },
  {
   "cell_type": "code",
   "execution_count": null,
   "id": "03ce41d2-0f69-4438-bbc9-f3a955ad3a2b",
   "metadata": {},
   "outputs": [],
   "source": [
    "wb.series.info('NY.GDP.PCAP.KD')"
   ]
  },
  {
   "cell_type": "code",
   "execution_count": null,
   "id": "5bfa906d-ba90-4f86-abb5-4563832bed41",
   "metadata": {},
   "outputs": [],
   "source": [
    "wb.data.DataFrame(['NY.GDP.PCAP.KD'], 'AFG', range(2002,2022)) # most recent 5 years \n"
   ]
  },
  {
   "cell_type": "code",
   "execution_count": null,
   "id": "a7cb1144-a0ac-4551-80ae-889a991d76b9",
   "metadata": {},
   "outputs": [],
   "source": [
    "pd.set_option('display.max_rows', None)"
   ]
  },
  {
   "cell_type": "code",
   "execution_count": null,
   "id": "e699d9c1-f67d-431b-bc46-10f93e81407a",
   "metadata": {},
   "outputs": [],
   "source": [
    "df = wb.data.DataFrame('SP.DYN.LE00.IN', 'AFG', range(2002,2022), version=range(202207,202312,1), db=57)\n"
   ]
  },
  {
   "cell_type": "code",
   "execution_count": null,
   "id": "d032c45b-c018-424b-9595-f3e25d061635",
   "metadata": {},
   "outputs": [],
   "source": [
    "df"
   ]
  },
  {
   "cell_type": "code",
   "execution_count": null,
   "id": "af12be10-dca3-4945-9e27-35bdc4c1a1b9",
   "metadata": {},
   "outputs": [],
   "source": [
    "df.to_csv('test.csv')"
   ]
  }
 ],
 "metadata": {
  "kernelspec": {
   "display_name": "Python 3 (ipykernel)",
   "language": "python",
   "name": "python3"
  },
  "language_info": {
   "codemirror_mode": {
    "name": "ipython",
    "version": 3
   },
   "file_extension": ".py",
   "mimetype": "text/x-python",
   "name": "python",
   "nbconvert_exporter": "python",
   "pygments_lexer": "ipython3",
   "version": "3.9.13"
  }
 },
 "nbformat": 4,
 "nbformat_minor": 5
}
