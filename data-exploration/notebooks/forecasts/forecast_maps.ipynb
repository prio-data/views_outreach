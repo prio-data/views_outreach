{
 "cells": [
  {
   "cell_type": "code",
   "execution_count": null,
   "id": "initial_id",
   "metadata": {
    "collapsed": true
   },
   "outputs": [],
   "source": [
    "# Views 3\n",
    "from viewser.operations import fetch\n",
    "from viewser import Queryset, Column\n",
    "import views_runs\n",
    "from views_partitioning import data_partitioner, legacy\n",
    "from stepshift import views\n",
    "from views_runs import storage, ModelMetadata\n",
    "from views_runs.storage import store, retrieve, fetch_metadata\n",
    "from views_forecasts.extensions import *\n",
    "\n",
    "# For mapping \n",
    "import os\n",
    "from views_mapper2.mapper2 import *\n",
    "from views_mapper2.BBoxWriter import *\n",
    "from views_mapper2.dictionary_writer import *\n",
    "from views_mapper2.label_writer import *\n",
    "from ingester3.extensions import *"
   ]
  },
  {
   "cell_type": "code",
   "outputs": [],
   "source": [
    "import geopandas as gpd\n",
    "import sqlalchemy as sa\n",
    "from ingester3.config import source_db_path\n",
    "\n",
    "#Fetching geometry and matching to VIEWS country id's\n",
    "\n",
    "engine = sa.create_engine(source_db_path)\n",
    "gdf_ci_master = gpd.GeoDataFrame.from_postgis(\n",
    "    \"SELECT id as country_id, name, in_africa, in_me, geom FROM prod.country\",\n",
    "    engine,\n",
    "    geom_col='geom'\n",
    ")\n",
    "gdf_ci_master = gdf_ci_master.to_crs(4326)"
   ],
   "metadata": {
    "collapsed": false
   },
   "id": "5479cd8caf7dfcac",
   "execution_count": null
  },
  {
   "cell_type": "code",
   "outputs": [],
   "source": [
    "import os\n",
    "home = os.path.expanduser(\"~\")\n",
    "desktop = home+'/Desktop/' # (Toggle on to save to desktop) Change to your directory"
   ],
   "metadata": {
    "collapsed": false
   },
   "id": "f5ef5fd889aef6bd",
   "execution_count": null
  },
  {
   "cell_type": "code",
   "outputs": [],
   "source": [
    "calib_run_id = 46 #For fatalities002 use 46 "
   ],
   "metadata": {
    "collapsed": false
   },
   "id": "b28a33977e7affbc",
   "execution_count": null
  },
  {
   "cell_type": "code",
   "outputs": [],
   "source": [
    "run = pd.DataFrame.forecasts.read_store(run=calib_run_id, name='cm_genetic_ensemble_f535')"
   ],
   "metadata": {
    "collapsed": false
   },
   "id": "333e7d6032df2984",
   "execution_count": null
  },
  {
   "cell_type": "code",
   "outputs": [],
   "source": [
    "#Regional maps of surrogate models \n",
    "#Adjust region, textbox, title, column= and filename.\n",
    "data = run.copy() # replace with one of the dataframes defined above: e.g., surrogate_CH, surrogate_POP etc.\n",
    "gdf = gdf_ci_master.copy()\n",
    "\n",
    "data = data.join(gdf.set_index(\"country_id\"))\n",
    "gdf = gpd.GeoDataFrame(data, geometry=\"geom\")"
   ],
   "metadata": {
    "collapsed": false
   },
   "id": "35817669f1e0ed6c",
   "execution_count": null
  },
  {
   "cell_type": "code",
   "outputs": [],
   "source": [
    "run # print to learn column names to plot"
   ],
   "metadata": {
    "collapsed": false
   },
   "id": "c86634b85dfa2148",
   "execution_count": null
  },
  {
   "cell_type": "code",
   "outputs": [],
   "source": [
    "#To see examples of what to do https://github.com/prio-data/Mapper2/blob/main/Mapper2_showcase.ipynb\n",
    "\n",
    "region = 'ame' #options are 'ame', 'me' or 'globe'\n",
    "\n",
    "textbox = 'Predicted log fatalities for state based violence' #Change the text in the textbox below the logo\n",
    "\n",
    "test_map=Mapper2(\n",
    "    width=10,   #dimension width\n",
    "    height=10,  #dimension height\n",
    "    frame_on=True,\n",
    "    title=\"Predicted log fatalities in October 2026\", #title ex: Predicted log fatalities, isolated contribution from infant mortality rate\n",
    "    bbox=bbox_from_cid(f'{region}'), \n",
    ").add_layer(\n",
    "    gdf=gdf.loc[536],  #what do you want to map, which month_id\n",
    "    map_dictionary = dictionary_stand_1p_10k, #standard for cm maps is dictionary_stand_1p_10k\n",
    "    cmap = 'rainbow', #rainbow is standard for cm maps, binary is greyscale \n",
    "    transparency = 1,\n",
    "    background = None, \n",
    "    edgecolor=\"black\",   #border color choice\n",
    "    linewidth=0.5,    #line size choice\n",
    "    column=\"step_combined\"   # which column do you want to graph\n",
    ").add_views_textbox(\n",
    "    text=textbox)\n",
    "\n",
    "test_map.save(desktop+'/prediction_map_rainbow', dpi=350) #change the filename\n",
    "print('All done!')"
   ],
   "metadata": {
    "collapsed": false
   },
   "id": "64ecc0108ac103cb",
   "execution_count": null
  }
 ],
 "metadata": {
  "kernelspec": {
   "display_name": "Python 3",
   "language": "python",
   "name": "python3"
  },
  "language_info": {
   "codemirror_mode": {
    "name": "ipython",
    "version": 2
   },
   "file_extension": ".py",
   "mimetype": "text/x-python",
   "name": "python",
   "nbconvert_exporter": "python",
   "pygments_lexer": "ipython2",
   "version": "2.7.6"
  }
 },
 "nbformat": 4,
 "nbformat_minor": 5
}
