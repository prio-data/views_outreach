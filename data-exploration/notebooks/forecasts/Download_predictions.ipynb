{
 "cells": [
  {
   "cell_type": "markdown",
   "id": "ad5aaa8d-9f0b-4e2b-8084-91648d0db516",
   "metadata": {},
   "source": [
    "# Download VIEWS predictions\n",
    "\n",
    "**NOTE: Requires a certificate/access to the VIEWS database.**\n",
    "\n",
    "This notebooks allows you to fetch and download data from a given VIEWS run (data release), with or without filters for months and countries of interest. "
   ]
  },
  {
   "cell_type": "code",
   "execution_count": null,
   "id": "2749c5c1-95c9-47dc-816a-eccdc98642e9",
   "metadata": {},
   "outputs": [],
   "source": [
    "# Basics\n",
    "import numpy as np\n",
    "import pandas as pd\n",
    "import matplotlib.pyplot as plt\n",
    "import matplotlib.cbook as cbook\n",
    "\n",
    "import warnings\n",
    "warnings.filterwarnings('ignore')\n",
    "\n",
    "# Views 3\n",
    "from viewser.operations import fetch\n",
    "from viewser import Queryset, Column\n",
    "import views_runs\n",
    "from views_partitioning import data_partitioner, legacy\n",
    "from stepshift import views\n",
    "from views_runs import storage, ModelMetadata\n",
    "from views_runs.storage import store, retrieve, fetch_metadata\n",
    "from views_forecasts.extensions import *\n",
    "\n",
    "# Packages from this repository, Tools folder\n",
    "import sys\n",
    "sys.path.append('../../')\n",
    "sys.path.append('../../Tools')\n",
    "sys.path.append('../../Intermediates')\n",
    "sys.path.append('../../SystemUpdates')\n",
    "from Ensembling import CalibratePredictions, RetrieveStoredPredictions, mean_sd_calibrated, gam_calibrated\n",
    "from FetchData import FetchData, RetrieveFromList\n",
    "from ViewsEstimators import *\n",
    "\n",
    "# VIEWS mapper2\n",
    "from views_mapper2.label_writer import *\n"
   ]
  },
  {
   "cell_type": "markdown",
   "id": "18e0f266-05ab-4f09-bc29-a21c0a45c03b",
   "metadata": {},
   "source": [
    "## Specify the output folder"
   ]
  },
  {
   "cell_type": "code",
   "execution_count": null,
   "id": "e2254038-1efb-4467-87cb-e984b1443b65",
   "metadata": {},
   "outputs": [],
   "source": [
    "import os\n",
    "home = os.path.expanduser(\"~\")"
   ]
  },
  {
   "cell_type": "markdown",
   "id": "25bb9222-c0b0-4ed6-bc58-a2282db3bf0f",
   "metadata": {},
   "source": [
    "#### Option 1: Save to your desktop"
   ]
  },
  {
   "cell_type": "code",
   "execution_count": null,
   "id": "134d28ff-2113-42c3-ac41-a53315f837d5",
   "metadata": {},
   "outputs": [],
   "source": [
    " desktop = home+'/Desktop' # (Toggle on to save to desktop)"
   ]
  },
  {
   "cell_type": "markdown",
   "id": "a1bc6c2f-addf-4409-ae46-18618ed868e0",
   "metadata": {},
   "source": [
    "#### Option 2: Save to the VIEWS Dropbox"
   ]
  },
  {
   "cell_type": "code",
   "execution_count": null,
   "id": "d22a1d80-1b36-4178-8a00-84eab6908d42",
   "metadata": {},
   "outputs": [],
   "source": [
    "# Mydropbox = home + '/Dropbox (ViEWS)/ViEWS/' # (Toggle on to save to Dropbox)\n",
    "# Monthly_updates = Mydropbox + 'DataReleases/MonthlyUpdates/' # (Toggle on to save to Dropbox)"
   ]
  },
  {
   "cell_type": "markdown",
   "id": "57be7f89-e444-477b-82ad-a36e06659fe6",
   "metadata": {},
   "source": [
    "## Find month_id of interest"
   ]
  },
  {
   "cell_type": "code",
   "execution_count": null,
   "id": "ed0cd66e-ddf3-4fc7-93f7-306dfe2318e4",
   "metadata": {},
   "outputs": [],
   "source": [
    "# Functions to easily obtain month_ids\n",
    "\n",
    "def vid2date(i):\n",
    "    year=str(ViewsMonth(i).year)\n",
    "    month=str(ViewsMonth(i).month)\n",
    "    return year+'/'+monthb"
   ]
  },
  {
   "cell_type": "code",
   "execution_count": null,
   "id": "99e4cd48-536c-4544-bcfb-72c2ba347507",
   "metadata": {},
   "outputs": [],
   "source": [
    "# Print month_ids for the chosen period\n",
    "\n",
    "print(ViewsMonth.from_year_month(year=2022, month=7)) "
   ]
  },
  {
   "cell_type": "markdown",
   "id": "26cf94b4-0166-4770-9c96-6bfa3b7cedc3",
   "metadata": {},
   "source": [
    "## Specify run (data release)"
   ]
  },
  {
   "cell_type": "code",
   "execution_count": null,
   "id": "e95ec331-a6de-4d52-abc7-35e9d114f116",
   "metadata": {},
   "outputs": [],
   "source": [
    "dev_id = 'fatalities001' # Change to model of interest\n",
    "run_id = dev_id \n",
    "EndOfHistory = 511 # Change to last month of input data (of interest)\n",
    "prod_id = '2022_07_t01' # Change to the run_id that matches the last month of input data above\n",
    "level = 'cm' # Choose either country-month (cm) or PRIO-GRID-month (pgm) level of analysis"
   ]
  },
  {
   "cell_type": "markdown",
   "id": "67ccc096-fb3f-4018-afd7-78bfae271880",
   "metadata": {},
   "source": [
    "For more information on the naming conventions required for the cell above, please see the VIEWS changelog at https://github.com/prio-data/viewsforecasting/blob/main/CHANGELOG.md"
   ]
  },
  {
   "cell_type": "markdown",
   "id": "78ee2985-4a11-4f2a-9d1c-d75de6f656f2",
   "metadata": {},
   "source": [
    "## Fetch and download standard output data (monthly predictions)"
   ]
  },
  {
   "cell_type": "markdown",
   "id": "63cebd4b-4cfa-4682-bd9a-9f9fd89ecfd5",
   "metadata": {},
   "source": [
    "**TODO:**\n",
    "\n",
    "- Add columns with non-logged ensemble results\n",
    "- Include columns that translate month_IDs and country_IDs to human-friendly names"
   ]
  },
  {
   "cell_type": "code",
   "execution_count": null,
   "id": "8aefac98-ef46-4ded-aa5e-8933abdc7731",
   "metadata": {},
   "outputs": [],
   "source": [
    "predstore_future = level +  '_' + 'genetic_ensemble' + '_f' + str(EndOfHistory)\n",
    "predstore_future_dich = level +  '_' + 'genetic_ensemble' + '_dich_f' + str(EndOfHistory)\n",
    "\n",
    "predictions_df = pd.DataFrame.forecasts.read_store(predstore_future, run=dev_id)\n",
    "predictions_dich_df = pd.DataFrame.forecasts.read_store(predstore_future_dich, run=dev_id)\n",
    "\n",
    "# Redefines month_id into steps as an index, changes the name of some variables for consistency/workability with code\n",
    "# Note that the output 'step combined' is already a log transformed variable that uses state-based violence\n",
    "predictions_df = predictions_df.reset_index()\n",
    "predictions_df['step'] = predictions_df['month_id'] - EndOfHistory\n",
    "predictions_df = predictions_df.set_index(['step', 'country_id'], drop = True)\n",
    "predictions_df['ln1_step_combined_sb'] = predictions_df['step_combined']\n",
    "predictions_df['ln2_step_combined_sb'] = np.log1p(predictions_df['ln1_step_combined_sb'])\n",
    "\n",
    "# Predictions_dich_df gives state-based violence\n",
    "predictions_dich_df = predictions_dich_df.reset_index()\n",
    "predictions_dich_df['step'] = predictions_dich_df['month_id'] - EndOfHistory\n",
    "predictions_dich_df = predictions_dich_df.set_index(['step', 'country_id'], drop = True)\n",
    "predictions_dich_df['step_combined_sb'] = predictions_dich_df['step_combined']"
   ]
  },
  {
   "cell_type": "code",
   "execution_count": null,
   "id": "c87c8026",
   "metadata": {},
   "outputs": [],
   "source": [
    "display(predictions_df)"
   ]
  },
  {
   "cell_type": "markdown",
   "id": "83224f3f-098c-44af-8a9d-75c721436da8",
   "metadata": {},
   "source": [
    "### Name the .csv-file"
   ]
  },
  {
   "cell_type": "code",
   "execution_count": null,
   "id": "35e5ca28-9455-4294-ab63-58bcba2f925d",
   "metadata": {},
   "outputs": [],
   "source": [
    "predictions_df.to_csv('predictions.csv')"
   ]
  },
  {
   "cell_type": "markdown",
   "id": "bdda9e59-14f4-4055-b77b-90a599da818f",
   "metadata": {},
   "source": [
    "## Fetch and download aggregated predictions "
   ]
  },
  {
   "cell_type": "markdown",
   "id": "c2d40e66-3fb8-475b-87f6-12448758e934",
   "metadata": {},
   "source": [
    "**TODO**\n",
    "\n",
    "- Insert cell below to fetch the run specified at the top of the document, AND aggregate/sum up the ensemble results (logged AND non-logged) for: \n",
    "    - Rolling 3-month intervals (with months covered as the column name)\n",
    "    - Rolling 6-month intervals (with months covered as the column name)\n",
    "    - Rolling 12-month intervals (with months covered as the column name)\n",
    "- Include columns that translate month_IDs and country_IDs to human-friendly names"
   ]
  },
  {
   "cell_type": "code",
   "execution_count": null,
   "id": "f4c3fc2c-20bb-4359-80da-99e7fe10ac5a",
   "metadata": {},
   "outputs": [],
   "source": []
  },
  {
   "cell_type": "markdown",
   "id": "22b38c4e-dded-4563-afd1-2286b85bd26c",
   "metadata": {},
   "source": [
    "### Name the .csv-file"
   ]
  },
  {
   "cell_type": "code",
   "execution_count": null,
   "id": "742220fb-0057-4f26-a4a3-b610e55e5833",
   "metadata": {},
   "outputs": [],
   "source": [
    "predictions_df.to_csv('aggregated_predictions.csv')"
   ]
  },
  {
   "cell_type": "code",
   "execution_count": null,
   "id": "3e5f7f23-8699-47e6-ab5c-fa8c3c5ea6df",
   "metadata": {},
   "outputs": [],
   "source": [
    "print(\"All done\")"
   ]
  },
  {
   "cell_type": "code",
   "execution_count": null,
   "id": "cbcff9c8-2b27-4ab5-9452-f0e967872f89",
   "metadata": {},
   "outputs": [],
   "source": []
  }
 ],
 "metadata": {
  "kernelspec": {
   "display_name": "Python 3 (ipykernel)",
   "language": "python",
   "name": "python3"
  },
  "language_info": {
   "codemirror_mode": {
    "name": "ipython",
    "version": 3
   },
   "file_extension": ".py",
   "mimetype": "text/x-python",
   "name": "python",
   "nbconvert_exporter": "python",
   "pygments_lexer": "ipython3",
   "version": "3.9.13"
  }
 },
 "nbformat": 4,
 "nbformat_minor": 5
}
