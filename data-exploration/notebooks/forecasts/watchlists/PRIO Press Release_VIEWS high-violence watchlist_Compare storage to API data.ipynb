{
 "cells": [
  {
   "cell_type": "markdown",
   "id": "ee6e3a4b578c7f73",
   "metadata": {},
   "source": [
    "# PRIO Press Release: Draft Watchlist \n"
   ]
  },
  {
   "cell_type": "code",
   "execution_count": null,
   "id": "98e151b873ad3195",
   "metadata": {
    "ExecuteTime": {
     "end_time": "2023-11-07T09:26:45.268588Z",
     "start_time": "2023-11-07T09:26:41.447974Z"
    },
    "collapsed": false,
    "jupyter": {
     "outputs_hidden": false
    }
   },
   "outputs": [],
   "source": [
    "#To plot\n",
    "import numpy as np\n",
    "import pandas as pd\n",
    "import matplotlib as mpl\n",
    "import matplotlib.pyplot as plt\n",
    "import matplotlib.cbook as cbook\n",
    "from matplotlib.animation import PillowWriter\n",
    "from matplotlib.cm import ScalarMappable\n",
    "from matplotlib.lines import Line2D\n",
    "from mpl_toolkits.axes_grid1.inset_locator import inset_axes\n",
    "from textwrap import wrap\n",
    "from scipy import interpolate\n",
    "from matplotlib import gridspec\n",
    "from matplotlib import cm\n",
    "\n",
    "import seaborn as sns\n",
    "\n",
    "#To fetch url \n",
    "import requests\n",
    "import json\n",
    "\n",
    "# sklearn\n",
    "from sklearn.ensemble import RandomForestRegressor\n",
    "from sklearn.ensemble import RandomForestClassifier\n",
    "from sklearn.ensemble import GradientBoostingRegressor\n",
    "from sklearn.ensemble import HistGradientBoostingRegressor\n",
    "from sklearn.ensemble import AdaBoostRegressor\n",
    "from sklearn import linear_model\n",
    "from sklearn.metrics import mean_squared_error\n",
    "\n",
    "# Views 3\n",
    "from viewser.operations import fetch\n",
    "from viewser import Queryset, Column\n",
    "import views_runs\n",
    "from views_partitioning import data_partitioner, legacy\n",
    "from stepshift import views\n",
    "from views_runs import storage, ModelMetadata\n",
    "from views_runs.storage import store, retrieve, fetch_metadata\n",
    "from views_forecasts.extensions import *\n",
    "\n",
    "# For mapping \n",
    "import os\n",
    "from views_mapper2.mapper2 import *\n",
    "from views_mapper2.BBoxWriter import *\n",
    "from views_mapper2.dictionary_writer import *\n",
    "from views_mapper2.label_writer import *\n",
    "from ingester3.extensions import *\n",
    "\n",
    "import os\n",
    "home = os.path.expanduser(\"~\")\n",
    "desktop = home+'/Desktop/' # (Toggle on to save to desktop)"
   ]
  },
  {
   "cell_type": "markdown",
   "id": "29542a52-9c67-421d-b4f3-bd1a75dbc177",
   "metadata": {},
   "source": [
    "# Part 1. Fetching data from storage\n",
    "Due to latest monthly run with GED fixed for Ukraine not being available in the API yet. "
   ]
  },
  {
   "cell_type": "code",
   "execution_count": null,
   "id": "42001fd0-7b79-4917-847f-58f2d7e59da4",
   "metadata": {},
   "outputs": [],
   "source": [
    "calib_run_id = 46 #run_id\n",
    "storage_run = pd.DataFrame.forecasts.read_store(run=calib_run_id, name='cm_genetic_ensemble_f526') # fetching run from storage"
   ]
  },
  {
   "cell_type": "code",
   "execution_count": null,
   "id": "a27feda2-d6c4-464d-9008-60f6a36c1d47",
   "metadata": {},
   "outputs": [],
   "source": [
    "storage_run #step_combined is main_mean"
   ]
  },
  {
   "cell_type": "code",
   "execution_count": null,
   "id": "d8f0a633-f02a-4688-858c-a41cf4241b53",
   "metadata": {},
   "outputs": [],
   "source": [
    "storage_run['step_combined'] = np.exp(storage_run['step_combined'])-1 # transforming step_combined to become actual predicted fatalities "
   ]
  },
  {
   "cell_type": "code",
   "execution_count": null,
   "id": "d835a4bd-22d5-45c7-bac0-32b616947ac2",
   "metadata": {},
   "outputs": [],
   "source": [
    "storage_run # can save as csv file"
   ]
  },
  {
   "cell_type": "code",
   "execution_count": null,
   "id": "3fe7eaa6-b056-487a-b417-84d729154da9",
   "metadata": {},
   "outputs": [],
   "source": [
    "storage_run = storage_run.rename(columns={\"step_combined\": \"pred_fat_in2024_storage\"})\n",
    "storage_run"
   ]
  },
  {
   "cell_type": "markdown",
   "id": "45255f0adb542317",
   "metadata": {},
   "source": [
    "## Part 1: Fetching and downloading data from VIEWS API\n",
    "Will retrieve the non-manipulated run, e.g. odd numbers for Ukraine. "
   ]
  },
  {
   "cell_type": "code",
   "execution_count": null,
   "id": "7c15f7ab283568e7",
   "metadata": {
    "ExecuteTime": {
     "end_time": "2023-11-08T12:50:53.292985Z",
     "start_time": "2023-11-08T12:50:49.907125Z"
    },
    "collapsed": false,
    "jupyter": {
     "outputs_hidden": false
    }
   },
   "outputs": [],
   "source": [
    "# Fetch data URL - could each itiration be fetched in the same loop?\n",
    "views_url_10 = 'https://api.viewsforecasting.org/fatalities002_2023_10_t01/cm/sb'\n",
    "print(views_url_10)\n",
    "\n",
    "# Page size\n",
    "page_size_10 = 1000\n",
    "\n",
    "# Request function and defining full request\n",
    "r_10 = requests.get(views_url_10)\n",
    "master_list_10 = []\n",
    "\n",
    "page_data_10 = r_10.json()\n",
    "list(page_data_10)\n",
    "\n",
    "# Loop to fetch data until all is accessed\n",
    "master_list_10 += page_data_10['data']\n",
    "\n",
    "while page_data_10['next_page'] != '':\n",
    "    r_10 = requests.get(page_data_10['next_page'])\n",
    "    page_data_10 = r_10.json()\n",
    "    master_list_10 += page_data_10['data']"
   ]
  },
  {
   "cell_type": "code",
   "execution_count": null,
   "id": "9636c68f-336b-429f-882d-216884d5e583",
   "metadata": {},
   "outputs": [],
   "source": [
    "api_run = pd.DataFrame(master_list_10)\n",
    "list(api_run.columns.values)"
   ]
  },
  {
   "cell_type": "code",
   "execution_count": null,
   "id": "515ee4a9-c08f-42c5-a6b3-e8a8f1db46e1",
   "metadata": {},
   "outputs": [],
   "source": [
    "api_run = api_run.rename(columns={\"main_mean\": \"pred_fat_in2024_api\"})\n",
    "api_run"
   ]
  },
  {
   "cell_type": "code",
   "execution_count": null,
   "id": "469e7c34be2fc0",
   "metadata": {
    "ExecuteTime": {
     "end_time": "2023-11-08T12:52:16.868380Z",
     "start_time": "2023-11-08T12:52:16.753211Z"
    },
    "collapsed": false,
    "jupyter": {
     "outputs_hidden": false
    }
   },
   "outputs": [],
   "source": [
    "columns_to_keep = ['country_id', 'month_id', 'name', 'gwcode', 'year', 'isoab', 'pred_fat_in2024_api']\n",
    "\n",
    "# creating new df\n",
    "api_run = api_run[columns_to_keep]\n",
    "api_run"
   ]
  },
  {
   "cell_type": "markdown",
   "id": "392a8862-095d-4fea-a935-cb901257cab5",
   "metadata": {},
   "source": [
    "# Merge storage df with api df"
   ]
  },
  {
   "cell_type": "code",
   "execution_count": null,
   "id": "8c5fad97-7193-4cd2-b3f5-dd245f88a752",
   "metadata": {},
   "outputs": [],
   "source": [
    "merged = pd.merge(api_run, storage_run, on='country_id')\n",
    "merged = merged.rename(columns={\"name\": \"country\"})\n",
    "\n",
    "merged"
   ]
  },
  {
   "cell_type": "markdown",
   "id": "7ff6402c-7ff4-403d-8d19-d72ac6ebd0d0",
   "metadata": {},
   "source": [
    "# Part 2. Aggregate to country-year, filter out predictions for 2024. \n"
   ]
  },
  {
   "cell_type": "code",
   "execution_count": null,
   "id": "244816ba-5b9c-4586-a12b-e86ee5c229e7",
   "metadata": {},
   "outputs": [],
   "source": [
    "merged_2024 = merged.query('year==2024')\n",
    "merged_2024"
   ]
  },
  {
   "cell_type": "code",
   "execution_count": null,
   "id": "42b3717a-3500-4f65-8887-4da3e293b129",
   "metadata": {},
   "outputs": [],
   "source": [
    "agg_functions = {'pred_fat_in2024_api': 'sum', 'pred_fat_in2024_storage': 'sum'}\n",
    "merged_2024 = merged_2024.groupby(merged_2024['country']).aggregate(agg_functions).reset_index()\n",
    "merged_2024"
   ]
  },
  {
   "cell_type": "markdown",
   "id": "eb2f9f52dcabb33b",
   "metadata": {
    "tags": []
   },
   "source": [
    "# Fetching 2023 UCDP GED Data "
   ]
  },
  {
   "cell_type": "code",
   "execution_count": null,
   "id": "5e127a613c7c79b1",
   "metadata": {
    "ExecuteTime": {
     "end_time": "2023-11-08T08:58:43.774855Z",
     "start_time": "2023-11-08T08:58:43.729062Z"
    },
    "collapsed": false,
    "jupyter": {
     "outputs_hidden": false
    }
   },
   "outputs": [],
   "source": [
    "def vid2date(i):\n",
    "    year=str(1980 + i//12)\n",
    "    month=str(i%12)\n",
    "    return year+'/'+month\n",
    "\n",
    "# Printing month_ids for chosen period\n",
    "print(ViewsMonth.from_year_month(year=2023, month=8))"
   ]
  },
  {
   "cell_type": "code",
   "execution_count": null,
   "id": "3c7e193b4927536e",
   "metadata": {
    "ExecuteTime": {
     "end_time": "2023-11-10T10:50:14.044328Z",
     "start_time": "2023-11-10T10:50:13.977535Z"
    },
    "collapsed": false,
    "jupyter": {
     "outputs_hidden": false
    }
   },
   "outputs": [],
   "source": [
    "# Prep for ged dataframes\n",
    "\n",
    "StartOfHistory_2022 = 505 # January 2022\n",
    "EndOfHistory_2022 = 516 \n",
    "StartOfHistory_2023 = 517 \n",
    "EndOfHistory_2023 = 524 # Aug 2023\n"
   ]
  },
  {
   "cell_type": "code",
   "execution_count": null,
   "id": "bd4da630-1e46-4cdf-94b4-f69b8dc3582c",
   "metadata": {},
   "outputs": [],
   "source": [
    "qs_ged_cm = (Queryset(\"AT_cm_ged_data_no_transformations\", \"country_month\")\n",
    "             .with_column(Column(\"year\", from_table=\"month\", from_column=\"year_id\"))\n",
    "             .with_column(Column('month', from_table='month', from_column='month'))\n",
    "             .with_column(Column('country_name', from_table='country', from_column='name'))\n",
    "             .with_column(Column(\"ged_best_sb\", from_table=\"ged2_cm\", from_column=\"ged_sb_best_sum_nokgi\"))\n",
    "             .with_column(Column(\"ged_best_os\", from_table=\"ged2_cm\", from_column=\"ged_os_best_sum_nokgi\"))\n",
    "             .with_column(Column(\"ged_best_ns\", from_table=\"ged2_cm\", from_column=\"ged_ns_best_sum_nokgi\")))\n",
    "\n",
    "qs_ged_cm = qs_ged_cm.publish().fetch()\n",
    "\n",
    "print(f\"A dataset with {len(qs_ged_cm.columns)} columns, with \"\n",
    "      f\"data between t {min(qs_ged_cm.index.get_level_values(0))} \"\n",
    "      f\"and {max(qs_ged_cm.index.get_level_values(0))}. \"\n",
    "      f\"({len(np.unique(qs_ged_cm.index.get_level_values(1)))} units)\"\n",
    "     )"
   ]
  },
  {
   "cell_type": "code",
   "execution_count": null,
   "id": "c099e14f-33e5-4e86-9f7b-559542b9e115",
   "metadata": {},
   "outputs": [],
   "source": [
    "qs_ged_cm = qs_ged_cm.rename(columns={\"country_name\": \"country\"})\n",
    "qs_ged_cm"
   ]
  },
  {
   "cell_type": "code",
   "execution_count": null,
   "id": "8fcb67ca-41ee-4546-ac51-fdcc87283c78",
   "metadata": {},
   "outputs": [],
   "source": [
    "# Create 2022 GED subset, monthly\n",
    "\n",
    "ged_2022 = qs_ged_cm.query(f'month_id >= {StartOfHistory_2022} and month_id <= {EndOfHistory_2022}')\n",
    "\n",
    "ged_2022"
   ]
  },
  {
   "cell_type": "code",
   "execution_count": null,
   "id": "e6c250d9-4f79-4cfd-bce6-4ffa47b18443",
   "metadata": {},
   "outputs": [],
   "source": [
    "# Sum fatalities per country, annual\n",
    "\n",
    "agg_functions = {'ged_best_sb': 'sum'}\n",
    "ged_2022_total = ged_2022.groupby(ged_2022['country']).aggregate(agg_functions)\n",
    "ged_2022_total"
   ]
  },
  {
   "cell_type": "code",
   "execution_count": null,
   "id": "fb110f8a-cb47-4a81-8ac3-245531779a66",
   "metadata": {},
   "outputs": [],
   "source": [
    "# Rename column in prep for merge\n",
    "\n",
    "ged_2022_total = ged_2022_total.rename(columns={\"ged_best_sb\": \"total_ged_sb_2022\"})\n",
    "ged_2022_total"
   ]
  },
  {
   "cell_type": "code",
   "execution_count": null,
   "id": "8024aa46-a852-42f5-bf7d-c66ab1783f8c",
   "metadata": {},
   "outputs": [],
   "source": [
    "# Create 2023 GED subset\n",
    "\n",
    "ged_2023_jan_aug = qs_ged_cm.query(f'month_id >= {StartOfHistory_2023} and month_id <= {EndOfHistory_2023}')\n",
    "ged_2023_jan_aug"
   ]
  },
  {
   "cell_type": "code",
   "execution_count": null,
   "id": "81d2de34-22b5-40a0-b20c-104188c30081",
   "metadata": {},
   "outputs": [],
   "source": [
    "# Sum fatalities per country, annual\n",
    "\n",
    "agg_functions = {'ged_best_sb': 'sum'}\n",
    "ged_2023_jan_aug = ged_2023_jan_aug.groupby(ged_2023_jan_aug['country']).aggregate(agg_functions)\n",
    "ged_2023_jan_aug\n",
    "\n",
    "# Rename column in prep for merge\n",
    "\n",
    "ged_2023_jan_aug = ged_2023_jan_aug.rename(columns={\"ged_best_sb\": \"total_ged_jan_aug_2023\"})\n",
    "ged_2023_jan_aug"
   ]
  },
  {
   "cell_type": "code",
   "execution_count": null,
   "id": "7c446cc0-4ae6-40fc-bf5f-3f377bb80ae9",
   "metadata": {},
   "outputs": [],
   "source": [
    "# Create 2023-09 GED subset\n",
    "\n",
    "ged_2023_09 = qs_ged_cm.query('month_id==525') # sept 2023\n",
    "\n",
    "# Rename column in prep for merge\n",
    "\n",
    "ged_2023_09 = ged_2023_09.rename(columns={\"ged_best_sb\": \"ged_sb_2023_09\", \"ged_best_ns\": \"ged_ns_2023_09\", \"ged_best_os\": \"ged_os_2023_09\"})\n",
    "\n",
    "columns_to_keep = ['country','ged_sb_2023_09', 'ged_ns_2023_09', 'ged_os_2023_09']\n",
    "\n",
    "# creating new df\n",
    "ged_2023_09 = ged_2023_09[columns_to_keep]\n",
    "ged_2023_09"
   ]
  },
  {
   "cell_type": "code",
   "execution_count": null,
   "id": "c03c4e2b-359f-40ee-b494-88b42d7ec5d9",
   "metadata": {},
   "outputs": [],
   "source": [
    "# Create 2023-10 GED subset\n",
    "\n",
    "ged_2023_10 = qs_ged_cm.query('month_id==526') # oct 2023\n",
    "\n",
    "# Rename column in prep for merge\n",
    "\n",
    "ged_2023_10 = ged_2023_10.rename(columns={\"ged_best_sb\": \"ged_sb_2023_10\", \"ged_best_ns\": \"ged_ns_2023_10\", \"ged_best_os\": \"ged_os_2023_10\"})\n",
    "\n",
    "columns_to_keep = ['country','ged_sb_2023_10', 'ged_ns_2023_10', 'ged_os_2023_10']\n",
    "\n",
    "# creating new df\n",
    "ged_2023_10 = ged_2023_10[columns_to_keep]\n",
    "ged_2023_10"
   ]
  },
  {
   "cell_type": "markdown",
   "id": "1eb30cb0-b2de-4586-9a66-4ad4b98dc273",
   "metadata": {
    "tags": []
   },
   "source": [
    "# Merging prediction dfs with GED dfs"
   ]
  },
  {
   "cell_type": "code",
   "execution_count": null,
   "id": "2fb8fc21-59a4-455c-b48b-e2d8c61ce372",
   "metadata": {},
   "outputs": [],
   "source": [
    "merged_step1 = pd.merge(merged_2024, ged_2022_total, on='country')\n",
    "merged_step2 = pd.merge(merged_step1, ged_2023_jan_aug, on='country')\n",
    "merged_step3 = pd.merge(merged_step2, ged_2023_09, on='country')\n",
    "final_df = pd.merge(merged_step3, ged_2023_10, on='country')\n",
    "final_df\n",
    "#final_df.to_csv(desktop+'final_df.csv')"
   ]
  },
  {
   "cell_type": "code",
   "execution_count": null,
   "id": "95245121-f386-4712-b15e-33251c3146aa",
   "metadata": {},
   "outputs": [],
   "source": [
    "columns_to_keep = ['country', 'pred_fat_in2024_api', 'pred_fat_in2024_storage', 'total_ged_sb_2022', 'total_ged_jan_aug_2023', 'ged_sb_2023_09', 'ged_sb_2023_10']\n",
    "final_df_short = final_df[columns_to_keep]\n",
    "final_df_short\n",
    "#final_df_short.to_csv(desktop+'final_df_short.csv')"
   ]
  },
  {
   "cell_type": "markdown",
   "id": "752d6c91-51c1-45a9-aa5e-0e6e7d2e0968",
   "metadata": {
    "tags": []
   },
   "source": [
    "# Create high-violence watchlist"
   ]
  },
  {
   "cell_type": "code",
   "execution_count": null,
   "id": "a71eed9d-7685-4332-a7a6-cda607a61d24",
   "metadata": {},
   "outputs": [],
   "source": [
    "# sort by high to low\n",
    "final_df.sort_values(by=['pred_fat_in2024_storage'], ascending=False)\n"
   ]
  },
  {
   "cell_type": "code",
   "execution_count": null,
   "id": "7588240a-3e1a-4dd4-95e0-3a51a595c141",
   "metadata": {},
   "outputs": [],
   "source": [
    "n = 200\n",
    "final_watchlist = final_df.nlargest(n, 'pred_fat_in2024_storage').reset_index()\n",
    "final_watchlist"
   ]
  },
  {
   "cell_type": "code",
   "execution_count": null,
   "id": "a0df5dde-25dc-46a4-b77e-0599e3b0c2fe",
   "metadata": {},
   "outputs": [],
   "source": [
    "final_watchlist.index = final_watchlist.index+1\n",
    "final_watchlist.index.name = 'Ranking'\n",
    "final_watchlist"
   ]
  },
  {
   "cell_type": "code",
   "execution_count": null,
   "id": "fad5c733-5fa4-436f-9248-f3a222ca9d6f",
   "metadata": {},
   "outputs": [],
   "source": [
    "final_watchlist.to_csv(desktop+'high_violence_watchlist.csv')"
   ]
  },
  {
   "cell_type": "code",
   "execution_count": null,
   "id": "a5cca3f2-7d9f-4696-87fb-15883f2da929",
   "metadata": {},
   "outputs": [],
   "source": [
    "print('Done')"
   ]
  }
 ],
 "metadata": {
  "kernelspec": {
   "display_name": "Python 3 (ipykernel)",
   "language": "python",
   "name": "python3"
  },
  "language_info": {
   "codemirror_mode": {
    "name": "ipython",
    "version": 3
   },
   "file_extension": ".py",
   "mimetype": "text/x-python",
   "name": "python",
   "nbconvert_exporter": "python",
   "pygments_lexer": "ipython3",
   "version": "3.9.13"
  }
 },
 "nbformat": 4,
 "nbformat_minor": 5
}
