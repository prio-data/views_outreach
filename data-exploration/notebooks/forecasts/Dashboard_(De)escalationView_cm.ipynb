{
 "cells": [
  {
   "cell_type": "markdown",
   "id": "27b80be5-9389-44f5-83ee-1ad397810d20",
   "metadata": {},
   "source": [
    "# Explore and map the data behind the \"(De)escalation View\" on VIEWS Dashboard 2.0 | Country level (cm)"
   ]
  },
  {
   "cell_type": "code",
   "execution_count": null,
   "id": "e80eabce-2efc-4ff4-8c77-80a7286a5be2",
   "metadata": {
    "tags": []
   },
   "outputs": [],
   "source": [
    "import requests\n",
    "import pandas as pd\n",
    "import json\n",
    "#import matplotlib.pyplot as plt\n",
    "\n",
    "# External\n",
    "import geopandas as gpd\n",
    "import sqlalchemy as sa\n",
    "\n",
    "# VIEWS\n",
    "from viewser.operations import fetch\n",
    "from views_mapper2.mapper2 import *\n",
    "from views_mapper2.BBoxWriter import *\n",
    "from views_mapper2.dictionary_writer import *\n",
    "from ingester3.config import source_db_path"
   ]
  },
  {
   "cell_type": "markdown",
   "id": "03d48ac3-17be-4868-8b2e-1824a7937583",
   "metadata": {},
   "source": [
    "## Get forecasts"
   ]
  },
  {
   "cell_type": "code",
   "execution_count": null,
   "id": "ebe78a1f-a80a-4f2c-ac3f-da9cb0454cde",
   "metadata": {},
   "outputs": [],
   "source": [
    "# Define the URL you want to fetch data from. \n",
    "\n",
    "FORECASTS ='https://api.viewsforecasting.org/fatalities002_2024_01_t01/cm/sb/main_mean'\n",
    "\n",
    "# List the dataset specified in the URL above\n",
    "\n",
    "dataset = 'fatalities002_2024_01_t01'"
   ]
  },
  {
   "cell_type": "code",
   "execution_count": null,
   "id": "3b02f7e3-d2ec-461e-91ed-d549765a3412",
   "metadata": {},
   "outputs": [],
   "source": [
    "# Request function\n",
    "r = requests.get(FORECASTS)\n",
    "\n",
    "#The set page size \n",
    "PAGE_SIZE=1000\n",
    "\n",
    "#Define the full request \n",
    "req_url=FORECASTS #+'/'+str()+'?'+'pagesize='+str(PAGE_SIZE)\n",
    "    \n",
    "master_list=[]\n",
    "r=requests.get(req_url)\n",
    "page_data=r.json()\n",
    "\n",
    "list(page_data)"
   ]
  },
  {
   "cell_type": "code",
   "execution_count": null,
   "id": "4d6eb811-4cd7-461a-ab86-221767a9f986",
   "metadata": {},
   "outputs": [],
   "source": [
    "# The loop to keep fetching pages until all data is accessed \n",
    "\n",
    "master_list+=page_data['data']\n",
    "    \n",
    "while page_data['next_page'] != '':\n",
    "    r=requests.get(page_data['next_page'])\n",
    "    page_data=r.json()\n",
    "\n",
    "    master_list+=page_data['data']\n",
    "        \n",
    "pred_raw=pd.DataFrame(master_list)"
   ]
  },
  {
   "cell_type": "code",
   "execution_count": null,
   "id": "41cdd52d-4e4c-4a01-8e5a-dce89dc4c06e",
   "metadata": {},
   "outputs": [],
   "source": [
    "pred_raw"
   ]
  },
  {
   "cell_type": "code",
   "execution_count": null,
   "id": "2e44f072-ab1a-446f-93b2-c61e2d84c3cd",
   "metadata": {},
   "outputs": [],
   "source": [
    "pred_raw.to_csv(f'cm_{dataset}.csv')"
   ]
  },
  {
   "cell_type": "markdown",
   "id": "274352d6-7bcb-42cb-a2ef-ca6922bfeb4f",
   "metadata": {
    "tags": []
   },
   "source": [
    "## Get actuals"
   ]
  },
  {
   "cell_type": "code",
   "execution_count": null,
   "id": "dbf38c06-f85e-44ce-a979-e3c4a03a7f03",
   "metadata": {},
   "outputs": [],
   "source": [
    "# Define the URL you want to fetch data from. \n",
    "\n",
    "UCDP ='https://api.viewsforecasting.org/predictors_fatalities002_0000_00/cm/px/ucdp_ged_sb_best_sum'"
   ]
  },
  {
   "cell_type": "code",
   "execution_count": null,
   "id": "2f832ce3-6bf3-4c1d-8e42-8b107464ad02",
   "metadata": {},
   "outputs": [],
   "source": [
    "# Request function\n",
    "r = requests.get(UCDP)\n",
    "\n",
    "#The set page size \n",
    "PAGE_SIZE=1000\n",
    "\n",
    "#Define the full request \n",
    "req_url=UCDP #+'/'+str()+'?'+'pagesize='+str(PAGE_SIZE)\n",
    "    \n",
    "master_list_2=[]\n",
    "r=requests.get(req_url)\n",
    "page_data=r.json()\n",
    "\n",
    "list(page_data)"
   ]
  },
  {
   "cell_type": "code",
   "execution_count": null,
   "id": "5d0c5812-a958-4048-8281-e1a4ab3401ab",
   "metadata": {},
   "outputs": [],
   "source": [
    "# The loop to keep fetching pages until all data is accessed \n",
    "\n",
    "master_list_2+=page_data['data']\n",
    "    \n",
    "while page_data['next_page'] != '':\n",
    "    r=requests.get(page_data['next_page'])\n",
    "    page_data=r.json()\n",
    "\n",
    "    master_list_2+=page_data['data']\n",
    "        \n",
    "ged_raw=pd.DataFrame(master_list_2)"
   ]
  },
  {
   "cell_type": "code",
   "execution_count": null,
   "id": "6b154fe3-ec4a-40f1-9a9e-84c5d05a259b",
   "metadata": {},
   "outputs": [],
   "source": [
    "ged_raw.to_csv('ged_cm.csv')"
   ]
  },
  {
   "cell_type": "code",
   "execution_count": null,
   "id": "9b45e128-ca0c-4be8-8c54-6d626425f2b6",
   "metadata": {},
   "outputs": [],
   "source": [
    "#ged_raw.set_index(['country_id', 'month_id'])"
   ]
  },
  {
   "cell_type": "code",
   "execution_count": null,
   "id": "e91fda0f-55e4-4a57-a7c8-d3789a3f020d",
   "metadata": {},
   "outputs": [],
   "source": [
    "#ged_raw.xs('Sudan', level='name')"
   ]
  },
  {
   "cell_type": "markdown",
   "id": "6e4721f3-03fa-4902-adc5-6752ab332fb9",
   "metadata": {},
   "source": [
    "# Inspect the data"
   ]
  },
  {
   "cell_type": "code",
   "execution_count": null,
   "id": "19c3e9f3-ffdb-4efe-b38a-393a908cf20a",
   "metadata": {},
   "outputs": [],
   "source": [
    "# Inspect the data to see that it looks correct\n",
    "\n",
    "pred_raw"
   ]
  },
  {
   "cell_type": "code",
   "execution_count": null,
   "id": "70558533-3502-453f-af60-0e7783f13a1e",
   "metadata": {},
   "outputs": [],
   "source": [
    "# Inspect the data to see that it looks correct\n",
    "\n",
    "ged_raw"
   ]
  },
  {
   "cell_type": "markdown",
   "id": "1c8c525b-309e-4839-ace8-d13c75590199",
   "metadata": {},
   "source": [
    "# Set prediction step (month) to analyze"
   ]
  },
  {
   "cell_type": "markdown",
   "id": "c5653360-14c6-4a68-949b-19cf7cd8ac5b",
   "metadata": {},
   "source": [
    "## Find EndOFHistory in GED data"
   ]
  },
  {
   "cell_type": "code",
   "execution_count": null,
   "id": "ac4931d4-1469-4514-8d83-9f866c71b628",
   "metadata": {},
   "outputs": [],
   "source": [
    "ged_raw['month_id'].max()"
   ]
  },
  {
   "cell_type": "code",
   "execution_count": null,
   "id": "81342c1f-26c8-4ac7-a50e-490d1910db50",
   "metadata": {},
   "outputs": [],
   "source": [
    "# Set EndOfHistory as t\n",
    "\n",
    "t = ged_raw['month_id'].max() \n",
    "t"
   ]
  },
  {
   "cell_type": "code",
   "execution_count": null,
   "id": "b845cab0-714b-41a7-a4b0-2a5461258b5c",
   "metadata": {},
   "outputs": [],
   "source": [
    "#t = 522 # June 2023\n",
    "#t"
   ]
  },
  {
   "cell_type": "markdown",
   "id": "a5dfdd44-14d9-4bcd-ae2c-0e06161931b2",
   "metadata": {},
   "source": [
    "## Choose prediction step"
   ]
  },
  {
   "cell_type": "code",
   "execution_count": null,
   "id": "eb73cdab-a68f-4043-b04c-b680dd4669eb",
   "metadata": {},
   "outputs": [],
   "source": [
    "step = 1 # Change here\n",
    "step # Check that it matches value above"
   ]
  },
  {
   "cell_type": "code",
   "execution_count": null,
   "id": "daa9d853-8239-4dcb-94fc-5be63dfef0a3",
   "metadata": {},
   "outputs": [],
   "source": [
    "pred_month_to_plot = t+step \n",
    "pred_month_to_plot"
   ]
  },
  {
   "cell_type": "markdown",
   "id": "f6416cd3-fd0e-4618-a8e9-369862739929",
   "metadata": {},
   "source": [
    "# Filter out relevant columns"
   ]
  },
  {
   "cell_type": "markdown",
   "id": "603942e0-fe6a-4e63-9628-5e76b75ebf3f",
   "metadata": {},
   "source": [
    "## Predictions"
   ]
  },
  {
   "cell_type": "code",
   "execution_count": null,
   "id": "63ae23bf-ecb4-4481-b0fc-3319fa29781a",
   "metadata": {},
   "outputs": [],
   "source": [
    "cm_columns_to_keep = ['country_id', 'month_id', 'name', 'isoab', 'year', 'main_mean']\n",
    "\n",
    "# creating new df\n",
    "pred_filtered = pred_raw[cm_columns_to_keep]\n",
    "pred_filtered"
   ]
  },
  {
   "cell_type": "markdown",
   "id": "b3ad5d93-a49f-4c36-ab3d-72fad3060ba1",
   "metadata": {},
   "source": [
    "## GED actuals"
   ]
  },
  {
   "cell_type": "code",
   "execution_count": null,
   "id": "fd3f6e69-7cc9-4c2f-a3f1-4f87dbcc4aae",
   "metadata": {},
   "outputs": [],
   "source": [
    "columns_to_keep_ged = ['country_id', 'month_id', 'name', 'isoab', 'year', 'ucdp_ged_sb_best_sum']\n",
    "\n",
    "# creating new df\n",
    "ged_filtered = ged_raw[columns_to_keep_ged]\n",
    "ged_filtered"
   ]
  },
  {
   "cell_type": "markdown",
   "id": "4b60639b-e970-40a9-b7a3-2119f823b430",
   "metadata": {},
   "source": [
    "# Create new dataframes from GED actuals"
   ]
  },
  {
   "cell_type": "markdown",
   "id": "77259f0d-d03d-4b8f-9e33-1fb3271f9c78",
   "metadata": {},
   "source": [
    "## Last month (1-month)"
   ]
  },
  {
   "cell_type": "code",
   "execution_count": null,
   "id": "7355d600-bae7-42d9-96f4-6313e123d9e5",
   "metadata": {},
   "outputs": [],
   "source": [
    "# Group by 'country_id' and 'name', then filter rows where 'month_id' is in range [526, 528]\n",
    "ged_1month = ged_filtered[ged_filtered['month_id'].between(t, t)]\n",
    "\n",
    "# Group by 'country_id' and 'name' and calculate the mean of 'ucdp_ged_sb_best_sum'\n",
    "ged_1month = ged_1month.groupby(['country_id'])['ucdp_ged_sb_best_sum'].mean().to_frame().rename(columns={'ucdp_ged_sb_best_sum':'ged_1m_avg'})\n",
    "\n",
    "ged_1month"
   ]
  },
  {
   "cell_type": "markdown",
   "id": "75dff6bf-d349-450c-b9eb-bba214f03d9e",
   "metadata": {},
   "source": [
    "## 3-month average"
   ]
  },
  {
   "cell_type": "code",
   "execution_count": null,
   "id": "44ec4bc3-e9c1-4d42-b72e-26512b8810cb",
   "metadata": {},
   "outputs": [],
   "source": [
    "d3 = t - 2\n",
    "d3"
   ]
  },
  {
   "cell_type": "code",
   "execution_count": null,
   "id": "4e0046e8-dd1f-4d1d-9877-0a4bb1ef0e35",
   "metadata": {},
   "outputs": [],
   "source": [
    "# Group by 'country_id' and 'name', then filter rows where 'month_id' is in range [526, 528]\n",
    "ged_3months = ged_filtered[ged_filtered['month_id'].between(d3, t)]\n",
    "\n",
    "# Group by 'country_id' and 'name' and calculate the mean of 'ucdp_ged_sb_best_sum'\n",
    "ged_3months = ged_3months.groupby(['country_id'])['ucdp_ged_sb_best_sum'].mean().to_frame().rename(columns={'ucdp_ged_sb_best_sum':'ged_3m_avg'})\n",
    "\n",
    "ged_3months"
   ]
  },
  {
   "cell_type": "markdown",
   "id": "167bb0c9-4b56-4dab-88b2-ba1db522687f",
   "metadata": {},
   "source": [
    "## 6-month average"
   ]
  },
  {
   "cell_type": "code",
   "execution_count": null,
   "id": "8724e8f3-655d-4c0e-a6ed-8c6377d35f81",
   "metadata": {},
   "outputs": [],
   "source": [
    "d6 = t - 5\n",
    "d6"
   ]
  },
  {
   "cell_type": "code",
   "execution_count": null,
   "id": "3a0a14e4-8a31-447d-9ce2-5daa3afb8523",
   "metadata": {},
   "outputs": [],
   "source": [
    "# Group by 'country_id' and 'name', then filter rows where 'month_id' is in range [526, 528]\n",
    "ged_6months = ged_filtered[ged_filtered['month_id'].between(d6, t)]\n",
    "\n",
    "# Group by 'country_id' and 'name' and calculate the mean of 'ucdp_ged_sb_best_sum'\n",
    "ged_6months = ged_6months.groupby(['country_id'])['ucdp_ged_sb_best_sum'].mean().to_frame().rename(columns={'ucdp_ged_sb_best_sum':'ged_6m_avg'})\n",
    "\n",
    "ged_6months"
   ]
  },
  {
   "cell_type": "markdown",
   "id": "c78b9bf8-beaf-4582-87bc-387e810f63ae",
   "metadata": {},
   "source": [
    "## 12-month average"
   ]
  },
  {
   "cell_type": "code",
   "execution_count": null,
   "id": "e3605a28-2df7-4eb9-ad77-312bb004e3b3",
   "metadata": {},
   "outputs": [],
   "source": [
    "d12 = t - 11\n",
    "d12"
   ]
  },
  {
   "cell_type": "code",
   "execution_count": null,
   "id": "ae07b617-6080-4453-a2c7-644d9fa7b698",
   "metadata": {},
   "outputs": [],
   "source": [
    "# Group by 'country_id' and 'name', then filter rows where 'month_id' is in range [526, 528]\n",
    "ged_12months = ged_filtered[ged_filtered['month_id'].between(d12, t)]\n",
    "\n",
    "# Group by 'country_id' and 'name' and calculate the mean of 'ucdp_ged_sb_best_sum'\n",
    "ged_12months = ged_12months.groupby(['country_id'])['ucdp_ged_sb_best_sum'].mean().to_frame().rename(columns={'ucdp_ged_sb_best_sum':'ged_12m_avg'})\n",
    "\n",
    "ged_12months"
   ]
  },
  {
   "cell_type": "markdown",
   "id": "455dbbfc-985f-4208-b93e-e7f1fad85217",
   "metadata": {
    "tags": []
   },
   "source": [
    "# Merge GED actuals dataframes"
   ]
  },
  {
   "cell_type": "code",
   "execution_count": null,
   "id": "30774761-a1b9-4c63-bd25-11da87faf71d",
   "metadata": {},
   "outputs": [],
   "source": [
    "merged_ged = pd.merge(ged_1month, ged_3months, left_index=True, right_index=True)\n",
    "merged_ged = pd.merge(merged_ged, ged_6months, left_index=True, right_index=True)\n",
    "merged_ged = pd.merge(merged_ged, ged_12months, left_index=True, right_index=True)\n",
    "\n",
    "merged_ged"
   ]
  },
  {
   "cell_type": "markdown",
   "id": "ecadfd1d-c260-4451-8bf3-d8dc5479c826",
   "metadata": {},
   "source": [
    "# Merge predictions and GED actuals for chosen month"
   ]
  },
  {
   "cell_type": "code",
   "execution_count": null,
   "id": "5504796e-a407-4700-a07a-f65b98235694",
   "metadata": {
    "tags": []
   },
   "outputs": [],
   "source": [
    "pred_filtered"
   ]
  },
  {
   "cell_type": "code",
   "execution_count": null,
   "id": "5141e472-9680-44bb-b6fc-dafb17276ee3",
   "metadata": {},
   "outputs": [],
   "source": [
    "merged_ged"
   ]
  },
  {
   "cell_type": "code",
   "execution_count": null,
   "id": "c8244580-50ab-4c5e-a3c6-03f84f30ff78",
   "metadata": {},
   "outputs": [],
   "source": [
    "pred_month_to_plot = t+1 # one past end of history of ged actuals\n",
    "pred_month_to_plot"
   ]
  },
  {
   "cell_type": "code",
   "execution_count": null,
   "id": "eb6c56db-8363-41a2-8e5a-772d320aae15",
   "metadata": {},
   "outputs": [],
   "source": [
    "pred_final = pred_filtered[pred_filtered['month_id'].between(pred_month_to_plot, pred_month_to_plot)]#.reset_index()\n",
    "pred_final.set_index(['country_id', 'name'], drop=True, inplace=True)\n",
    "pred_final"
   ]
  },
  {
   "cell_type": "code",
   "execution_count": null,
   "id": "22655aa1-2f05-48ac-aa5c-2f3b8485e004",
   "metadata": {},
   "outputs": [],
   "source": [
    "merged_final = pd.merge(merged_ged, pred_final, left_index=True, right_index=True)\n",
    "merged_final"
   ]
  },
  {
   "cell_type": "code",
   "execution_count": null,
   "id": "c473dd0d-a691-4df8-b79b-35b330a642eb",
   "metadata": {},
   "outputs": [],
   "source": [
    "merged_final['diff_1m'] = merged_final['main_mean'] - merged_final['ged_1m_avg']\n",
    "merged_final['diff_3m'] = merged_final['main_mean'] - merged_final['ged_3m_avg']\n",
    "merged_final['diff_6m'] = merged_final['main_mean'] - merged_final['ged_6m_avg']\n",
    "merged_final['diff_12m'] = merged_final['main_mean'] - merged_final['ged_12m_avg']\n",
    "merged_final_cm = merged_final \n",
    "\n",
    "merged_final_cm"
   ]
  },
  {
   "cell_type": "markdown",
   "id": "6a76fe7f-c80b-4fcd-b136-7e9ab75834f3",
   "metadata": {},
   "source": [
    "### Query results for specific country"
   ]
  },
  {
   "cell_type": "code",
   "execution_count": null,
   "id": "348a185f-efce-4452-8cfe-f112b1562151",
   "metadata": {},
   "outputs": [],
   "source": [
    "merged_final_cm.xs('Sudan', level='name')"
   ]
  },
  {
   "cell_type": "markdown",
   "id": "7eca2593-9edf-4484-9fc9-4754c63cf074",
   "metadata": {},
   "source": [
    "## Download result as csv"
   ]
  },
  {
   "cell_type": "code",
   "execution_count": null,
   "id": "7a4f08a4-5418-4fd8-b2f0-67316b2e758f",
   "metadata": {},
   "outputs": [],
   "source": [
    "merged_final_cm.to_csv(f'comparison_{dataset}.csv')"
   ]
  },
  {
   "cell_type": "markdown",
   "id": "89e32de5-4f2a-4643-8332-5fadf4b7c987",
   "metadata": {},
   "source": [
    "### Query data for specific country"
   ]
  },
  {
   "cell_type": "code",
   "execution_count": null,
   "id": "60adfe6e-8edd-40e7-929a-2d3278fbf359",
   "metadata": {},
   "outputs": [],
   "source": [
    "merged_final_cm.xs(245, level='country_id')"
   ]
  },
  {
   "cell_type": "markdown",
   "id": "d81d6026-b3d6-436d-86cf-80c9bd74361a",
   "metadata": {},
   "source": [
    "# Descriptive stats for the dataframe"
   ]
  },
  {
   "cell_type": "code",
   "execution_count": null,
   "id": "791cf0ec-a8a9-49d4-9362-b8db71d9094a",
   "metadata": {},
   "outputs": [],
   "source": [
    "features = ['diff_1m', 'diff_3m', 'diff_6m', 'diff_12m']"
   ]
  },
  {
   "cell_type": "markdown",
   "id": "3c567bb8-1872-4bdf-974f-10db2c26874d",
   "metadata": {},
   "source": [
    "### Descriptive stats for the full dataset"
   ]
  },
  {
   "cell_type": "code",
   "execution_count": null,
   "id": "17e2f778-7124-47e8-a8fe-1dce026e05aa",
   "metadata": {},
   "outputs": [],
   "source": [
    "merged_final_cm.describe()"
   ]
  },
  {
   "cell_type": "code",
   "execution_count": null,
   "id": "868e5102-7841-4cd9-8650-03b757c41c73",
   "metadata": {},
   "outputs": [],
   "source": [
    "merged_final_cm.median()"
   ]
  },
  {
   "cell_type": "code",
   "execution_count": null,
   "id": "b8220c41-ac7a-4e32-9c91-62a8d0540e2c",
   "metadata": {},
   "outputs": [],
   "source": [
    "for feature in features:\n",
    "    print(merged_final_cm[feature].describe(), '\\n')"
   ]
  },
  {
   "cell_type": "markdown",
   "id": "98a34ade-5142-442b-9a1d-72eba3504194",
   "metadata": {},
   "source": [
    "## Prep dataframes for plotting"
   ]
  },
  {
   "cell_type": "code",
   "execution_count": null,
   "id": "c72f9235-8a2e-4206-8006-16cc056fc21e",
   "metadata": {},
   "outputs": [],
   "source": [
    "engine = sa.create_engine(source_db_path) \n",
    "gdf_ci_master = gpd.GeoDataFrame.from_postgis(\n",
    "    \"SELECT id as country_id, name, in_africa, in_me, geom FROM prod.country\",\n",
    "    engine,\n",
    "    geom_col='geom'\n",
    ")\n",
    "gdf_ci_master = gdf_ci_master.to_crs(4326)"
   ]
  },
  {
   "cell_type": "code",
   "execution_count": null,
   "id": "3d2ab285-398f-47e3-bfa5-5d0ab8229b07",
   "metadata": {},
   "outputs": [],
   "source": [
    "data = merged_final_cm.copy()\n",
    "gdf = gdf_ci_master.copy()\n",
    "\n",
    "data = data.join(gdf.set_index(\"country_id\"))\n",
    "gdf = gpd.GeoDataFrame(data, geometry=\"geom\")\n",
    "gdf"
   ]
  },
  {
   "cell_type": "markdown",
   "id": "57bd9f27-986b-4292-86e8-333b6f597d1f",
   "metadata": {},
   "source": [
    "## Plot settings"
   ]
  },
  {
   "cell_type": "code",
   "execution_count": null,
   "id": "cdae98e2-3a60-4695-bf4b-ca2e6532e65f",
   "metadata": {},
   "outputs": [],
   "source": [
    "chosen_month=t+step\n",
    "transform=''     # , ln_, ln2_"
   ]
  },
  {
   "cell_type": "code",
   "execution_count": null,
   "id": "88d98d73-d0b4-4539-ba4d-4e7d9db18384",
   "metadata": {},
   "outputs": [],
   "source": [
    "chosen_month"
   ]
  },
  {
   "cell_type": "code",
   "execution_count": null,
   "id": "2e93ddd4-5538-4239-9ec4-916c97c8ccf0",
   "metadata": {},
   "outputs": [],
   "source": [
    "# Executes the transforms\n",
    "\n",
    "if transform == 'ln_':\n",
    "    data[f'{transform}'+f'{feature}'] = np.log1p(data[f'{feature}'])\n",
    "\n",
    "elif transform == 'ln2_':\n",
    "    data[f'{transform}'+f'{feature}'] = np.log1p(np.log1p(data[f'{feature}']))\n",
    "\n",
    "else: print(\"No transform applied\")"
   ]
  },
  {
   "cell_type": "code",
   "execution_count": null,
   "id": "d6edb737-9a60-477e-b0d4-48e660091820",
   "metadata": {},
   "outputs": [],
   "source": [
    "cmap = 'seismic'"
   ]
  },
  {
   "cell_type": "code",
   "execution_count": null,
   "id": "9b5acb7a-7aef-47c8-aab5-91b510a7ef46",
   "metadata": {},
   "outputs": [],
   "source": [
    "dashboard_index = [-300,-250,-200,-150,-100,-50, 0, 50, 100, 150, 200, 250, 300]\n",
    "dashboard_dict = norm_dict(dashboard_index)\n",
    "\n",
    "\n",
    "display(dashboard_dict)"
   ]
  },
  {
   "cell_type": "code",
   "execution_count": null,
   "id": "ac6bdec9-3748-4ba4-ad22-cc8e587ead4a",
   "metadata": {},
   "outputs": [],
   "source": [
    "map_dictionary = dashboard_dict"
   ]
  },
  {
   "cell_type": "markdown",
   "id": "e0859355-82bf-43f8-b4a9-57f2adb9bf5b",
   "metadata": {},
   "source": [
    "### Where to save the plots"
   ]
  },
  {
   "cell_type": "code",
   "execution_count": null,
   "id": "9e17d8d5-d04c-4c21-8aa9-790c0cddd1de",
   "metadata": {},
   "outputs": [],
   "source": [
    "# Save to Desktop\n",
    "\n",
    "import os\n",
    "home = os.path.expanduser(\"~\")\n",
    "display(home)"
   ]
  },
  {
   "cell_type": "code",
   "execution_count": null,
   "id": "ce274003-bf34-4387-bfa0-105e89dfea40",
   "metadata": {},
   "outputs": [],
   "source": [
    "my_path = home+'/Desktop/'\n",
    "my_path"
   ]
  },
  {
   "cell_type": "markdown",
   "id": "f48ff2e3-1273-4968-9989-cfa622f1f338",
   "metadata": {},
   "source": [
    "## Choose columns to plot"
   ]
  },
  {
   "cell_type": "code",
   "execution_count": null,
   "id": "2c39f58c-d6d1-4564-a1c3-187fd5985bb5",
   "metadata": {},
   "outputs": [],
   "source": [
    "features = ['diff_1m', 'diff_3m', 'diff_6m', 'diff_12m']\n",
    "\n",
    "# diff_1m, diff_3m, diff_6m"
   ]
  },
  {
   "cell_type": "code",
   "execution_count": null,
   "id": "50e99012-8e74-4a8e-80bf-5c2b3ced7904",
   "metadata": {},
   "outputs": [],
   "source": [
    "for feature in features:\n",
    "    \n",
    "    m = Mapper2(\n",
    "        width=40,\n",
    "        height=40,\n",
    "        frame_on=True,\n",
    "        title=f'{feature} for {dataset}',\n",
    "        bbox=bbox_from_cid('globe'), \n",
    "        figure = None\n",
    "    ).add_layer(\n",
    "        gdf=gdf,#.loc[chosen_month],\n",
    "        transparency = 1.0,\n",
    "        edgecolor=\"black\",\n",
    "        linewidth=0.5,\n",
    "        cmap = cmap,\n",
    "        column = f'{transform}'+f'{feature}', \n",
    "        map_dictionary = map_dictionary,\n",
    "    )\n",
    "\n",
    "plt.savefig(my_path+f'{dataset}_{feature}.png', bbox_inches='tight')  # saves the current figure"
   ]
  },
  {
   "cell_type": "code",
   "execution_count": null,
   "id": "d563e105-8b5a-438d-ad48-2212c3665814",
   "metadata": {},
   "outputs": [],
   "source": [
    "print('All done!')"
   ]
  },
  {
   "cell_type": "code",
   "execution_count": null,
   "id": "8f3c7ea9-93f9-41cc-a6a6-2518c77fbf49",
   "metadata": {},
   "outputs": [],
   "source": []
  }
 ],
 "metadata": {
  "kernelspec": {
   "display_name": "Python 3 (ipykernel)",
   "language": "python",
   "name": "python3"
  },
  "language_info": {
   "codemirror_mode": {
    "name": "ipython",
    "version": 3
   },
   "file_extension": ".py",
   "mimetype": "text/x-python",
   "name": "python",
   "nbconvert_exporter": "python",
   "pygments_lexer": "ipython3",
   "version": "3.9.13"
  }
 },
 "nbformat": 4,
 "nbformat_minor": 5
}
