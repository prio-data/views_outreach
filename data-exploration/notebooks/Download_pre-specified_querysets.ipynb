{
 "cells": [
  {
   "cell_type": "markdown",
   "id": "0f3280bd-b1cf-4dde-ad0c-f67dcc6ff512",
   "metadata": {},
   "source": [
    "# Explore and download querysets in ViEWS3\n",
    "\n",
    "This notebook allows you to search for, fetch, and download data from pre-specified querysets. \n",
    "\n",
    "**NOTE: Requires a certificate/access to the VIEWS database.**"
   ]
  },
  {
   "cell_type": "code",
   "execution_count": null,
   "id": "c2f3d058-a044-41c9-a2d8-b655bc6cd29a",
   "metadata": {
    "tags": []
   },
   "outputs": [],
   "source": [
    "# Basics\n",
    "import numpy as np\n",
    "import pandas as pd\n",
    "import matplotlib.pyplot as plt\n",
    "import matplotlib.cbook as cbook\n",
    "# sklearn\n",
    "from sklearn.ensemble import RandomForestRegressor\n",
    "from sklearn import linear_model\n",
    "# Views 3\n",
    "from viewser.operations import fetch\n",
    "from viewser import Queryset, Column\n",
    "import views_runs\n",
    "from views_partitioning import data_partitioner, legacy\n",
    "from stepshift import views\n",
    "from views_mapper2.label_writer import *"
   ]
  },
  {
   "cell_type": "markdown",
   "id": "fc7f5019-6b6b-4bc3-92be-3a8d18372935",
   "metadata": {},
   "source": [
    "## Browse existing querysets"
   ]
  },
  {
   "cell_type": "code",
   "execution_count": null,
   "id": "c3e0e88f-d8c5-442a-90e2-c8097d664ef0",
   "metadata": {},
   "outputs": [],
   "source": [
    "# !viewser queryset list"
   ]
  },
  {
   "cell_type": "code",
   "execution_count": null,
   "id": "1115ec62-622e-438d-8fcf-2967e5c42f00",
   "metadata": {},
   "outputs": [],
   "source": [
    "# !viewser queryset show \"fatalities002_vdem_short\""
   ]
  },
  {
   "cell_type": "markdown",
   "id": "d755daa3-dbee-49f6-b9f3-96985de7171f",
   "metadata": {},
   "source": [
    "# Specify the output folder"
   ]
  },
  {
   "cell_type": "code",
   "execution_count": null,
   "id": "032ca51c-72e7-49b6-8376-7ff94ba74058",
   "metadata": {},
   "outputs": [],
   "source": [
    "import os\n",
    "home = os.path.expanduser(\"~\")"
   ]
  },
  {
   "cell_type": "markdown",
   "id": "895299bf-6735-4cbf-9366-01add142c546",
   "metadata": {},
   "source": [
    "#### Option 1: Save to your desktop"
   ]
  },
  {
   "cell_type": "code",
   "execution_count": null,
   "id": "c3bbd39d-5b9e-4b0f-89b8-96a9a878ef2f",
   "metadata": {},
   "outputs": [],
   "source": [
    "desktop = home+'/Desktop/' "
   ]
  },
  {
   "cell_type": "markdown",
   "id": "d19214f1-3d81-4618-9854-fb8074fd8c4e",
   "metadata": {},
   "source": [
    "#### Option 2: Save to the VIEWS Dropbox"
   ]
  },
  {
   "cell_type": "code",
   "execution_count": null,
   "id": "cbff352d-3c36-45cf-8f7a-fbb26f7d6ba4",
   "metadata": {},
   "outputs": [],
   "source": [
    "# Mydropbox = home + '/Dropbox (ViEWS)/ViEWS/' # (Toggle on to save to Dropbox)\n",
    "# Monthly_updates = Mydropbox + 'DataReleases/MonthlyUpdates/Data' # (Toggle on to save to Dropbox)"
   ]
  },
  {
   "cell_type": "markdown",
   "id": "0ede1aba-9b8a-4c46-a6dd-1dac948c45c8",
   "metadata": {
    "tags": []
   },
   "source": [
    "# Fetch data \n"
   ]
  },
  {
   "cell_type": "code",
   "execution_count": null,
   "id": "afd78e90-3db3-49b3-b31c-5f531d789de6",
   "metadata": {},
   "outputs": [],
   "source": [
    "# Specify time period\n",
    "\n",
    "StartOfHistory = 121 # (Jan 1990)\n",
    "EndOfHistory = 512 # Update as needed"
   ]
  },
  {
   "cell_type": "code",
   "execution_count": null,
   "id": "d74e5bee-991c-4bbc-9f73-3be49d4682c3",
   "metadata": {},
   "outputs": [],
   "source": [
    "# Specify queryset\n",
    "\n",
    "chosen_queryset = 'fatalities002_vdem_short'"
   ]
  },
  {
   "cell_type": "code",
   "execution_count": null,
   "id": "aacf946f-0953-4b4f-9fde-ec03785599dc",
   "metadata": {},
   "outputs": [],
   "source": [
    "# Fetch complete dataset \n",
    "\n",
    "full_qs = Queryset(chosen_queryset,'country_month') # Change to queryset and level of analysis of interest\n",
    "\n",
    "full_qs = full_qs.fetch()\n"
   ]
  },
  {
   "cell_type": "code",
   "execution_count": null,
   "id": "a5c85833-2166-4a4e-80b3-5241b2240e2e",
   "metadata": {},
   "outputs": [],
   "source": [
    "# Filter out subset of data\n",
    "\n",
    "qs_subset = full_qs.query(f'month_id >= {StartOfHistory} & month_id <= {EndOfHistory}')\n",
    "\n",
    "qs_subset # Displays the subset"
   ]
  },
  {
   "cell_type": "markdown",
   "id": "9f09b9e7-3120-4172-8397-ff933b87db0d",
   "metadata": {},
   "source": [
    "## Save to csv"
   ]
  },
  {
   "cell_type": "code",
   "execution_count": null,
   "id": "520cc7cf-98be-48e3-a2c9-3571316262b9",
   "metadata": {},
   "outputs": [],
   "source": [
    "qs_subset.to_csv(desktop+f'Queryset_{chosen_queryset}_{StartOfHistory}-{EndOfHistory}.csv') # Change name of csv"
   ]
  },
  {
   "cell_type": "code",
   "execution_count": null,
   "id": "740b1bb2-8d20-4b6c-9edd-471319126c48",
   "metadata": {},
   "outputs": [],
   "source": [
    "print(\"All done\")"
   ]
  },
  {
   "cell_type": "code",
   "execution_count": null,
   "id": "12f1ba7f-29f9-4af2-962b-da3b4d73227c",
   "metadata": {},
   "outputs": [],
   "source": []
  }
 ],
 "metadata": {
  "kernelspec": {
   "display_name": "Python 3 (ipykernel)",
   "language": "python",
   "name": "python3"
  },
  "language_info": {
   "codemirror_mode": {
    "name": "ipython",
    "version": 3
   },
   "file_extension": ".py",
   "mimetype": "text/x-python",
   "name": "python",
   "nbconvert_exporter": "python",
   "pygments_lexer": "ipython3",
   "version": "3.9.13"
  }
 },
 "nbformat": 4,
 "nbformat_minor": 5
}
