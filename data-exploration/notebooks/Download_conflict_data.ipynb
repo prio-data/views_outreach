{
 "cells": [
  {
   "cell_type": "markdown",
   "id": "0f3280bd-b1cf-4dde-ad0c-f67dcc6ff512",
   "metadata": {},
   "source": [
    "# Explore and download conflict data\n",
    "\n",
    "This notebook allows you explore and extract subsets of UCDP GED, UCDP Candidate, and ACLED data aggregated to the VIEWS levels of analysis. No other data transforms are applied. \n",
    "\n",
    "**NOTE: Requires a certificate/access to the VIEWS database.**"
   ]
  },
  {
   "cell_type": "code",
   "execution_count": null,
   "id": "c2f3d058-a044-41c9-a2d8-b655bc6cd29a",
   "metadata": {
    "tags": []
   },
   "outputs": [],
   "source": [
    "# Basics\n",
    "import numpy as np\n",
    "import pandas as pd\n",
    "import matplotlib.pyplot as plt\n",
    "import matplotlib.cbook as cbook\n",
    "# sklearn\n",
    "from sklearn.ensemble import RandomForestRegressor\n",
    "from sklearn import linear_model\n",
    "# Views 3\n",
    "from viewser.operations import fetch\n",
    "from viewser import Queryset, Column\n",
    "import views_runs\n",
    "from views_partitioning import data_partitioner, legacy\n",
    "from stepshift import views\n",
    "from views_mapper2.label_writer import *"
   ]
  },
  {
   "cell_type": "code",
   "execution_count": null,
   "id": "20a75f1c-f692-40c8-82db-91da48f3f2b1",
   "metadata": {},
   "outputs": [],
   "source": [
    "# !viewser tables list"
   ]
  },
  {
   "cell_type": "code",
   "execution_count": null,
   "id": "fd2c4bc5-3937-4a9a-9ca9-646a33df9022",
   "metadata": {},
   "outputs": [],
   "source": [
    "# !viewser tables show 'faostat_pp_cm'      ## will show all variables in that table"
   ]
  },
  {
   "cell_type": "code",
   "execution_count": null,
   "id": "c3e0e88f-d8c5-442a-90e2-c8097d664ef0",
   "metadata": {},
   "outputs": [],
   "source": [
    "# !viewser queryset list"
   ]
  },
  {
   "cell_type": "markdown",
   "id": "d755daa3-dbee-49f6-b9f3-96985de7171f",
   "metadata": {},
   "source": [
    "# Specify the output folder"
   ]
  },
  {
   "cell_type": "code",
   "execution_count": null,
   "id": "032ca51c-72e7-49b6-8376-7ff94ba74058",
   "metadata": {},
   "outputs": [],
   "source": [
    "import os\n",
    "home = os.path.expanduser(\"~\")"
   ]
  },
  {
   "cell_type": "markdown",
   "id": "895299bf-6735-4cbf-9366-01add142c546",
   "metadata": {},
   "source": [
    "#### Option 1: Save to your desktop"
   ]
  },
  {
   "cell_type": "code",
   "execution_count": null,
   "id": "c3bbd39d-5b9e-4b0f-89b8-96a9a878ef2f",
   "metadata": {},
   "outputs": [],
   "source": [
    "desktop = home+'/Desktop' # (Toggle on to save to desktop)"
   ]
  },
  {
   "cell_type": "markdown",
   "id": "d19214f1-3d81-4618-9854-fb8074fd8c4e",
   "metadata": {},
   "source": [
    "#### Option 2: Save to the VIEWS Dropbox"
   ]
  },
  {
   "cell_type": "code",
   "execution_count": null,
   "id": "cbff352d-3c36-45cf-8f7a-fbb26f7d6ba4",
   "metadata": {},
   "outputs": [],
   "source": [
    "# Mydropbox = home + '/Dropbox (ViEWS)/ViEWS/' # (Toggle on to save to Dropbox)\n",
    "# Monthly_updates = Mydropbox + 'DataReleases/MonthlyUpdates/' # (Toggle on to save to Dropbox)"
   ]
  },
  {
   "cell_type": "markdown",
   "id": "8c64d6f6-a637-4cd1-92e7-d808ea444cc5",
   "metadata": {},
   "source": [
    "# Find and specify time period and country of interest"
   ]
  },
  {
   "cell_type": "markdown",
   "id": "180ff3a8-ef98-414e-b04f-053e139c7967",
   "metadata": {},
   "source": [
    "## Find month_id of interest"
   ]
  },
  {
   "cell_type": "code",
   "execution_count": null,
   "id": "281ddbf6-3a8e-44bf-a898-2fd87c7abf25",
   "metadata": {},
   "outputs": [],
   "source": [
    "def vid2date(i):\n",
    "    year=str(1980 + i//12)\n",
    "    month=str(i%12)\n",
    "    return year+'/'+month"
   ]
  },
  {
   "cell_type": "code",
   "execution_count": null,
   "id": "487963b6-7c4d-45fd-a58c-ccb8e7cd5728",
   "metadata": {},
   "outputs": [],
   "source": [
    "# Print month_ids for the chosen period\n",
    "\n",
    "print(ViewsMonth.from_year_month(year=2022, month=7)) "
   ]
  },
  {
   "cell_type": "markdown",
   "id": "6de28830-eeb2-46e5-8e56-a32718ec5bc7",
   "metadata": {},
   "source": [
    "## Specify time period of interest"
   ]
  },
  {
   "cell_type": "code",
   "execution_count": null,
   "id": "225a84f7-65e2-40c3-994f-6bfe10e9b145",
   "metadata": {},
   "outputs": [],
   "source": [
    "StartOfHistory=121 # Jan 1990, change as needed\n",
    "EndOfHistory=512 # Change as needed"
   ]
  },
  {
   "cell_type": "markdown",
   "id": "e6bf2424-a942-497a-b430-f5e8554e591f",
   "metadata": {},
   "source": [
    "## Find country of interest"
   ]
  },
  {
   "cell_type": "code",
   "execution_count": null,
   "id": "e9ddf532-7fe8-4583-ad10-32da08267b26",
   "metadata": {},
   "outputs": [],
   "source": [
    "name_date2cid('Kenya','2017-07-01')"
   ]
  },
  {
   "cell_type": "markdown",
   "id": "0ede1aba-9b8a-4c46-a6dd-1dac948c45c8",
   "metadata": {},
   "source": [
    "# Fetch and download conflict data \n"
   ]
  },
  {
   "cell_type": "markdown",
   "id": "c335146e-fe1f-4284-b63d-2d812f203d61",
   "metadata": {
    "tags": []
   },
   "source": [
    "## Country-month level (*cm*)"
   ]
  },
  {
   "cell_type": "markdown",
   "id": "533cfcc7-6f2d-455e-8ee1-ae62db746234",
   "metadata": {},
   "source": [
    "### UCDP GED/UCDP Candidate"
   ]
  },
  {
   "cell_type": "code",
   "execution_count": null,
   "id": "bd6b1ea6-5946-471e-8e75-6ed83f5be9d7",
   "metadata": {},
   "outputs": [],
   "source": [
    "qs_ged_cm = (Queryset(\"ALM_cm_ged_data_no_transforms\", \"country_month\")\n",
    "\n",
    "# identifiers\n",
    "             \n",
    ".with_column(Column('year', from_table = 'month', from_column = 'year_id'))\n",
    ".with_column(Column('month', from_table = 'month', from_column = 'month'))\n",
    ".with_column(Column('country_name', from_table = 'country', from_column = 'name'))\n",
    "\n",
    "# non-logged target variable GED fatalities\n",
    "         \n",
    ".with_column(Column(\"ged_best_sb\", from_table = \"ged2_cm\", from_column = \"ged_sb_best_sum_nokgi\")\n",
    "             #.transform.missing.fill()\n",
    "            )                   \n",
    ".with_column(Column(\"ged_best_os\", from_table = \"ged2_cm\", from_column = \"ged_os_best_sum_nokgi\")\n",
    "             #.transform.missing.fill()\n",
    "            )   \n",
    ".with_column(Column(\"ged_best_ns\", from_table = \"ged2_cm\", from_column = \"ged_ns_best_sum_nokgi\")\n",
    "             #.transform.missing.fill()\n",
    "            )  \n",
    "              )\n",
    "      \n",
    "qs_ged_cm = qs_ged_cm.publish().fetch()\n",
    "\n",
    "print(f\"A dataset with {len(qs_ged_cm.columns)} columns, with \"\n",
    "      f\"data between t {min(qs_ged_cm.index.get_level_values(0))} \"\n",
    "      f\"and {max(qs_ged_cm.index.get_level_values(0))}. \"\n",
    "      f\"({len(np.unique(qs_ged_cm.index.get_level_values(1)))} units)\"\n",
    "     )"
   ]
  },
  {
   "cell_type": "code",
   "execution_count": null,
   "id": "b53e7039-cf04-408c-95c3-c8b84b38a3a2",
   "metadata": {},
   "outputs": [],
   "source": [
    "qs_ged_cm # displays the dataframe above"
   ]
  },
  {
   "cell_type": "code",
   "execution_count": null,
   "id": "d129e03b-c859-4326-994e-6bf465949b6f",
   "metadata": {},
   "outputs": [],
   "source": [
    "ged_cm_subset= qs_ged_cm.query(f'month_id >= {StartOfHistory} and month_id <= {EndOfHistory}')\n",
    "#ged_cm_subset= qs_ged_cm.query(f'month_id >= {StartOfHistory} and month_id <= {EndOfHistory} and country_id == 237')\n",
    "\n",
    "ged_cm_subset # displays the subset"
   ]
  },
  {
   "cell_type": "markdown",
   "id": "d820f70e-96c4-4d4d-94dd-48490efec440",
   "metadata": {},
   "source": [
    "#### Download as .csv"
   ]
  },
  {
   "cell_type": "code",
   "execution_count": null,
   "id": "137c3666-11ce-437f-85af-978e98888429",
   "metadata": {},
   "outputs": [],
   "source": [
    "ged_cm_subset.to_csv(desktop+f'/UCDP_cm_{StartOfHistory}-{EndOfHistory}.csv') # change name of csv\n",
    "# ged_cm_subset.to_csv(desktop+f'/UCDP_cm_{StartOfHistory}-{EndOfHistory}_country.csv') # change name of csv"
   ]
  },
  {
   "cell_type": "markdown",
   "id": "bf788f62-b063-4ad3-b4d0-25bab65d4cc3",
   "metadata": {},
   "source": [
    "### ACLED"
   ]
  },
  {
   "cell_type": "code",
   "execution_count": null,
   "id": "8e988c7f-8e1c-4207-afa0-fde8af525e4d",
   "metadata": {},
   "outputs": [],
   "source": [
    "qs_acled_cm = (Queryset(\"ALM_cm_acled_data_no_transforms\", \"country_month\")\n",
    "\n",
    "# identifiers\n",
    "               \n",
    ".with_column(Column('year', from_table = 'month', from_column = 'year_id'))\n",
    ".with_column(Column('month', from_table = 'month', from_column = 'month'))\n",
    ".with_column(Column('country_name', from_table = 'country', from_column = 'name'))        \n",
    "         \n",
    "# non-logged target variable ACLED fatalities\n",
    "       \n",
    ".with_column(Column(\"acled_sb_fat\", from_table = \"acled2_cm\", from_column = \"acled_sb_fat\")) \n",
    ".with_column(Column(\"acled_os_fat\", from_table = \"acled2_cm\", from_column = \"acled_os_fat\")) \n",
    ".with_column(Column(\"acled_ns_fat\", from_table = \"acled2_cm\", from_column = \"acled_ns_fat\"))\n",
    "        )\n",
    "      \n",
    "qs_acled_cm = qs_acled_cm.publish().fetch()\n",
    "\n",
    "print(f\"A dataset with {len(qs_acled_cm.columns)} columns, with \"\n",
    "      f\"data between t {min(qs_acled_cm.index.get_level_values(0))} \"\n",
    "      f\"and {max(qs_acled_cm.index.get_level_values(0))}. \"\n",
    "      f\"({len(np.unique(qs_acled_cm.index.get_level_values(1)))} units)\"\n",
    "     )"
   ]
  },
  {
   "cell_type": "code",
   "execution_count": null,
   "id": "2798e84d-8564-454b-8eff-baf964ab0150",
   "metadata": {},
   "outputs": [],
   "source": [
    "acled_cm_subset= qs_acled_cm.query(f'month_id >= {StartOfHistory} and month_id <= {EndOfHistory}')\n",
    "#acled_cm_subset= qs_acled_cm.query(f'month_id >= {StartOfHistory} and month_id <= {EndOfHistory} and country_id == 237')\n",
    "\n",
    "acled_cm_subset"
   ]
  },
  {
   "cell_type": "markdown",
   "id": "0b1f4cdd-8013-42f0-9c78-9b762f57651b",
   "metadata": {},
   "source": [
    "#### Download as .csv"
   ]
  },
  {
   "cell_type": "code",
   "execution_count": null,
   "id": "674a12bc-c390-469c-aa3d-f1d5c1242f49",
   "metadata": {},
   "outputs": [],
   "source": [
    "acled_cm_subset.to_csv(desktop+f'/ACLED_cm_{StartOfHistory}-{EndOfHistory}.csv') # change name of csv file\n",
    "#acled_cm_subset.to_csv(desktop+f'/ACLED_cm_{StartOfHistory}-{EndOfHistory_country}.csv') # change name of csv file"
   ]
  },
  {
   "cell_type": "markdown",
   "id": "8489dd38-a92d-4393-b7ff-3ca6e4aec8a1",
   "metadata": {},
   "source": [
    "## PRIO-GRID-month (*pgm*) data"
   ]
  },
  {
   "cell_type": "markdown",
   "id": "53fe91b4-f632-43ee-8155-3ea4d3321069",
   "metadata": {},
   "source": [
    "### UCDP GED/UCDP Candidate"
   ]
  },
  {
   "cell_type": "code",
   "execution_count": null,
   "id": "3cf17ac0-8092-44ca-88bc-b72e4af27121",
   "metadata": {},
   "outputs": [],
   "source": [
    "qs_ged_pgm = (Queryset(\"ALM_pgm_ged_data_no_transforms\", \"priogrid_month\")\n",
    "         \n",
    "# identifiers\n",
    "         \n",
    ".with_column(Column('country_name', from_table = 'country', from_column = 'name'))\n",
    ".with_column(Column('year', from_table = 'month', from_column = 'year_id'))\n",
    ".with_column(Column('month', from_table = 'month', from_column = 'month'))      \n",
    "         \n",
    "# non-logged target variable GED fatalities\n",
    "         \n",
    ".with_column(Column(\"ged_best_sb\", from_table = \"ged2_pgm\", from_column = \"ged_sb_best_sum_nokgi\"))                   \n",
    ".with_column(Column(\"ged_best_os\", from_table = \"ged2_pgm\", from_column = \"ged_os_best_sum_nokgi\"))   \n",
    ".with_column(Column(\"ged_best_ns\", from_table = \"ged2_pgm\", from_column = \"ged_ns_best_sum_nokgi\"))\n",
    "             )\n",
    "      \n",
    "qs_ged_pgm = qs_ged_pgm.publish().fetch()\n",
    "\n",
    "print(f\"A dataset with {len(qs_ged_pgm.columns)} columns, with \"\n",
    "      f\"data between t {min(qs_ged_pgm.index.get_level_values(0))} \"\n",
    "      f\"and {max(qs_ged_pgm.index.get_level_values(0))}. \"\n",
    "      f\"({len(np.unique(qs_ged_pgm.index.get_level_values(1)))} units)\"\n",
    "     )"
   ]
  },
  {
   "cell_type": "code",
   "execution_count": null,
   "id": "9c41ed4b-3563-45f1-9243-5bf9ff359d20",
   "metadata": {},
   "outputs": [],
   "source": [
    "# Subset for given month range\n",
    "\n",
    "ged_pgm_step1 = qs_ged_pgm.query(f'month_id >= {StartOfHistory} and month_id <= {EndOfHistory}')"
   ]
  },
  {
   "cell_type": "code",
   "execution_count": null,
   "id": "29384d18-98d6-4749-83dd-089d46715d4e",
   "metadata": {},
   "outputs": [],
   "source": [
    "# Subset also for a given country\n",
    "\n",
    "ged_pgm_step2 = ged_pgm_step1[ged_pgm_step1['country_name'] == 'Kenya']\n",
    "ged_pgm_step2"
   ]
  },
  {
   "cell_type": "markdown",
   "id": "da66a39a-455b-479e-b9d1-78777325c2a2",
   "metadata": {},
   "source": [
    "#### Download as .csv"
   ]
  },
  {
   "cell_type": "code",
   "execution_count": null,
   "id": "3041890b-ee44-4042-ac58-3596ff508fb1",
   "metadata": {},
   "outputs": [],
   "source": [
    "ged_pgm_step1.to_csv(desktop+f'/UCDP_pgm_{StartOfHistory}-{EndOfHistory}.csv')\n",
    "# ged_pgm_step2.to_csv(desktop+f'/UCDP_pgm_{StartOfHistory}-{EndOfHistory}_country.csv')"
   ]
  },
  {
   "cell_type": "markdown",
   "id": "43acd2b6-2b55-480e-996b-dc6dd656d037",
   "metadata": {},
   "source": [
    "### ACLED"
   ]
  },
  {
   "cell_type": "code",
   "execution_count": null,
   "id": "c24f55f5-81fa-4f8d-8416-add35864f677",
   "metadata": {},
   "outputs": [],
   "source": [
    "qs_acled_pgm = (Queryset(\"ALM_pgm_acled_data_no_transforms\", \"priogrid_month\")\n",
    "         \n",
    "# identifiers\n",
    "         \n",
    ".with_column(Column('country_name', from_table = 'country', from_column = 'name'))\n",
    ".with_column(Column('year', from_table = 'month', from_column = 'year_id'))\n",
    ".with_column(Column('month', from_table = 'month', from_column = 'month'))      \n",
    "         \n",
    "# non-logged target variable ACLED fatalities\n",
    "       \n",
    ".with_column(Column(\"acled_sb_fat\", from_table = \"acled2_cm\", from_column = \"acled_sb_fat\")) \n",
    ".with_column(Column(\"acled_os_fat\", from_table = \"acled2_cm\", from_column = \"acled_os_fat\")) \n",
    ".with_column(Column(\"acled_ns_fat\", from_table = \"acled2_cm\", from_column = \"acled_ns_fat\"))\n",
    "         )\n",
    "      \n",
    "qs_acled_pgm = qs_acled_pgm.publish().fetch()\n",
    "\n",
    "print(f\"A dataset with {len(qs_acled_pgm.columns)} columns, with \"\n",
    "      f\"data between t {min(qs_acled_pgm.index.get_level_values(0))} \"\n",
    "      f\"and {max(qs_acled_pgm.index.get_level_values(0))}. \"\n",
    "      f\"({len(np.unique(qs_acled_pgm.index.get_level_values(1)))} units)\"\n",
    "     )"
   ]
  },
  {
   "cell_type": "code",
   "execution_count": null,
   "id": "9f945349-8c82-4d5a-99f0-fb2650435fd6",
   "metadata": {},
   "outputs": [],
   "source": [
    "# Subset for given month range\n",
    "\n",
    "acled_pgm_step1 = qs_acled_pgm.query(f'month_id >= {StartOfHistory} and month_id <= {EndOfHistory}')"
   ]
  },
  {
   "cell_type": "code",
   "execution_count": null,
   "id": "a07b7a32-0bd6-41da-83bd-4ef14a481d95",
   "metadata": {},
   "outputs": [],
   "source": [
    "# Subset also for a given country\n",
    "\n",
    "acled_pgm_step2 = acled_pgm_step1[acled_pgm_step1['country_name'] == 'Kenya']\n",
    "acled_pgm_step2"
   ]
  },
  {
   "cell_type": "markdown",
   "id": "157bbab9-19f8-4a4f-9bc4-bab6b9eab0b0",
   "metadata": {},
   "source": [
    "#### Download as .csv"
   ]
  },
  {
   "cell_type": "code",
   "execution_count": null,
   "id": "9b65915c-2ad9-47e8-9966-4e74a83a5312",
   "metadata": {},
   "outputs": [],
   "source": [
    "acled_pgm_step1.to_csv(desktop+f'/ACLED_pgm_{StartOfHistory}-{EndOfHistory}.csv')\n",
    "# acled_pgm_step2.to_csv(desktop+f'/ACLED_pgm_{StartOfHistory}-{EndOfHistory}_country.csv')\n"
   ]
  },
  {
   "cell_type": "code",
   "execution_count": null,
   "id": "9e9b82b7-b0fa-4fec-a245-ad082cd6fb42",
   "metadata": {},
   "outputs": [],
   "source": [
    "print(\"All done\")"
   ]
  },
  {
   "cell_type": "code",
   "execution_count": null,
   "id": "54f0839a-4dfb-4567-9267-7f7e8e342016",
   "metadata": {},
   "outputs": [],
   "source": []
  }
 ],
 "metadata": {
  "kernelspec": {
   "display_name": "Python 3 (ipykernel)",
   "language": "python",
   "name": "python3"
  },
  "language_info": {
   "codemirror_mode": {
    "name": "ipython",
    "version": 3
   },
   "file_extension": ".py",
   "mimetype": "text/x-python",
   "name": "python",
   "nbconvert_exporter": "python",
   "pygments_lexer": "ipython3",
   "version": "3.9.13"
  }
 },
 "nbformat": 4,
 "nbformat_minor": 5
}
