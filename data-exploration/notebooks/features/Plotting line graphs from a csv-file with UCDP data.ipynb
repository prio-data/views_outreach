{
 "cells": [
  {
   "cell_type": "markdown",
   "id": "640073b0-8f4a-42d5-ab4d-ac7403acfe91",
   "metadata": {},
   "source": [
    "# Plotting line graphs from a csv-file with UCDP data "
   ]
  },
  {
   "cell_type": "markdown",
   "id": "f3a8a41d-9214-4891-9e5d-94c6c56b105c",
   "metadata": {},
   "source": [
    "**To get started:**\n",
    "\n",
    "- Extract a dataset of UCDP data from viewser or the API and upload it to the local repository in which this notebook is stored.\n",
    "- Update the cells below to read in your csv. "
   ]
  },
  {
   "cell_type": "code",
   "execution_count": null,
   "id": "1ed35c60-a449-4da2-bb0b-df8a8a7da72f",
   "metadata": {},
   "outputs": [],
   "source": [
    "import pandas as pd\n",
    "import numpy as np\n",
    "import matplotlib.pyplot as plt\n",
    "import matplotlib.cbook as cbook"
   ]
  },
  {
   "cell_type": "code",
   "execution_count": null,
   "id": "4753c66c-dc66-4f7a-9cca-1a839b5475fe",
   "metadata": {},
   "outputs": [],
   "source": [
    "\n",
    "from views_mapper2.label_writer import *"
   ]
  },
  {
   "cell_type": "markdown",
   "id": "fff141ca-ade6-4957-b0cc-2a92773bb17b",
   "metadata": {},
   "source": [
    "## Load the .csv file with UCDP data"
   ]
  },
  {
   "cell_type": "code",
   "execution_count": null,
   "id": "3b1da67c-5c65-4788-9eb9-3cf24d1d7bb5",
   "metadata": {},
   "outputs": [],
   "source": [
    "data = pd.read_csv('UCDP_cm_457-524.csv') # Change to the name of your file"
   ]
  },
  {
   "cell_type": "code",
   "execution_count": null,
   "id": "d853be3b-ddf3-40c9-aed6-442bd3fd7fbb",
   "metadata": {},
   "outputs": [],
   "source": [
    "data['Date'] = data['year'].astype(str) +'-'+ data['month'].astype(str)\n",
    "\n",
    "data"
   ]
  },
  {
   "cell_type": "markdown",
   "id": "1a366ea9-8c2b-4c3c-a1b7-15dc96e22e5f",
   "metadata": {},
   "source": [
    "## Identify relevant VIEWS month ID"
   ]
  },
  {
   "cell_type": "code",
   "execution_count": null,
   "id": "8823bc01-dd46-4c06-92a8-14e10b8d61e0",
   "metadata": {},
   "outputs": [],
   "source": [
    "# Load function to print month ID from calendar year and month\n",
    "\n",
    "def vid2date(i):\n",
    "    year=str(1980 + i//12)\n",
    "    month=str(i%12)\n",
    "    return year+'/'+month"
   ]
  },
  {
   "cell_type": "code",
   "execution_count": null,
   "id": "c50a6e25-297a-48ec-8e0e-5af761e9c700",
   "metadata": {},
   "outputs": [],
   "source": [
    "# Print month ID for the chosen period\n",
    "\n",
    "print(ViewsMonth.from_year_month(year=2022, month=8)) "
   ]
  },
  {
   "cell_type": "markdown",
   "id": "eb9e79a3-b0cc-45ae-bda1-8d19a10e5d2a",
   "metadata": {},
   "source": [
    "## Set period of interest"
   ]
  },
  {
   "cell_type": "code",
   "execution_count": null,
   "id": "eb7facea-fc9f-4822-bfbb-519ddcab32dc",
   "metadata": {},
   "outputs": [],
   "source": [
    "StartOfHistory = '512'\n",
    "EndOfHistory = '524'\n",
    "\n",
    "StartOfHistory_human = 'Aug 2022'\n",
    "EndOfHistory_human = 'Aug 2023'"
   ]
  },
  {
   "cell_type": "code",
   "execution_count": null,
   "id": "af8e68e5-32aa-400a-bd4a-2f393690e8f0",
   "metadata": {},
   "outputs": [],
   "source": [
    "# Query the data period of interest\n",
    "\n",
    "subset = data.query(f'month_id >= {StartOfHistory} & month_id <= {EndOfHistory}')\n",
    "subset"
   ]
  },
  {
   "cell_type": "markdown",
   "id": "20b083e0-db58-4cc4-8b39-476c4afc4a46",
   "metadata": {},
   "source": [
    "## Set country of interest"
   ]
  },
  {
   "cell_type": "code",
   "execution_count": null,
   "id": "741de47b-bb19-4d5d-a1c0-ed53ab2498e1",
   "metadata": {},
   "outputs": [],
   "source": [
    "# Print country ID\n",
    "\n",
    "name_date2cid('Sudan','2017-07-01') # The date here is irrelevant"
   ]
  },
  {
   "cell_type": "code",
   "execution_count": null,
   "id": "88270718-1c8b-429c-a0e9-de75d5c3420d",
   "metadata": {},
   "outputs": [],
   "source": [
    "country_name = 'Sudan' # for the plot"
   ]
  },
  {
   "cell_type": "code",
   "execution_count": null,
   "id": "dc4a2218-1793-46a7-ac25-3eb41276c5a2",
   "metadata": {},
   "outputs": [],
   "source": [
    "# Query data on the country ID above\n",
    "\n",
    "df = subset.query('country_id == 245')\n",
    "df\n"
   ]
  },
  {
   "cell_type": "markdown",
   "id": "862423ee-4170-4d20-bd3d-7f46a97fd0b6",
   "metadata": {},
   "source": [
    "## Plot the data"
   ]
  },
  {
   "cell_type": "code",
   "execution_count": null,
   "id": "5110b755-b063-4839-aa3c-fb0116b4c06e",
   "metadata": {},
   "outputs": [],
   "source": [
    "# Create the line graph, for all three types of violence\n",
    "\n",
    "df.plot(x=\"Date\", y=[\"ged_best_sb\", \"ged_best_ns\", \"ged_best_os\"],figsize=(10, 4))\n",
    "# Customize the graph\n",
    "plt.title(f'Observed fatalities, {country_name}, {StartOfHistory_human}-{EndOfHistory_human}')\n",
    "plt.xlabel(\"Month\")\n",
    "plt.xticks(rotation = 80) # Rotates X-Axis Ticks by 45-degrees\n",
    "plt.ylabel(\"Observed fatalities\")\n",
    "plt.grid()\n",
    "# Use the ax settings below to cap the x and y axes\n",
    "#ax = plt.gca()\n",
    "#ax.set_xlim([xmin, xmax])\n",
    "#ax.set_ylim([0, 300])\n",
    "plt.savefig(f'/Users/angli742/Desktop/{country_name}_all_{StartOfHistory_human}-{EndOfHistory_human}.png', bbox_inches='tight')"
   ]
  },
  {
   "cell_type": "code",
   "execution_count": null,
   "id": "7f8f38a7-423e-4081-a4aa-252089c92296",
   "metadata": {},
   "outputs": [],
   "source": [
    "# Create the line graph, for sb conflict only\n",
    "\n",
    "df.plot(x=\"Date\", y=\"ged_best_sb\", label=\"State-based conflict\", figsize=(10, 4))\n",
    "# Customize the graph\n",
    "plt.title(f'Observed fatalities, state-based conflict, {country_name}, {StartOfHistory_human}-{EndOfHistory_human}')\n",
    "plt.xlabel(\"Month\")\n",
    "plt.xticks(rotation = 80) # Rotates X-Axis Ticks by 45-degrees\n",
    "plt.ylabel(\"Observed fatalities\")\n",
    "plt.grid()\n",
    "plt.savefig(f'/Users/angli742/Desktop/{country_name}_sb_{StartOfHistory_human}-{EndOfHistory_human}.png', bbox_inches='tight')\n",
    "\n",
    "# Create the line graph, for ns conflict only\n",
    "\n",
    "df.plot(x=\"Date\", y=\"ged_best_ns\", label=\"Non-state conflict\", figsize=(10, 4))\n",
    "# Customize the graph\n",
    "plt.title(f\"Observed fatalities from non-state conflict in {country_name} from {StartOfHistory_human}-{EndOfHistory_human}\")\n",
    "plt.xlabel(\"Month\")\n",
    "plt.xticks(rotation = 80) # Rotates X-Axis Ticks by 45-degrees\n",
    "plt.ylabel(\"Observed fatalities\")\n",
    "plt.grid()\n",
    "plt.savefig(f'/Users/angli742/Desktop/{country_name}_ns_{StartOfHistory_human}-{EndOfHistory_human}.png', bbox_inches='tight')\n",
    "\n",
    "# Create the line graph, for os violence only\n",
    "\n",
    "df.plot(x=\"Date\", y=\"ged_best_os\", label=\"One-sided violence\", figsize=(10, 4))\n",
    "# Customize the graph\n",
    "plt.title(f\"Observed fatalities from one-sided violence in {country_name} from {StartOfHistory_human}-{EndOfHistory_human}\")\n",
    "plt.xlabel(\"Month\")\n",
    "plt.xticks(rotation = 80) # Rotates X-Axis Ticks by 45-degrees\n",
    "plt.ylabel(\"Observed fatalities\")\n",
    "plt.grid()\n",
    "plt.savefig(f'/Users/angli742/Desktop/{country_name}_os_{StartOfHistory_human}-{EndOfHistory_human}.png', bbox_inches='tight')\n",
    "\n",
    "plt.show()"
   ]
  }
 ],
 "metadata": {
  "kernelspec": {
   "display_name": "Python 3 (ipykernel)",
   "language": "python",
   "name": "python3"
  },
  "language_info": {
   "codemirror_mode": {
    "name": "ipython",
    "version": 3
   },
   "file_extension": ".py",
   "mimetype": "text/x-python",
   "name": "python",
   "nbconvert_exporter": "python",
   "pygments_lexer": "ipython3",
   "version": "3.9.13"
  }
 },
 "nbformat": 4,
 "nbformat_minor": 5
}
