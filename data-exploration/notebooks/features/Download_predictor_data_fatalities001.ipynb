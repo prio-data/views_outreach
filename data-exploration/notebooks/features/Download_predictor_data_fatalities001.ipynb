{
 "cells": [
  {
   "cell_type": "markdown",
   "id": "0f3280bd-b1cf-4dde-ad0c-f67dcc6ff512",
   "metadata": {},
   "source": [
    "# Explore and download predictor (input) data used in `fatalities001`\n",
    "\n",
    "**Prequisites: Access to VIEWS internal database**\n",
    "\n",
    "This notebook allows you to query and extract a subset of the predictor data that feed into the VIEWS model each month, aggregated to the VIEWS levels of analysis. \n",
    "\n",
    "No other data transforms are applied. "
   ]
  },
  {
   "cell_type": "code",
   "execution_count": null,
   "id": "c2f3d058-a044-41c9-a2d8-b655bc6cd29a",
   "metadata": {
    "tags": []
   },
   "outputs": [],
   "source": [
    "# VIEWS 3\n",
    "from viewser.operations import fetch\n",
    "from viewser import Queryset, Column\n",
    "from views_mapper2.label_writer import *"
   ]
  },
  {
   "cell_type": "markdown",
   "id": "d755daa3-dbee-49f6-b9f3-96985de7171f",
   "metadata": {},
   "source": [
    "# Specify the output folder"
   ]
  },
  {
   "cell_type": "code",
   "execution_count": null,
   "id": "032ca51c-72e7-49b6-8376-7ff94ba74058",
   "metadata": {},
   "outputs": [],
   "source": [
    "import os\n",
    "home = os.path.expanduser(\"~\")"
   ]
  },
  {
   "cell_type": "markdown",
   "id": "895299bf-6735-4cbf-9366-01add142c546",
   "metadata": {},
   "source": [
    "#### Option 1: Save to your desktop"
   ]
  },
  {
   "cell_type": "code",
   "execution_count": null,
   "id": "c3bbd39d-5b9e-4b0f-89b8-96a9a878ef2f",
   "metadata": {},
   "outputs": [],
   "source": [
    "desktop = home+'/Desktop/' "
   ]
  },
  {
   "cell_type": "markdown",
   "id": "d19214f1-3d81-4618-9854-fb8074fd8c4e",
   "metadata": {},
   "source": [
    "#### Option 2: Save to the VIEWS Dropbox"
   ]
  },
  {
   "cell_type": "code",
   "execution_count": null,
   "id": "cbff352d-3c36-45cf-8f7a-fbb26f7d6ba4",
   "metadata": {},
   "outputs": [],
   "source": [
    "# Mydropbox = home + '/Dropbox (ViEWS)/ViEWS/' # (Toggle on to save to Dropbox)"
   ]
  },
  {
   "cell_type": "markdown",
   "id": "0ede1aba-9b8a-4c46-a6dd-1dac948c45c8",
   "metadata": {
    "tags": []
   },
   "source": [
    "# Fetch data \n"
   ]
  },
  {
   "cell_type": "markdown",
   "id": "70900e91-b63a-4405-becf-bf80b780aaca",
   "metadata": {},
   "source": [
    "### Select time period\n",
    "\n",
    "Select the time period of interest below using VIEWS `month_ids`. "
   ]
  },
  {
   "cell_type": "code",
   "execution_count": null,
   "id": "afd78e90-3db3-49b3-b31c-5f531d789de6",
   "metadata": {},
   "outputs": [],
   "source": [
    "StartOfHistory = 121 # 121 = Jan 1990\n",
    "EndOfHistory = 519 # Update as needed"
   ]
  },
  {
   "cell_type": "markdown",
   "id": "59f1f634-7f80-40f1-9e5c-869634640e26",
   "metadata": {},
   "source": [
    "### Identify `month_ids` (if needed)"
   ]
  },
  {
   "cell_type": "code",
   "execution_count": null,
   "id": "6bf8b8c5-eaed-423f-91c0-e7e69f10e39a",
   "metadata": {},
   "outputs": [],
   "source": [
    "# Call the function\n",
    "\n",
    "def vid2date(i):\n",
    "    year=str(ViewsMonth(i).year)\n",
    "    month=str(ViewsMonth(i).month)\n",
    "    return year+'/'+monthb"
   ]
  },
  {
   "cell_type": "code",
   "execution_count": null,
   "id": "71a705a5-45aa-4d88-a528-5d9aab432947",
   "metadata": {},
   "outputs": [],
   "source": [
    "# Choose year and month below to print the correlated `month_id`\n",
    "\n",
    "print(ViewsMonth.from_year_month(year=2023, month=3)) "
   ]
  },
  {
   "cell_type": "markdown",
   "id": "c335146e-fe1f-4284-b63d-2d812f203d61",
   "metadata": {
    "tags": []
   },
   "source": [
    "## Country-month level (*cm*)"
   ]
  },
  {
   "cell_type": "code",
   "execution_count": null,
   "id": "bd6b1ea6-5946-471e-8e75-6ed83f5be9d7",
   "metadata": {},
   "outputs": [],
   "source": [
    "data_cm = (Queryset(\"fatalities001_API_predictors_cm\", \"country_month\")\n",
    "\n",
    "# Identifiers\n",
    "            \n",
    ".with_column(Column('year', from_table = 'month', from_column = 'year_id'))\n",
    ".with_column(Column('month', from_table = 'month', from_column = 'month'))\n",
    ".with_column(Column('isoab', from_table = 'country', from_column = 'isoab'))\n",
    ".with_column(Column('country', from_table = 'country', from_column = 'name'))\n",
    ".with_column(Column('gwcode', from_table = 'country', from_column = 'gwcode'))\n",
    "\n",
    "# GED\n",
    "\n",
    ".with_column(Column(\"ucdp_ged_best_sb\", from_table = \"ged2_cm\", from_column = \"ged_sb_best_sum_nokgi\"))                   \n",
    ".with_column(Column(\"ucdp_ged_best_os\", from_table = \"ged2_cm\", from_column = \"ged_os_best_sum_nokgi\"))   \n",
    ".with_column(Column(\"ucdp_ged_best_ns\", from_table = \"ged2_cm\", from_column = \"ged_ns_best_sum_nokgi\"))          \n",
    "  \n",
    "# ACLED\n",
    "                    \n",
    ".with_column(Column(\"acled_sb_fat\", from_table = \"acled2_cm\", from_column = \"acled_sb_fat\")) \n",
    ".with_column(Column(\"acled_os_fat\", from_table = \"acled2_cm\", from_column = \"acled_os_fat\")) \n",
    ".with_column(Column(\"acled_ns_fat\", from_table = \"acled2_cm\", from_column = \"acled_ns_fat\"))\n",
    "           \n",
    ".with_column(Column(\"acled_prx_fat\", from_table = \"acled2_cm\", from_column = \"acled_prx_fat\"))\n",
    ".with_column(Column(\"acled_bat_gov_fat\", from_table = \"acled2_cm\", from_column = \"acled_bat_gov_fat\"))\n",
    ".with_column(Column(\"acled_bat_reb_fat\", from_table = \"acled2_cm\", from_column = \"acled_bat_reb_fat\"))\n",
    "                     \n",
    ".with_column(Column(\"acled_sb_count\", from_table = \"acled2_cm\", from_column = \"acled_sb_count\")) \n",
    ".with_column(Column(\"acled_os_count\", from_table = \"acled2_cm\", from_column = \"acled_os_count\")) \n",
    ".with_column(Column(\"acled_ns_count\", from_table = \"acled2_cm\", from_column = \"acled_ns_count\"))\n",
    "  \n",
    ".with_column(Column(\"acled_prx_count\", from_table = \"acled2_cm\", from_column = \"acled_prx_count\")) \n",
    ".with_column(Column(\"acled_pr_count\", from_table = \"acled2_cm\", from_column = \"acled_pr_count\")) \n",
    "                    \n",
    "# V-Dem v. 11 \n",
    "                    \n",
    ".with_column(Column(\"vdem_v11_v2x_rule\", from_table = \"vdem_v11_cy\", from_column = \"vdem_v2x_rule\")) \n",
    ".with_column(Column(\"vdem_v11_v2x_gender\", from_table = \"vdem_v11_cy\", from_column = \"vdem_v2x_gender\")) \n",
    ".with_column(Column(\"vdem_v11_v2xcl_acjst\", from_table = \"vdem_v11_cy\", from_column = \"vdem_v2xcl_acjst\")) \n",
    ".with_column(Column(\"vdem_v11_v2xeg_eqdr\", from_table = \"vdem_v11_cy\", from_column = \"vdem_v2xeg_eqdr\")) \n",
    ".with_column(Column(\"vdem_v11_v2x_libdem\", from_table = \"vdem_v11_cy\", from_column = \"vdem_v2x_libdem\")) \n",
    "\n",
    "# WDI\n",
    "                 \n",
    ".with_column(Column(\"wb_wdi_sp_pop_totl\", from_table = \"wdi_cy\", from_column = \"wdi_sp_pop_totl\")) \n",
    ".with_column(Column(\"wb_wdi_sp_dyn_imrt_in\", from_table = \"wdi_cy\", from_column = \"wdi_sp_dyn_imrt_in\")) \n",
    ".with_column(Column(\"wb_wdi_se_enr_prim_fm_zs\", from_table = \"wdi_cy\", from_column = \"wdi_se_enr_prim_fm_zs\"))\n",
    ".with_column(Column(\"wb_wdi_ny_gdp_mktp_kd\", from_table = \"wdi_cy\", from_column = \"wdi_ny_gdp_mktp_kd\"))\n",
    "              )\n",
    "      \n",
    "data_cm = data_cm.publish().fetch()\n",
    "\n",
    "print(f\"A dataset with {len(data_cm.columns)} columns, with \"\n",
    "      f\"data between t {min(data_cm.index.get_level_values(0))} \"\n",
    "      f\"and {max(data_cm.index.get_level_values(0))}. \"\n",
    "      f\"({len(np.unique(data_cm.index.get_level_values(1)))} units)\"\n",
    "     )"
   ]
  },
  {
   "cell_type": "code",
   "execution_count": null,
   "id": "d129e03b-c859-4326-994e-6bf465949b6f",
   "metadata": {},
   "outputs": [],
   "source": [
    "cm_subset= data_cm.query(f'month_id >= {StartOfHistory} & month_id <= {EndOfHistory}')\n",
    "\n",
    "cm_subset # displays the subset"
   ]
  },
  {
   "cell_type": "markdown",
   "id": "d820f70e-96c4-4d4d-94dd-48490efec440",
   "metadata": {},
   "source": [
    "#### Download as .csv"
   ]
  },
  {
   "cell_type": "code",
   "execution_count": null,
   "id": "137c3666-11ce-437f-85af-978e98888429",
   "metadata": {},
   "outputs": [],
   "source": [
    "cm_subset.to_csv(desktop+f'API_predictors_cm_{StartOfHistory}-{EndOfHistory}_fatalities001.csv') "
   ]
  },
  {
   "cell_type": "markdown",
   "id": "8489dd38-a92d-4393-b7ff-3ca6e4aec8a1",
   "metadata": {},
   "source": [
    "## PRIO-GRID-month (*pgm*) data"
   ]
  },
  {
   "cell_type": "code",
   "execution_count": null,
   "id": "3cf17ac0-8092-44ca-88bc-b72e4af27121",
   "metadata": {},
   "outputs": [],
   "source": [
    "data_pgm = (Queryset(\"fatalities001_API_predictors_pgm\", \"priogrid_month\")  \n",
    "                         \n",
    "# Identifiers\n",
    "            \n",
    ".with_column(Column('year', from_table = 'month', from_column = 'year_id'))\n",
    ".with_column(Column('month', from_table = 'month', from_column = 'month'))\n",
    ".with_column(Column('isoab', from_table = 'country', from_column = 'isoab'))\n",
    ".with_column(Column('country', from_table = 'country', from_column = 'name'))\n",
    ".with_column(Column('gwcode', from_table = 'country', from_column = 'gwcode'))\n",
    "\n",
    "            \n",
    "# UCDP GED \n",
    "\n",
    ".with_column(Column(\"ucdp_ged_best_sum_sb\", from_table = \"ged2_pgm\", from_column = \"ged_sb_best_sum_nokgi\"))                   \n",
    ".with_column(Column(\"ucdp_ged_best_sum_os\", from_table = \"ged2_pgm\", from_column = \"ged_os_best_sum_nokgi\"))   \n",
    ".with_column(Column(\"ucdp_ged_best_sum_ns\", from_table = \"ged2_pgm\", from_column = \"ged_ns_best_sum_nokgi\"))   \n",
    "    \n",
    "# NOTE: ucdp_ged_best_count is not included in fatalities001\n",
    "            \n",
    ".with_column(Column(\"ucdp_ged_best_count_os\", from_table = \"ged2_pgm\", from_column = \"ged_os_best_count_nokgi\"))   \n",
    ".with_column(Column(\"ucdp_ged_best_count_ns\", from_table = \"ged2_pgm\", from_column = \"ged_ns_best_count_nokgi\"))   \n",
    "           )\n",
    "            \n",
    "data_pgm = data_pgm.publish().fetch()\n",
    "\n",
    "print(f\"A dataset with {len(data_pgm.columns)} columns, with \"\n",
    "      f\"data between t {min(data_pgm.index.get_level_values(0))} \"\n",
    "      f\"and {max(data_pgm.index.get_level_values(0))}. \"\n",
    "      f\"({len(np.unique(data_pgm.index.get_level_values(1)))} units)\"\n",
    "     )"
   ]
  },
  {
   "cell_type": "code",
   "execution_count": null,
   "id": "9c41ed4b-3563-45f1-9243-5bf9ff359d20",
   "metadata": {},
   "outputs": [],
   "source": [
    "# Subset for given month range\n",
    "\n",
    "pgm_subset = data_pgm.query(f'month_id >= {StartOfHistory} & month_id <= {EndOfHistory}')\n",
    "pgm_subset"
   ]
  },
  {
   "cell_type": "markdown",
   "id": "da66a39a-455b-479e-b9d1-78777325c2a2",
   "metadata": {},
   "source": [
    "#### Download as .csv"
   ]
  },
  {
   "cell_type": "code",
   "execution_count": null,
   "id": "3041890b-ee44-4042-ac58-3596ff508fb1",
   "metadata": {},
   "outputs": [],
   "source": [
    "pgm_subset.to_csv(desktop+f'API_predictors_pgm_{StartOfHistory}-{EndOfHistory}_fatalities001.csv') "
   ]
  },
  {
   "cell_type": "code",
   "execution_count": null,
   "id": "740b1bb2-8d20-4b6c-9edd-471319126c48",
   "metadata": {},
   "outputs": [],
   "source": [
    "print(\"All done\")"
   ]
  }
 ],
 "metadata": {
  "kernelspec": {
   "display_name": "Python 3 (ipykernel)",
   "language": "python",
   "name": "python3"
  },
  "language_info": {
   "codemirror_mode": {
    "name": "ipython",
    "version": 3
   },
   "file_extension": ".py",
   "mimetype": "text/x-python",
   "name": "python",
   "nbconvert_exporter": "python",
   "pygments_lexer": "ipython3",
   "version": "3.9.13"
  }
 },
 "nbformat": 4,
 "nbformat_minor": 5
}
