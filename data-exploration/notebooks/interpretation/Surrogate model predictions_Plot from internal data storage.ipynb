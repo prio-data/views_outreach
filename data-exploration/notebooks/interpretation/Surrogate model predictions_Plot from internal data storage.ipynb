{
 "cells": [
  {
   "cell_type": "markdown",
   "id": "1ed0ff5d-5514-4c3a-a69b-dff32c1deef4",
   "metadata": {},
   "source": [
    "# Plot data from the VIEWS surrogate (interpretation) models \n",
    "\n",
    "This notebook loads data from the **internal VIEWS database**; authorization required. "
   ]
  },
  {
   "cell_type": "code",
   "execution_count": null,
   "id": "a4718893",
   "metadata": {},
   "outputs": [],
   "source": [
    "# Views 3\n",
    "from viewser.operations import fetch\n",
    "from viewser import Queryset, Column\n",
    "import views_runs\n",
    "from views_partitioning import data_partitioner, legacy\n",
    "from stepshift import views\n",
    "from views_runs import storage, ModelMetadata\n",
    "from views_runs.storage import store, retrieve, fetch_metadata\n",
    "from views_forecasts.extensions import *\n",
    "\n",
    "# For mapping \n",
    "import os\n",
    "from views_mapper2.mapper2 import *\n",
    "from views_mapper2.BBoxWriter import *\n",
    "from views_mapper2.dictionary_writer import *\n",
    "from views_mapper2.label_writer import *\n",
    "from ingester3.extensions import *"
   ]
  },
  {
   "cell_type": "code",
   "execution_count": null,
   "id": "0dcdbe8c",
   "metadata": {},
   "outputs": [],
   "source": [
    "import geopandas as gpd\n",
    "import sqlalchemy as sa\n",
    "from ingester3.config import source_db_path\n",
    "\n",
    "#Fetching geometry and matching to VIEWS country id's\n",
    "\n",
    "engine = sa.create_engine(source_db_path)\n",
    "gdf_ci_master = gpd.GeoDataFrame.from_postgis(\n",
    "    \"SELECT id as country_id, name, in_africa, in_me, geom FROM prod.country\",\n",
    "    engine,\n",
    "    geom_col='geom'\n",
    ")\n",
    "gdf_ci_master = gdf_ci_master.to_crs(4326)"
   ]
  },
  {
   "cell_type": "code",
   "execution_count": null,
   "id": "5b7f4638",
   "metadata": {},
   "outputs": [],
   "source": [
    "import os\n",
    "home = os.path.expanduser(\"~\")\n",
    "desktop = home+'/Desktop/' # (Toggle on to save to desktop) Change to your directory"
   ]
  },
  {
   "cell_type": "code",
   "execution_count": null,
   "id": "f3eb990d",
   "metadata": {},
   "outputs": [],
   "source": [
    "calib_run_id = 46\n",
    "\n",
    "surrogate_CH = pd.DataFrame.forecasts.read_store(run=calib_run_id, name='cm_surrogate_CH_f535')\n",
    "surrogate_DEM = pd.DataFrame.forecasts.read_store(run=calib_run_id, name='cm_surrogate_Dem_f535')\n",
    "surrogate_RULE = pd.DataFrame.forecasts.read_store(run=calib_run_id, name='cm_surrogate_Rule_f535')\n",
    "surrogate_POP = pd.DataFrame.forecasts.read_store(run=calib_run_id, name='cm_surrogate_Pop_f535')\n",
    "surrogate_IMR = pd.DataFrame.forecasts.read_store(run=calib_run_id, name='cm_surrogate_IMR_f535')\n",
    "surrogate_NCH = pd.DataFrame.forecasts.read_store(run=calib_run_id, name='cm_surrogate_NCH_f535')\n",
    "surrogate_WATER = pd.DataFrame.forecasts.read_store(run=calib_run_id, name='cm_surrogate_Water_f535')"
   ]
  },
  {
   "cell_type": "code",
   "execution_count": null,
   "id": "fa7342a2-c7da-4283-ba60-882ae05d0db0",
   "metadata": {},
   "outputs": [],
   "source": [
    "#Regional maps of surrogate models \n",
    "#Adjust region, textbox, title, column= and filename.\n",
    "\n",
    "data = surrogate_NCH.copy() # replace with one of the dataframes defined above: e.g., surrogate_CH, surrogate_POP etc.\n",
    "gdf = gdf_ci_master.copy()\n",
    "\n",
    "data = data.join(gdf.set_index(\"country_id\"))\n",
    "gdf = gpd.GeoDataFrame(data, geometry=\"geom\")"
   ]
  },
  {
   "cell_type": "code",
   "execution_count": null,
   "id": "b7671cc6-9eb3-4f18-8043-f0701ffbcfcb",
   "metadata": {},
   "outputs": [],
   "source": [
    "surrogate_NCH # print to learn column name to plot"
   ]
  },
  {
   "cell_type": "code",
   "execution_count": null,
   "id": "490881b3-c302-4e80-9de4-214533dbbe3b",
   "metadata": {},
   "outputs": [],
   "source": [
    "region = 'ame' #options are 'ame', 'me' or 'globe'\n",
    "\n",
    "textbox = 'Predicted log fatalities for state based violence' #Change the text in the textbox below the logo\n",
    "\n",
    "test_map=Mapper2(\n",
    "    width=10,   #dimension width\n",
    "    height=10,  #dimension height\n",
    "    frame_on=True,\n",
    "    title=\"Predicted log fatalities in October 2026, isolated contribution from neighborhood conflict history\", #title ex: Predicted log fatalities, isolated contribution from infant mortality rate\n",
    "    bbox=bbox_from_cid(f'{region}'), \n",
    ").add_layer(\n",
    "    gdf=gdf.loc[536],  #what do you want to map, month_id 527 in this case\n",
    "    map_dictionary = dictionary_stand_1p_10k,\n",
    "    cmap = 'rainbow',\n",
    "    transparency = 1,\n",
    "    background = None, \n",
    "    edgecolor=\"black\",   #border color choice\n",
    "    linewidth=0.5,    #line size choice\n",
    "    column=\"Neighborhood conflict\"   # which column do you want to graph\n",
    ").add_views_textbox(\n",
    "    text=textbox)\n",
    "\n",
    "\n",
    "test_map.save(desktop+'/conflicthistory_surrogate_map') #change the filename "
   ]
  },
  {
   "cell_type": "code",
   "execution_count": null,
   "id": "cb280d0d-964c-4263-b53a-9dc8897cdb1f",
   "metadata": {},
   "outputs": [],
   "source": [
    "print('All done!')"
   ]
  }
 ],
 "metadata": {
  "kernelspec": {
   "display_name": "Python 3 (ipykernel)",
   "language": "python",
   "name": "python3"
  },
  "language_info": {
   "codemirror_mode": {
    "name": "ipython",
    "version": 3
   },
   "file_extension": ".py",
   "mimetype": "text/x-python",
   "name": "python",
   "nbconvert_exporter": "python",
   "pygments_lexer": "ipython3",
   "version": "3.9.13"
  }
 },
 "nbformat": 4,
 "nbformat_minor": 5
}
