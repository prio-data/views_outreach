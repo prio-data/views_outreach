{
 "cells": [
  {
   "cell_type": "markdown",
   "metadata": {},
   "source": [
    "# PRIO Annual Report\n",
    "\n",
    "This notebook produces three different watchlists for use in PRIO's Annual Report on VIEWS data. \n",
    "\n",
    "**HIGHEST FATALITIES**\n",
    "\n",
    "1) [Highest predicted fatalities in 2025](#watchlist-1)\n",
    "\n",
    "**HIGHEST FATALITIES AMONGST NO/LOW VIOLENCE COUNTRIES**\n",
    "\n",
    "2) [Highest predicted fatalities in 2025, amongst countries with 25 or less BRDs over the last 12 months (rolling period)](#watchlist-2)\n",
    "\n",
    "**HIGHEST RELATIVE CHANGE IN FATALITIES**\n",
    "\n",
    "3) [Highest relative change in fatalities in 2025, compared to last 12 months of actuals (rolling period)](#watchlist-3-1)\n",
    "4) [Highest relative change in fatalities in 2025, compared to last 12 months of actuals (rolling period), subset by level of violence (low, medium, high, war)](#watchlist-3-2)\n",
    "\n",
    "\n",
    "\n"
   ]
  },
  {
   "cell_type": "code",
   "execution_count": null,
   "metadata": {},
   "outputs": [],
   "source": [
    "import os\n",
    "# Get the current directory where the notebook is running\n",
    "current_dir = os.getcwd()\n",
    "save_folder = 'data_from_notebook'"
   ]
  },
  {
   "cell_type": "markdown",
   "metadata": {},
   "source": [
    "## Load forecasts from API\n",
    "\n",
    "Fetch forecasts from the VIEWS API and create dataframe."
   ]
  },
  {
   "cell_type": "code",
   "execution_count": null,
   "metadata": {},
   "outputs": [],
   "source": [
    "import requests\n",
    "import pandas as pd\n",
    "import json\n",
    "import os\n",
    "from pathlib import Path\n",
    "import numpy as np\n"
   ]
  },
  {
   "cell_type": "code",
   "execution_count": null,
   "metadata": {},
   "outputs": [],
   "source": [
    "\n",
    "# Set display options to show all rows and columns\n",
    "pd.set_option('display.max_rows', 10)\n",
    "pd.set_option('display.max_columns', 10)"
   ]
  },
  {
   "cell_type": "code",
   "execution_count": null,
   "metadata": {},
   "outputs": [],
   "source": [
    "# List the dataset specified in the URL above\n",
    "\n",
    "model = 'fatalities002'\n",
    "release = '2024_07_t01'\n",
    "dataset = f'{model}_{release}'\n",
    "\n",
    "# Define the URL you want to fetch data from. \n",
    "\n",
    "loa = 'cm'\n",
    "tv = 'sb'\n",
    "\n",
    "FORECASTS = f'https://api.viewsforecasting.org/{dataset}/{loa}/{tv}/main_mean'\n",
    "FORECASTS \n"
   ]
  },
  {
   "cell_type": "code",
   "execution_count": null,
   "metadata": {},
   "outputs": [],
   "source": [
    "# Request function\n",
    "r = requests.get(FORECASTS)\n",
    "\n",
    "#The set page size \n",
    "PAGE_SIZE=1000\n",
    "\n",
    "#Define the full request \n",
    "req_url=FORECASTS #+'/'+str()+'?'+'pagesize='+str(PAGE_SIZE)\n",
    "    \n",
    "master_list=[]\n",
    "r=requests.get(req_url)\n",
    "page_data=r.json()\n",
    "\n",
    "list(page_data)"
   ]
  },
  {
   "cell_type": "code",
   "execution_count": null,
   "metadata": {},
   "outputs": [],
   "source": [
    "# The loop to keep fetching pages until all data is accessed \n",
    "\n",
    "master_list+=page_data['data']\n",
    "    \n",
    "while page_data['next_page'] != '':\n",
    "    r=requests.get(page_data['next_page'])\n",
    "    page_data=r.json()\n",
    "\n",
    "    master_list+=page_data['data']\n",
    "        \n",
    "raw_forecasts=pd.DataFrame(master_list)\n",
    "raw_forecasts.rename(columns={'name':'country'},inplace=True)"
   ]
  },
  {
   "cell_type": "code",
   "execution_count": null,
   "metadata": {},
   "outputs": [],
   "source": [
    "columns_to_keep=['country_id', 'country', 'month_id', 'year', 'month', 'main_mean']\n",
    "raw_forecasts = raw_forecasts[columns_to_keep].copy()\n",
    "print('Here is the filtered dataframe for the fatalities002 model:')\n",
    "raw_forecasts"
   ]
  },
  {
   "cell_type": "code",
   "execution_count": null,
   "metadata": {},
   "outputs": [],
   "source": [
    "# Save raw forecasts to a csv file\n",
    "\n",
    "file_name = dataset\n",
    "save_path = os.path.join(save_folder, file_name)\n",
    "\n",
    "#raw_forecasts.to_csv(f'{save_path}.csv')"
   ]
  },
  {
   "cell_type": "markdown",
   "metadata": {},
   "source": [
    "## Load actuals from API\n",
    "\n",
    "Fetch actuals (UCDP) from the VIEWS API and create dataframe."
   ]
  },
  {
   "cell_type": "code",
   "execution_count": null,
   "metadata": {},
   "outputs": [],
   "source": [
    "# List the dataset specified in the URL above\n",
    "\n",
    "dataset = 'predictors_fatalities002_0000_00/cm/px/ucdp_ged_sb_best_sum'\n",
    "\n",
    "# Define the URL you want to fetch data from. \n",
    "\n",
    "GED = f'https://api.viewsforecasting.org/{dataset}'\n",
    "GED \n"
   ]
  },
  {
   "cell_type": "code",
   "execution_count": null,
   "metadata": {},
   "outputs": [],
   "source": [
    "# Request function\n",
    "r = requests.get(FORECASTS)\n",
    "\n",
    "#The set page size \n",
    "PAGE_SIZE=1000\n",
    "\n",
    "#Define the full request \n",
    "req_url=GED #+'/'+str()+'?'+'pagesize='+str(PAGE_SIZE)\n",
    "    \n",
    "master_list=[]\n",
    "r=requests.get(req_url)\n",
    "page_data=r.json()\n",
    "\n",
    "list(page_data)"
   ]
  },
  {
   "cell_type": "code",
   "execution_count": null,
   "metadata": {},
   "outputs": [],
   "source": [
    "# The loop to keep fetching pages until all data is accessed \n",
    "\n",
    "master_list+=page_data['data']\n",
    "    \n",
    "while page_data['next_page'] != '':\n",
    "    r=requests.get(page_data['next_page'])\n",
    "    page_data=r.json()\n",
    "\n",
    "    master_list+=page_data['data']\n",
    "        \n",
    "ged=pd.DataFrame(master_list)\n",
    "ged.rename(columns={'name':'country'},inplace=True)"
   ]
  },
  {
   "cell_type": "code",
   "execution_count": null,
   "metadata": {},
   "outputs": [],
   "source": [
    "# Save ged to a csv file\n",
    "\n",
    "file_name = 'ged_cm'\n",
    "save_path = os.path.join(current_dir, save_folder, file_name)\n",
    "\n",
    "#ged.to_csv(f'{save_path}.csv')"
   ]
  },
  {
   "cell_type": "markdown",
   "metadata": {},
   "source": [
    "## WATCHLIST 1: Highest predicted fatalities in 2025 <a class=\"anchor\" id=\"watchlist-1\"></a>"
   ]
  },
  {
   "cell_type": "code",
   "execution_count": null,
   "metadata": {},
   "outputs": [],
   "source": [
    "# Create dataframe with forecasts aggregated by country-year \n",
    "\n",
    "forecasts_by_country_year = raw_forecasts.groupby(['country_id', 'country', 'year'], as_index=False)['main_mean'].sum()\n",
    "forecasts_by_country_year\n",
    "\n"
   ]
  },
  {
   "cell_type": "code",
   "execution_count": null,
   "metadata": {},
   "outputs": [],
   "source": [
    "# Filter out and store forecasts for 2025 only\n",
    "\n",
    "forecasts_for_2025 = forecasts_by_country_year[forecasts_by_country_year['year'] == 2025].sort_values(by=['main_mean'], ascending=False)\n",
    "forecasts_for_2025\n"
   ]
  },
  {
   "cell_type": "code",
   "execution_count": null,
   "metadata": {},
   "outputs": [],
   "source": [
    "# Save the dataframe to a csv file\n",
    "file_name = 'forecasts_by_country-year'\n",
    "save_path = os.path.join(save_folder, file_name)\n",
    "forecasts_for_2025.to_csv(f'{save_path}.csv')"
   ]
  },
  {
   "cell_type": "markdown",
   "metadata": {},
   "source": [
    "### CREATE WATCHLIST 1: highest fatalities in 2025 by country-year "
   ]
  },
  {
   "cell_type": "code",
   "execution_count": null,
   "metadata": {},
   "outputs": [],
   "source": [
    "# PRODUCE WATCHLIST: COUNTRY-YEAR FORECASTS FOR 2025\n",
    "\n",
    "forecasts_for_2025.iloc[:10]"
   ]
  },
  {
   "cell_type": "markdown",
   "metadata": {},
   "source": [
    "## WATCHLIST 2: Highest predicted fatalities, for qualifying countries <a class=\"anchor\" id=\"watchlist-2\"></a>\n",
    "\n",
    "Predicted fatalities in 2025, by country-year, for countries with more or less than recorded 25 BRDS over last 12 months"
   ]
  },
  {
   "cell_type": "markdown",
   "metadata": {},
   "source": [
    "### CREATE WATCHLIST 2.1: Country-year forecasts for 2025, for countries with less than 25 BRDs over last 12 months"
   ]
  },
  {
   "cell_type": "code",
   "execution_count": null,
   "metadata": {},
   "outputs": [],
   "source": [
    "# From the actuals dataset, get the last 12 unique values in the month_id column\n",
    "\n",
    "last_12_month_ids = ged['month_id'].drop_duplicates().nlargest(12)\n",
    "last_12_month_ids"
   ]
  },
  {
   "cell_type": "code",
   "execution_count": null,
   "metadata": {},
   "outputs": [],
   "source": [
    "# Filter the DataFrame based on the last 12 unique month_id values, sum by country-year\n",
    "\n",
    "actuals_last_12months = ged[ged['month_id'].isin(last_12_month_ids)][['country_id', 'month_id', 'country', 'year', 'month', 'ucdp_ged_sb_best_sum']]\n",
    "actuals_last_12months = actuals_last_12months.groupby(['country_id', 'country'], as_index=False)['ucdp_ged_sb_best_sum'].sum()\n",
    "actuals_last_12months.rename(columns={'ucdp_ged_sb_best_sum':'actuals_last_12months'},inplace=True)\n",
    "actuals_last_12months"
   ]
  },
  {
   "cell_type": "code",
   "execution_count": null,
   "metadata": {},
   "outputs": [],
   "source": [
    "# Create list of countries that observed LESS than 25 BRDs in the last 12 months\n",
    "\n",
    "qualifying_countries_lessthan25ged = actuals_last_12months[actuals_last_12months['actuals_last_12months'] < 25].copy()\n",
    "qualifying_countries_lessthan25ged"
   ]
  },
  {
   "cell_type": "code",
   "execution_count": null,
   "metadata": {},
   "outputs": [],
   "source": [
    "# Filter our forecasts based on country_id from qualifying_countries_lessthan25ged\n",
    "\n",
    "lessthan25ged_forecasts = forecasts_for_2025[forecasts_for_2025['country_id'].isin(qualifying_countries_lessthan25ged['country_id'])][['country_id', 'country', 'year', 'main_mean']]\n",
    "lessthan25ged_forecasts"
   ]
  },
  {
   "cell_type": "code",
   "execution_count": null,
   "metadata": {},
   "outputs": [],
   "source": [
    "# Merge the two DataFrames on both 'country_id' and 'country' - create full dataset\n",
    "\n",
    "forecasts_and_lessthan25ged = pd.merge(lessthan25ged_forecasts, qualifying_countries_lessthan25ged, on=['country_id', 'country'], how='left')\n",
    "forecasts_and_lessthan25ged = forecasts_and_lessthan25ged.sort_values(by=['main_mean'], ascending=False)\n",
    "forecasts_and_lessthan25ged"
   ]
  },
  {
   "cell_type": "code",
   "execution_count": null,
   "metadata": {},
   "outputs": [],
   "source": [
    "# Save to csv\n",
    "\n",
    "file_name = 'forecasts_cy_lessthan25ged'\n",
    "save_path = os.path.join(save_folder, file_name)\n",
    "\n",
    "forecasts_and_lessthan25ged.to_csv(f'{save_path}.csv')"
   ]
  },
  {
   "cell_type": "code",
   "execution_count": null,
   "metadata": {},
   "outputs": [],
   "source": [
    "# Show only the top-10 countries with the highest forecasted fatalities in 2025, among those with less than 25 BRD in the last 12 months\n",
    "\n",
    "forecasts_and_lessthan25ged.iloc[:10]"
   ]
  },
  {
   "cell_type": "markdown",
   "metadata": {},
   "source": [
    "### CREATE WATCHLIST 2.2: Country-year forecasts for 2025, for countries with more than 25 BRDs over last 12 months"
   ]
  },
  {
   "cell_type": "code",
   "execution_count": null,
   "metadata": {},
   "outputs": [],
   "source": [
    "# Create list of countries that observed MORE than 25 BRDs in the last 12 months\n",
    "\n",
    "qualifying_countries_morethan25ged = actuals_last_12months[actuals_last_12months['actuals_last_12months'] > 25].copy()\n",
    "qualifying_countries_morethan25ged"
   ]
  },
  {
   "cell_type": "code",
   "execution_count": null,
   "metadata": {},
   "outputs": [],
   "source": [
    "# Filter our forecasts based on country_id from qualifying_countries_lessthan25ged\n",
    "\n",
    "morethan25ged_forecasts = forecasts_for_2025[forecasts_for_2025['country_id'].isin(qualifying_countries_morethan25ged['country_id'])][['country_id', 'country', 'year', 'main_mean']]\n",
    "morethan25ged_forecasts"
   ]
  },
  {
   "cell_type": "code",
   "execution_count": null,
   "metadata": {},
   "outputs": [],
   "source": [
    "# Merge the two DataFrames on both 'country_id' and 'country' - create full dataset\n",
    "\n",
    "forecasts_and_morethan25ged = pd.merge(morethan25ged_forecasts, qualifying_countries_morethan25ged, on=['country_id', 'country'], how='left')\n",
    "forecasts_and_morethan25ged = forecasts_and_morethan25ged.sort_values(by=['main_mean'], ascending=False)\n",
    "forecasts_and_morethan25ged"
   ]
  },
  {
   "cell_type": "code",
   "execution_count": null,
   "metadata": {},
   "outputs": [],
   "source": [
    "# Save to csv\n",
    "\n",
    "file_name = 'forecasts_cy_morethan25ged'\n",
    "save_path = os.path.join(save_folder, file_name)\n",
    "\n",
    "forecasts_and_morethan25ged.to_csv(f'{save_path}.csv')"
   ]
  },
  {
   "cell_type": "code",
   "execution_count": null,
   "metadata": {},
   "outputs": [],
   "source": [
    "# Show only the top-10 countries with the highest forecasted fatalities in 2025, among those with less than 25 BRD in the last 12 months\n",
    "\n",
    "forecasts_and_morethan25ged.iloc[:10]"
   ]
  },
  {
   "cell_type": "markdown",
   "metadata": {},
   "source": [
    "## WATCHLIST 3: Highest predicted change in fatalities <a class=\"anchor\" id=\"watchlist-3\"></a>"
   ]
  },
  {
   "cell_type": "markdown",
   "metadata": {},
   "source": [
    "### Prediction vs. last 12 months of actuals <a class=\"anchor\" id=\"watchlist-3-1\"></a>"
   ]
  },
  {
   "cell_type": "code",
   "execution_count": null,
   "metadata": {},
   "outputs": [],
   "source": [
    "# Add country-year ged to country-year forecasts\n",
    "\n",
    "prep_for_predicted_change = pd.merge(forecasts_for_2025, actuals_last_12months, on=['country_id', 'country'], how='left')\n",
    "prep_for_predicted_change.rename(columns={'ucdp_ged_sb_best_sum':'actuals_last_12months'},inplace=True)\n",
    "prep_for_predicted_change = prep_for_predicted_change.sort_values(by=['main_mean'], ascending=False)\n",
    "prep_for_predicted_change"
   ]
  },
  {
   "cell_type": "code",
   "execution_count": null,
   "metadata": {},
   "outputs": [],
   "source": [
    "# Create a new column with the percent change from actuals_last_12_months to forecasts for 2025\n",
    "\n",
    "prep_for_predicted_change['predicted_change_in_percent'] = ((prep_for_predicted_change['main_mean'] - prep_for_predicted_change['actuals_last_12months']) / prep_for_predicted_change['actuals_last_12months']) * 100\n",
    "prep_for_predicted_change"
   ]
  },
  {
   "cell_type": "code",
   "execution_count": null,
   "metadata": {},
   "outputs": [],
   "source": [
    "# Replace inf values with NaN, sort by % change\n",
    "\n",
    "predicted_change = prep_for_predicted_change.replace([np.inf, -np.inf], np.nan)"
   ]
  },
  {
   "cell_type": "markdown",
   "metadata": {},
   "source": [
    "### Prediction vs. last 12 months of actuals, per level of violence <a class=\"anchor\" id=\"watchlist-3-2\"></a>"
   ]
  },
  {
   "cell_type": "code",
   "execution_count": null,
   "metadata": {},
   "outputs": [],
   "source": [
    "# Group predicted change into categories\n",
    "\n",
    "predicted_change['predicted_violence_category'] = predicted_change['main_mean'].apply(\n",
    "    lambda x: 'low_intensity' if x < 25 \n",
    "        #else 'medium' if 25 <= x < 100 \n",
    "        #else 'high' if 100 <= x < 1000 \n",
    "        #else 'war' if x >= 1000 \n",
    "        else '25_or_more' if x >= 25\n",
    "        else 'unknown'  # Optional else case if needed\n",
    ")\n",
    "\n",
    "predicted_change"
   ]
  },
  {
   "cell_type": "markdown",
   "metadata": {},
   "source": [
    "#### CREATE WATCHLIST 3.1: Predicted change (%) in fatalities in 2025, all categories"
   ]
  },
  {
   "cell_type": "code",
   "execution_count": null,
   "metadata": {},
   "outputs": [],
   "source": [
    "# Sort by highest predicted change\n",
    "\n",
    "predicted_change = predicted_change.sort_values(by=['predicted_change_in_percent'], ascending=False)\n",
    "predicted_change\n"
   ]
  },
  {
   "cell_type": "code",
   "execution_count": null,
   "metadata": {},
   "outputs": [],
   "source": [
    "# Save results for all categories to a csv file\n",
    "\n",
    "file_name = f'forecasts_cy_predictedchange_all_categories'\n",
    "save_path = os.path.join(save_folder, file_name)\n",
    "predicted_change.to_csv(f'{save_path}.csv')\n",
    "print(f'Saved {file_name} to csv in folder: {save_folder}')"
   ]
  },
  {
   "cell_type": "markdown",
   "metadata": {},
   "source": [
    "#### CREATE WATCHLIST 3.2: Predicted change (%) in fatalities in 2025, per category of violence"
   ]
  },
  {
   "cell_type": "code",
   "execution_count": null,
   "metadata": {},
   "outputs": [],
   "source": [
    "# Get the unique categories\n",
    "unique_categories = predicted_change['predicted_violence_category'].unique()\n",
    "\n",
    "# Loop through each unique category, save them as csv files\n",
    "for category in unique_categories:\n",
    "    file_name = f'forecasts_cy_predictedchange_{category}'\n",
    "    save_path = os.path.join(save_folder, file_name)\n",
    "    # Filter the DataFrame for the current category\n",
    "    category_df = predicted_change[predicted_change['predicted_violence_category'] == category].sort_values(by=['predicted_change_in_percent'], ascending=False)\n",
    "    category_df.to_csv(f'{save_path}.csv')\n",
    "    print(f'Saved {file_name} to csv in folder: {save_folder}')"
   ]
  },
  {
   "cell_type": "code",
   "execution_count": null,
   "metadata": {},
   "outputs": [],
   "source": [
    "# Use this cell to explore each list in the notebook – just change the category that is filtered out. \n",
    "\n",
    "category_df = predicted_change[predicted_change['predicted_violence_category'] == '25_or_more'].sort_values(by=['predicted_change_in_percent'], ascending=False)\n",
    "#category_df.to_csv(f'{category}_predictedchange_watchlist.csv')\n",
    "category_df.iloc[:10]"
   ]
  },
  {
   "cell_type": "code",
   "execution_count": null,
   "metadata": {},
   "outputs": [],
   "source": [
    "print('All done!')"
   ]
  }
 ],
 "metadata": {
  "kernelspec": {
   "display_name": "viewser",
   "language": "python",
   "name": "python3"
  },
  "language_info": {
   "codemirror_mode": {
    "name": "ipython",
    "version": 3
   },
   "file_extension": ".py",
   "mimetype": "text/x-python",
   "name": "python",
   "nbconvert_exporter": "python",
   "pygments_lexer": "ipython3",
   "version": "3.11.9"
  }
 },
 "nbformat": 4,
 "nbformat_minor": 2
}
