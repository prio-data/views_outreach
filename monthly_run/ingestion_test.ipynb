{
 "cells": [
  {
   "cell_type": "markdown",
   "metadata": {},
   "source": [
    "# Test ingested data for the monthly run"
   ]
  },
  {
   "cell_type": "code",
   "execution_count": null,
   "metadata": {},
   "outputs": [],
   "source": [
    "# VIEWS 3\n",
    "from viewser import Queryset, Column\n",
    "from views_mapper2.label_writer import *"
   ]
  },
  {
   "cell_type": "markdown",
   "metadata": {},
   "source": [
    "## Prepare query for given time period and country"
   ]
  },
  {
   "cell_type": "code",
   "execution_count": null,
   "metadata": {},
   "outputs": [],
   "source": [
    "# Call the function\n",
    "\n",
    "def vid2date(i):\n",
    "    year=str(ViewsMonth(i).year)\n",
    "    month=str(ViewsMonth(i).month)\n",
    "    return year+'/'+month"
   ]
  },
  {
   "cell_type": "code",
   "execution_count": null,
   "metadata": {},
   "outputs": [],
   "source": [
    "# Choose year and month below to print the correlated `month_id`\n",
    "\n",
    "print(ViewsMonth.from_year_month(year=2024, month=10)) "
   ]
  },
  {
   "cell_type": "code",
   "execution_count": null,
   "metadata": {},
   "outputs": [],
   "source": [
    "# Set period to query for\n",
    "\n",
    "StartOfHistory = 539\n",
    "EndOfHistory = 548\n",
    "\n",
    "StartYear = 2010\n",
    "EndYear = 2025"
   ]
  },
  {
   "cell_type": "code",
   "execution_count": null,
   "metadata": {},
   "outputs": [],
   "source": [
    "# Set country to query for\n",
    "name_date2cid('Nigeria','2017-07-01') # The date here is irrelevant"
   ]
  },
  {
   "cell_type": "code",
   "execution_count": null,
   "metadata": {},
   "outputs": [],
   "source": [
    "\n",
    "## Country name to country ID\n",
    "country_id = name_date2cid('Nigeria','2017-07-01') # The date here is irrelevant"
   ]
  },
  {
   "cell_type": "markdown",
   "metadata": {},
   "source": [
    "## Create df with identifiers"
   ]
  },
  {
   "cell_type": "code",
   "execution_count": null,
   "metadata": {},
   "outputs": [],
   "source": [
    "# Identifiers\n",
    "\n",
    "identifiers_cm = (Queryset(\"identifiers\", \"country_month\")\n",
    "\n",
    ".with_column(Column('year', from_loa = \"country_year\", from_column = 'year_id'))\n",
    ".with_column(Column('month', from_loa = \"month\", from_column = 'month'))\n",
    ".with_column(Column('isoab', from_loa = \"country\", from_column = 'isoab'))\n",
    ".with_column(Column('country', from_loa = \"country\", from_column = 'name'))\n",
    "\n",
    ")\n",
    "      \n",
    "identifiers_cm = identifiers_cm.publish().fetch()\n",
    "\n",
    "print(f\"A dataset with {len(identifiers_cm.columns)} columns, with \"\n",
    "      f\"data between t {min(identifiers_cm.index.get_level_values(0))} \"\n",
    "      f\"and {max(identifiers_cm.index.get_level_values(0))}. \"\n",
    "      f\"({len(np.unique(identifiers_cm.index.get_level_values(1)))} units)\"\n",
    "     )"
   ]
  },
  {
   "cell_type": "code",
   "execution_count": null,
   "metadata": {},
   "outputs": [],
   "source": [
    "identifiers_cm"
   ]
  },
  {
   "cell_type": "markdown",
   "metadata": {},
   "source": [
    "## Create df with UCDP data"
   ]
  },
  {
   "cell_type": "code",
   "execution_count": null,
   "metadata": {},
   "outputs": [],
   "source": [
    "ucdp_data_cm = (Queryset(\"fatalities002_ucdp_cm\", \"country_month\")\n",
    "\n",
    "# GED\n",
    "\n",
    ".with_column(Column(\"ucdp_ged_sb_best_sum\", from_loa = \"country_month\", from_column = \"ged_sb_best_sum_nokgi\"))                   \n",
    "##.with_column(Column(\"ucdp_ged_os_best_sum\", from_loa = \"country_month\", from_column = \"ged_os_best_sum_nokgi\"))   \n",
    "#.with_column(Column(\"ucdp_ged_ns_best_sum\", from_loa = \"country_month\", from_column = \"ged_ns_best_sum_nokgi\"))   \n",
    "\n",
    ")\n",
    "      \n",
    "ucdp_data_cm = ucdp_data_cm.publish().fetch()\n",
    "\n",
    "print(f\"A dataset with {len(ucdp_data_cm.columns)} columns, with \"\n",
    "      f\"data between t {min(ucdp_data_cm.index.get_level_values(0))} \"\n",
    "      f\"and {max(ucdp_data_cm.index.get_level_values(0))}. \"\n",
    "      f\"({len(np.unique(ucdp_data_cm.index.get_level_values(1)))} units)\"\n",
    "     )\n"
   ]
  },
  {
   "cell_type": "code",
   "execution_count": null,
   "metadata": {},
   "outputs": [],
   "source": [
    "ucdp_data_cm.describe()\n"
   ]
  },
  {
   "cell_type": "code",
   "execution_count": null,
   "metadata": {},
   "outputs": [],
   "source": [
    "ucdp_data_cm"
   ]
  },
  {
   "cell_type": "code",
   "execution_count": null,
   "metadata": {},
   "outputs": [],
   "source": [
    "# Merge identifier df with data df\n",
    "\n",
    "cols = [\"country_id\", \"month_id\"]\n",
    "\n",
    "ucdp_data_cm_w_identifiers = pd.merge(identifiers_cm, ucdp_data_cm, on=cols, how=\"left\")\n",
    "\n",
    "ucdp_data_cm_w_identifiers"
   ]
  },
  {
   "cell_type": "code",
   "execution_count": null,
   "metadata": {},
   "outputs": [],
   "source": [
    "# UPDATED SUBSET + GED\n",
    "\n",
    "ged_cm_subset= ucdp_data_cm_w_identifiers.query(f'month_id >= {StartOfHistory} & month_id <= {EndOfHistory} & country_id == {country_id}')\n",
    "\n",
    "ged_cm_subset # displays the subset"
   ]
  },
  {
   "cell_type": "markdown",
   "metadata": {},
   "source": [
    "## Create df with ACLED data"
   ]
  },
  {
   "cell_type": "code",
   "execution_count": null,
   "metadata": {},
   "outputs": [],
   "source": [
    "acled_data_cm = (Queryset(\"fatalities002_acled_cm\", \"country_month\")\n",
    "\n",
    "# ACLED\n",
    "\n",
    ".with_column(Column(\"acled_sb_count\", from_loa = \"country_month\", from_column = \"acled_sb_count\"))                   \n",
    ".with_column(Column(\"acled_sb_fat\", from_loa = \"country_month\", from_column = \"acled_sb_fat\"))                   \n",
    ".with_column(Column(\"acled_os_fat\", from_loa = \"country_month\", from_column = \"acled_os_fat\"))   \n",
    ".with_column(Column(\"acled_ns_fat\", from_loa = \"country_month\", from_column = \"acled_ns_fat\"))   \n",
    ".with_column(Column(\"acled_bat_gov_fat\", from_loa = \"country_month\", from_column = \"acled_bat_gov_fat\"))  \n",
    ".with_column(Column(\"acled_bat_reb_fat\", from_loa = \"country_month\", from_column = \"acled_bat_reb_fat\"))                   \n",
    ".with_column(Column(\"acled_pr_count\", from_loa = \"country_month\", from_column = \"acled_pr_count\")) \n",
    ".with_column(Column(\"acled_prx_count\", from_loa = \"country_month\", from_column = \"acled_prx_count\")) \n",
    ".with_column(Column(\"acled_prx_fat\", from_loa = \"country_month\", from_column = \"acled_prx_fat\"))                   \n",
    "\n",
    ")\n",
    "      \n",
    "acled_data_cm = acled_data_cm.publish().fetch()\n",
    "\n",
    "print(f\"A dataset with {len(acled_data_cm.columns)} columns, with \"\n",
    "      f\"data between t {min(acled_data_cm.index.get_level_values(0))} \"\n",
    "      f\"and {max(acled_data_cm.index.get_level_values(0))}. \"\n",
    "      f\"({len(np.unique(acled_data_cm.index.get_level_values(1)))} units)\"\n",
    "     )"
   ]
  },
  {
   "cell_type": "code",
   "execution_count": null,
   "metadata": {},
   "outputs": [],
   "source": [
    "acled_data_cm"
   ]
  },
  {
   "cell_type": "code",
   "execution_count": null,
   "metadata": {},
   "outputs": [],
   "source": [
    "acled_data_cm.describe()"
   ]
  },
  {
   "cell_type": "code",
   "execution_count": null,
   "metadata": {},
   "outputs": [],
   "source": [
    "# Merge identifier df with data df\n",
    "\n",
    "cols = [\"country_id\", \"month_id\"]\n",
    "\n",
    "acled_data_cm_w_identifiers = pd.merge(identifiers_cm, acled_data_cm, on=cols, how=\"left\")\n",
    "\n",
    "acled_data_cm_w_identifiers"
   ]
  },
  {
   "cell_type": "code",
   "execution_count": null,
   "metadata": {},
   "outputs": [],
   "source": [
    "# Query the data\n",
    "\n",
    "acled_cm_subset= acled_data_cm_w_identifiers.query(f'month_id >= {StartOfHistory} & month_id <= {EndOfHistory} & country_id == {country_id}')\n",
    "\n",
    "acled_cm_subset # displays the subset"
   ]
  },
  {
   "cell_type": "markdown",
   "metadata": {},
   "source": [
    "## Create df with Topics data"
   ]
  },
  {
   "cell_type": "code",
   "execution_count": null,
   "metadata": {},
   "outputs": [],
   "source": [
    "topics_data_cm = (Queryset(\"fatalities002_topics_cm\", \"country_month\")\n",
    "\n",
    "# GED\n",
    "\n",
    ".with_column(Column(\"randomly_selected__column\", from_loa = \"country_month\", from_column = \"topic_ste_theta13\"))                   \n",
    ")\n",
    "      \n",
    "topics_data_cm = topics_data_cm.publish().fetch()\n",
    "\n",
    "print(f\"A dataset with {len(topics_data_cm.columns)} columns, with \"\n",
    "      f\"data between t {min(topics_data_cm.index.get_level_values(0))} \"\n",
    "      f\"and {max(topics_data_cm.index.get_level_values(0))}. \"\n",
    "      f\"({len(np.unique(topics_data_cm.index.get_level_values(1)))} units)\"\n",
    "     )"
   ]
  },
  {
   "cell_type": "code",
   "execution_count": null,
   "metadata": {},
   "outputs": [],
   "source": [
    "topics_data_cm.describe()"
   ]
  },
  {
   "cell_type": "code",
   "execution_count": null,
   "metadata": {},
   "outputs": [],
   "source": [
    "# Merge identifier df with data df\n",
    "\n",
    "cols = [\"country_id\", \"month_id\"]\n",
    "\n",
    "topics_data_cm_w_identifiers = pd.merge(identifiers_cm, topics_data_cm, on=cols, how=\"left\")\n",
    "\n",
    "topics_data_cm_w_identifiers"
   ]
  },
  {
   "cell_type": "code",
   "execution_count": null,
   "metadata": {},
   "outputs": [],
   "source": [
    "# Query the data\n",
    "\n",
    "topics_cm_subset= topics_data_cm_w_identifiers.query(f'month_id >= {StartOfHistory} & month_id <= {EndOfHistory} & country_id == {country_id}')\n",
    "\n",
    "topics_cm_subset # displays the subset"
   ]
  },
  {
   "cell_type": "markdown",
   "metadata": {},
   "source": [
    "## Create df with V-Dem data"
   ]
  },
  {
   "cell_type": "code",
   "execution_count": null,
   "metadata": {},
   "outputs": [],
   "source": [
    "vdem_data_cm = (Queryset(\"fatalities002_vdem_cm\", \"country_year\")\n",
    "\n",
    "# V-Dem\n",
    "\n",
    ".with_column(Column(\"vdem_v2x_libdem\", from_loa = \"country_year\", from_column = \"vdem_v2x_gender\"))                   \n",
    ")\n",
    "      \n",
    "vdem_data_cm = vdem_data_cm.publish().fetch()\n",
    "\n",
    "print(f\"A dataset with {len(vdem_data_cm.columns)} columns, with \"\n",
    "      f\"data between t {min(vdem_data_cm.index.get_level_values(0))} \"\n",
    "      f\"and {max(vdem_data_cm.index.get_level_values(0))}. \"\n",
    "      f\"({len(np.unique(vdem_data_cm.index.get_level_values(1)))} units)\"\n",
    "     )"
   ]
  },
  {
   "cell_type": "code",
   "execution_count": null,
   "metadata": {},
   "outputs": [],
   "source": [
    "vdem_data_cm.describe()"
   ]
  },
  {
   "cell_type": "code",
   "execution_count": null,
   "metadata": {},
   "outputs": [],
   "source": [
    "vdem_data_cm"
   ]
  },
  {
   "cell_type": "code",
   "execution_count": null,
   "metadata": {},
   "outputs": [],
   "source": [
    "# Fix discrepancies in column names\n",
    "\n",
    "vdem_data_cm = (\n",
    "    vdem_data_cm\n",
    "    .reset_index()\n",
    "    .rename(columns={'year_id': 'year'})\n",
    "    .set_index(['year', 'country_id'])\n",
    ")"
   ]
  },
  {
   "cell_type": "code",
   "execution_count": null,
   "metadata": {},
   "outputs": [],
   "source": [
    "vdem_data_cm\n"
   ]
  },
  {
   "cell_type": "code",
   "execution_count": null,
   "metadata": {},
   "outputs": [],
   "source": [
    "# Merge identifier df with data df\n",
    "\n",
    "cols = [\"country_id\", \"year\"]\n",
    "\n",
    "vdem_data_cm_w_identifiers = pd.merge(identifiers_cm, vdem_data_cm, on=cols, how=\"left\")\n",
    "\n",
    "vdem_data_cm_w_identifiers"
   ]
  },
  {
   "cell_type": "code",
   "execution_count": null,
   "metadata": {},
   "outputs": [],
   "source": [
    "# Query the data\n",
    "\n",
    "vdem_data_cm= vdem_data_cm.query(f'year >= 2023 & year <= 2025 & country_id == {country_id}')\n",
    "\n",
    "vdem_data_cm # displays the subset"
   ]
  },
  {
   "cell_type": "markdown",
   "metadata": {},
   "source": [
    "# WDI"
   ]
  },
  {
   "cell_type": "code",
   "execution_count": null,
   "metadata": {},
   "outputs": [],
   "source": [
    "wdi_data_cm = (Queryset(\"fatalities002_wdi_cm\", \"country_year\")\n",
    "\n",
    "# V-Dem\n",
    "\n",
    ".with_column(Column(\"wb_wdi_ny_gdp_pcap_kd\", from_loa = \"country_year\", from_column = \"wdi_ny_gdp_pcap_kd\"))\n",
    ".with_column(Column(\"wb_wdi_sp_dyn_le00_in\", from_loa = \"country_year\", from_column = \"wdi_sp_dyn_le00_in\"))                   \n",
    ".with_column(Column(\"wb_wdi_se_prm_nenr\", from_loa = \"country_year\", from_column = \"wdi_se_prm_nenr\"))                   \n",
    ".with_column(Column(\"wb_wdi_sp_pop_totl\", from_loa = \"country_year\", from_column = \"wdi_sp_pop_totl\"))                   \n",
    ".with_column(Column(\"wb_wdi_sp_dyn_imrt_in\", from_loa = \"country_year\", from_column = \"wdi_sp_dyn_imrt_in\"))                   \n",
    ")\n",
    "      \n",
    "wdi_data_cm = wdi_data_cm.publish().fetch()\n",
    "\n",
    "print(f\"A dataset with {len(wdi_data_cm.columns)} columns, with \"\n",
    "      f\"data between t {min(wdi_data_cm.index.get_level_values(0))} \"\n",
    "      f\"and {max(wdi_data_cm.index.get_level_values(0))}. \"\n",
    "      f\"({len(np.unique(wdi_data_cm.index.get_level_values(1)))} units)\"\n",
    "     )"
   ]
  },
  {
   "cell_type": "code",
   "execution_count": null,
   "metadata": {},
   "outputs": [],
   "source": [
    "wdi_data_cm.describe()"
   ]
  },
  {
   "cell_type": "code",
   "execution_count": null,
   "metadata": {},
   "outputs": [],
   "source": [
    "wdi_data_cm"
   ]
  },
  {
   "cell_type": "code",
   "execution_count": null,
   "metadata": {},
   "outputs": [],
   "source": [
    "# Fix discrepancies in column names\n",
    "\n",
    "wdi_data_cm = (\n",
    "    wdi_data_cm\n",
    "    .reset_index()\n",
    "    .rename(columns={'year_id': 'year'})\n",
    "    .set_index(['year', 'country_id'])\n",
    ")"
   ]
  },
  {
   "cell_type": "code",
   "execution_count": null,
   "metadata": {},
   "outputs": [],
   "source": [
    "# Merge identifier df with data df\n",
    "\n",
    "cols = [\"country_id\", \"year\"]\n",
    "\n",
    "wdi_data_cm_w_identifiers = pd.merge(identifiers_cm, wdi_data_cm, on=cols, how=\"left\")\n",
    "\n",
    "wdi_data_cm_w_identifiers"
   ]
  },
  {
   "cell_type": "code",
   "execution_count": null,
   "metadata": {},
   "outputs": [],
   "source": [
    "# Query the data\n",
    "\n",
    "wdi_data_cm= wdi_data_cm.query(f'year >= {StartYear} & year <= {EndYear} & country_id == {country_id}')\n",
    "\n",
    "wdi_data_cm # displays the subset"
   ]
  },
  {
   "cell_type": "code",
   "execution_count": null,
   "metadata": {},
   "outputs": [],
   "source": [
    "print(\"All done!\")"
   ]
  }
 ],
 "metadata": {
  "kernelspec": {
   "display_name": "viewser",
   "language": "python",
   "name": "python3"
  },
  "language_info": {
   "codemirror_mode": {
    "name": "ipython",
    "version": 3
   },
   "file_extension": ".py",
   "mimetype": "text/x-python",
   "name": "python",
   "nbconvert_exporter": "python",
   "pygments_lexer": "ipython3",
   "version": "3.11.10"
  }
 },
 "nbformat": 4,
 "nbformat_minor": 2
}
