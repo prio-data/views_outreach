{
 "cells": [
  {
   "cell_type": "markdown",
   "metadata": {},
   "source": [
    "# Test ingested data for the monthly run"
   ]
  },
  {
   "cell_type": "code",
   "execution_count": null,
   "metadata": {},
   "outputs": [],
   "source": [
    "# VIEWS 3\n",
    "from viewser import Queryset, Column\n",
    "from views_mapper2.label_writer import *"
   ]
  },
  {
   "cell_type": "markdown",
   "metadata": {},
   "source": [
    "## Prepare query for given time period and country"
   ]
  },
  {
   "cell_type": "code",
   "execution_count": null,
   "metadata": {},
   "outputs": [],
   "source": [
    "# Call the function\n",
    "\n",
    "def vid2date(i):\n",
    "    year=str(ViewsMonth(i).year)\n",
    "    month=str(ViewsMonth(i).month)\n",
    "    return year+'/'+month"
   ]
  },
  {
   "cell_type": "code",
   "execution_count": null,
   "metadata": {},
   "outputs": [],
   "source": [
    "# Choose year and month below to print the correlated `month_id`\n",
    "\n",
    "print(ViewsMonth.from_year_month(year=2024, month=10)) "
   ]
  },
  {
   "cell_type": "code",
   "execution_count": null,
   "metadata": {},
   "outputs": [],
   "source": [
    "# Set period to query for\n",
    "\n",
    "StartOfHistory = 538\n",
    "EndOfHistory = 539"
   ]
  },
  {
   "cell_type": "code",
   "execution_count": null,
   "metadata": {},
   "outputs": [],
   "source": [
    "# Set country to query for\n",
    "\n",
    "## Country name to country ID\n",
    "country_id = name_date2cid('Sudan','2017-07-01') # The date here is irrelevant"
   ]
  },
  {
   "cell_type": "markdown",
   "metadata": {},
   "source": [
    "## Create df with identifiers\n",
    "\n",
    "TODO: Merge with the dfs below for better overview"
   ]
  },
  {
   "cell_type": "code",
   "execution_count": null,
   "metadata": {},
   "outputs": [],
   "source": [
    "# Identifiers\n",
    "\n",
    "identifiers_cm = (Queryset(\"identifiers\", \"country_month\")\n",
    "\n",
    ".with_column(Column('year', from_loa = \"country_year\", from_column = 'year_id'))\n",
    ".with_column(Column('month', from_loa = \"month\", from_column = 'month'))\n",
    ".with_column(Column('isoab', from_loa = \"country\", from_column = 'isoab'))\n",
    ".with_column(Column('country', from_loa = \"country\", from_column = 'name'))\n",
    "\n",
    ")\n",
    "      \n",
    "identifiers_cm = identifiers_cm.publish().fetch()\n",
    "\n",
    "print(f\"A dataset with {len(identifiers_cm.columns)} columns, with \"\n",
    "      f\"data between t {min(identifiers_cm.index.get_level_values(0))} \"\n",
    "      f\"and {max(identifiers_cm.index.get_level_values(0))}. \"\n",
    "      f\"({len(np.unique(identifiers_cm.index.get_level_values(1)))} units)\"\n",
    "     )"
   ]
  },
  {
   "cell_type": "code",
   "execution_count": null,
   "metadata": {},
   "outputs": [],
   "source": [
    "identifiers_cm"
   ]
  },
  {
   "cell_type": "markdown",
   "metadata": {},
   "source": [
    "## Create df with UCDP data"
   ]
  },
  {
   "cell_type": "code",
   "execution_count": null,
   "metadata": {},
   "outputs": [],
   "source": [
    "ucdp_data_cm = (Queryset(\"fatalities002_ucdp_cm\", \"country_month\")\n",
    "\n",
    "# GED\n",
    "\n",
    ".with_column(Column(\"ucdp_ged_sb_best_sum\", from_loa = \"country_month\", from_column = \"ged_sb_best_sum_nokgi\"))                   \n",
    ".with_column(Column(\"ucdp_ged_os_best_sum\", from_loa = \"country_month\", from_column = \"ged_os_best_sum_nokgi\"))   \n",
    ".with_column(Column(\"ucdp_ged_ns_best_sum\", from_loa = \"country_month\", from_column = \"ged_ns_best_sum_nokgi\"))   \n",
    "\n",
    ")\n",
    "      \n",
    "ucdp_data_cm = ucdp_data_cm.publish().fetch()\n",
    "\n",
    "print(f\"A dataset with {len(ucdp_data_cm.columns)} columns, with \"\n",
    "      f\"data between t {min(ucdp_data_cm.index.get_level_values(0))} \"\n",
    "      f\"and {max(ucdp_data_cm.index.get_level_values(0))}. \"\n",
    "      f\"({len(np.unique(ucdp_data_cm.index.get_level_values(1)))} units)\"\n",
    "     )"
   ]
  },
  {
   "cell_type": "code",
   "execution_count": null,
   "metadata": {},
   "outputs": [],
   "source": [
    "ucdp_data_cm.describe()"
   ]
  },
  {
   "cell_type": "code",
   "execution_count": null,
   "metadata": {},
   "outputs": [],
   "source": [
    "# Query the data\n",
    "\n",
    "ged_cm_subset= ucdp_data_cm.query(f'month_id >= {StartOfHistory} & month_id <= {EndOfHistory} & country_id == {country_id}')\n",
    "\n",
    "ged_cm_subset # displays the subset"
   ]
  },
  {
   "cell_type": "markdown",
   "metadata": {},
   "source": [
    "## Create df with ACLED data"
   ]
  },
  {
   "cell_type": "code",
   "execution_count": null,
   "metadata": {},
   "outputs": [],
   "source": [
    "acled_data_cm = (Queryset(\"fatalities002_acled_cm\", \"country_month\")\n",
    "\n",
    "# ACLED\n",
    "\n",
    ".with_column(Column(\"acled_sb_count\", from_loa = \"country_month\", from_column = \"acled_sb_count\"))                   \n",
    ".with_column(Column(\"acled_sb_fat\", from_loa = \"country_month\", from_column = \"acled_sb_fat\"))                   \n",
    ".with_column(Column(\"acled_os_fat\", from_loa = \"country_month\", from_column = \"acled_os_fat\"))   \n",
    ".with_column(Column(\"acled_ns_fat\", from_loa = \"country_month\", from_column = \"acled_ns_fat\"))   \n",
    "\n",
    ")\n",
    "      \n",
    "acled_data_cm = acled_data_cm.publish().fetch()\n",
    "\n",
    "print(f\"A dataset with {len(acled_data_cm.columns)} columns, with \"\n",
    "      f\"data between t {min(acled_data_cm.index.get_level_values(0))} \"\n",
    "      f\"and {max(acled_data_cm.index.get_level_values(0))}. \"\n",
    "      f\"({len(np.unique(acled_data_cm.index.get_level_values(1)))} units)\"\n",
    "     )"
   ]
  },
  {
   "cell_type": "code",
   "execution_count": null,
   "metadata": {},
   "outputs": [],
   "source": [
    "acled_data_cm"
   ]
  },
  {
   "cell_type": "code",
   "execution_count": null,
   "metadata": {},
   "outputs": [],
   "source": [
    "acled_data_cm.describe()"
   ]
  },
  {
   "cell_type": "code",
   "execution_count": null,
   "metadata": {},
   "outputs": [],
   "source": [
    "# Query the data\n",
    "\n",
    "acled_cm_subset= acled_data_cm.query(f'month_id >= {StartOfHistory} & month_id <= {EndOfHistory} & country_id == {country_id}')\n",
    "\n",
    "acled_cm_subset # displays the subset"
   ]
  },
  {
   "cell_type": "markdown",
   "metadata": {},
   "source": [
    "## Create df with Topics data"
   ]
  },
  {
   "cell_type": "code",
   "execution_count": null,
   "metadata": {},
   "outputs": [],
   "source": [
    "topics_data_cm = (Queryset(\"fatalities002_topics_cm\", \"country_month\")\n",
    "\n",
    "# GED\n",
    "\n",
    ".with_column(Column(\"randomly_selected__column\", from_loa = \"country_month\", from_column = \"topic_ste_theta13\"))                   \n",
    ")\n",
    "      \n",
    "topics_data_cm = topics_data_cm.publish().fetch()\n",
    "\n",
    "print(f\"A dataset with {len(topics_data_cm.columns)} columns, with \"\n",
    "      f\"data between t {min(topics_data_cm.index.get_level_values(0))} \"\n",
    "      f\"and {max(topics_data_cm.index.get_level_values(0))}. \"\n",
    "      f\"({len(np.unique(topics_data_cm.index.get_level_values(1)))} units)\"\n",
    "     )"
   ]
  },
  {
   "cell_type": "code",
   "execution_count": null,
   "metadata": {},
   "outputs": [],
   "source": [
    "topics_data_cm.describe()"
   ]
  },
  {
   "cell_type": "code",
   "execution_count": null,
   "metadata": {},
   "outputs": [],
   "source": [
    "# Query the data\n",
    "\n",
    "topics_cm_subset= topics_data_cm.query(f'month_id >= {StartOfHistory} & month_id <= {EndOfHistory} & country_id == {country_id}')\n",
    "\n",
    "topics_cm_subset # displays the subset"
   ]
  },
  {
   "cell_type": "markdown",
   "metadata": {},
   "source": []
  }
 ],
 "metadata": {
  "kernelspec": {
   "display_name": "viewser",
   "language": "python",
   "name": "python3"
  },
  "language_info": {
   "codemirror_mode": {
    "name": "ipython",
    "version": 3
   },
   "file_extension": ".py",
   "mimetype": "text/x-python",
   "name": "python",
   "nbconvert_exporter": "python",
   "pygments_lexer": "ipython3",
   "version": "3.11.10"
  }
 },
 "nbformat": 4,
 "nbformat_minor": 2
}
