{
 "cells": [
  {
   "cell_type": "markdown",
   "metadata": {},
   "source": [
    "# Download the latest run from the API + check that predictor dataset is up to date\n",
    "- Rename the forecasts for upload to the VIEWS website. \n",
    "- Check that the predictor run contains the latest data.\n",
    "- (Optional: Check what month has the latest non-NaN value for any column in the df, to ensure that the column is up to date after ingestions)"
   ]
  },
  {
   "cell_type": "code",
   "execution_count": null,
   "metadata": {},
   "outputs": [],
   "source": [
    "import requests\n",
    "import pandas as pd\n",
    "import os\n",
    "import sys\n",
    "from pathlib import Path\n",
    "import numpy as np\n",
    "import matplotlib.pyplot as plt\n"
   ]
  },
  {
   "cell_type": "code",
   "execution_count": null,
   "metadata": {},
   "outputs": [],
   "source": [
    "# Get the root directory of the project, so that the functions can be imported\n",
    "root_dir = Path(os.path.abspath(os.path.join(os.getcwd(), '..')))\n",
    "sys.path.append(str(root_dir))\n",
    "\n",
    "from utils import functions as f"
   ]
  },
  {
   "cell_type": "markdown",
   "metadata": {},
   "source": [
    "## Download forecasts "
   ]
  },
  {
   "cell_type": "code",
   "execution_count": null,
   "metadata": {},
   "outputs": [],
   "source": [
    "dataset = 'fatalities002_2024_09_t01' # Change dataset here\n",
    "\n",
    "api_calls = [f'https://api.viewsforecasting.org/{dataset}/cm', \n",
    "             f'https://api.viewsforecasting.org/{dataset}/pgm']\n"
   ]
  },
  {
   "cell_type": "code",
   "execution_count": null,
   "metadata": {},
   "outputs": [],
   "source": [
    "# Loop through the API calls for cm and pgm and download the data\n",
    "\n",
    "for api_call in api_calls:\n",
    "    if api_call == f'https://api.viewsforecasting.org/{dataset}/cm':\n",
    "        filename = f'{dataset}_cm'\n",
    "    else:\n",
    "        filename = f'{dataset}_pgm'\n",
    "    f.fetch_data_from_api(api_call, csv=True, save_path='Desktop/', filename=filename)\n",
    "    print(f'{filename} downloaded. Proceeding to the next dataset...')\n",
    "\n",
    "print('All done!')"
   ]
  },
  {
   "cell_type": "markdown",
   "metadata": {},
   "source": [
    "## Fetch predictor data to check it"
   ]
  },
  {
   "cell_type": "code",
   "execution_count": null,
   "metadata": {},
   "outputs": [],
   "source": [
    "api_call = 'https://api.viewsforecasting.org/predictors_fatalities002_0000_00/cm'\n",
    "predictors = f.fetch_data_from_api(api_call, csv=False, save_path='Desktop/', filename=filename)\n",
    "predictors"
   ]
  },
  {
   "cell_type": "markdown",
   "metadata": {},
   "source": []
  },
  {
   "cell_type": "code",
   "execution_count": null,
   "metadata": {},
   "outputs": [],
   "source": [
    "# Quick check for last month of non-NaN value for any column in the df, to ensure that the data is up to date\n",
    "\n",
    "column = 'wb_wdi_sp_pop_totl' # Change column here\n",
    "\n",
    "last_non_nan_index = predictors[column].last_valid_index()\n",
    "\n",
    "# Get the corresponding value in the 'month_id' column\n",
    "if last_non_nan_index is not None:\n",
    "    last_non_nan_month_id = predictors.loc[last_non_nan_index, 'month_id']\n",
    "    print(f\"The corresponding month_id of the last non-NaN value in {column}:\", last_non_nan_month_id)\n",
    "else:\n",
    "    print(\"No non-NaN values found in the column.\")"
   ]
  },
  {
   "cell_type": "code",
   "execution_count": null,
   "metadata": {},
   "outputs": [],
   "source": [
    "print('All done!')"
   ]
  }
 ],
 "metadata": {
  "kernelspec": {
   "display_name": "viewser",
   "language": "python",
   "name": "python3"
  },
  "language_info": {
   "codemirror_mode": {
    "name": "ipython",
    "version": 3
   },
   "file_extension": ".py",
   "mimetype": "text/x-python",
   "name": "python",
   "nbconvert_exporter": "python",
   "pygments_lexer": "ipython3",
   "version": "3.11.9"
  }
 },
 "nbformat": 4,
 "nbformat_minor": 2
}
